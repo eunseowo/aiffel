{
 "cells": [
  {
   "cell_type": "markdown",
   "id": "87f53ced-faf8-41f5-955e-4adec4e07cd9",
   "metadata": {},
   "source": [
    "## Quest 03: AARRR 분석/통계분석"
   ]
  },
  {
   "cell_type": "markdown",
   "id": "22667282-dff0-41e4-b5e1-49cc4546800c",
   "metadata": {},
   "source": [
    "---"
   ]
  },
  {
   "cell_type": "markdown",
   "id": "8726c7a9-9d90-4051-9dc0-016617c549e0",
   "metadata": {},
   "source": [
    "### 1. 분석 상황\n",
    "\n",
    "<!-- INFO 박스 -->\n",
    "<div style=\"background-color:#e7f3fe; padding:10px; border-radius:5px; border-left: 5px solid #2196F3;\">\n",
    "ℹ️ <b>INFO</b><br>\n",
    "문제 1 ~ 9 번: 여러분은 E-commere  플랫폼 기업에 입사했다. 데이터사이언티스트의 역할로 비즈니스 지표를 정의하고 분석보고서를 내는 프로젝트에 참여하게 되었다. 다음 문제들을 풀어보자.\n",
    "\n",
    "AARRR을 포함한 **비즈니스 지표는 정답이 없으며 회사의 상황과 의사결정자의 판단에 따라 적절한 지표를 선택해주는 것이 중요**하다. 문제는 문제대로 풀되, AARRR 지표에 더 좋은 옵션이 있으면 추가적으로 고민하고 기술하면서 분석역량을 키워보는 것이 목표!\n",
    "</div>\n"
   ]
  },
  {
   "cell_type": "markdown",
   "id": "634e92b2-53b9-42e5-9b8e-34bbfcd364b5",
   "metadata": {},
   "source": [
    "### 2. 데이터 설명\n",
    "\n",
    "- 데이터 출처: https://archive.ics.uci.edu/dataset/502/online+retail+ii\n",
    "|열|이름|설명|\n",
    "|---|---|---|\n",
    "|`InvoiceNo`\t|인보이스(거래) 번호. 명목형. 6자리 정수. 거래마다 고유하게 부여됨. 'C'로 시작하면 취소된 거래를 의미함.|\n",
    "|`StockCode`\t|상품 코드. 명목형. 5자리 정수. 각각 다른 상품에 고유하게 부여된 번호.|\n",
    "|`Description`\t|상품 이름. 명목형. 상품의 이름/설명.|\n",
    "|`Quantity`\t|수량. 수치형. 거래당 해당 상품이 몇 개 팔렸는지.|\n",
    "|`InvoiceDate`\t|거래 일시. 수치형. 거래가 발생한 날짜와 시간.|\n",
    "|`UnitPrice`\t|단가. 수치형. 상품 1개당 가격 (단위: 영국 파운드 £).|\n",
    "|`CustomerID`\t|고객 번호. 명목형. 5자리 정수. 고객마다 고유하게 부여된 번호.|\n",
    "|`Country`\t|국가 이름. 명목형. 고객이 거주하는 국가 이름.|"
   ]
  },
  {
   "cell_type": "markdown",
   "id": "2a5fc3df-38ca-41b3-8e8e-91ede91a381b",
   "metadata": {},
   "source": [
    "### 3. 문제"
   ]
  },
  {
   "cell_type": "code",
   "execution_count": 45,
   "id": "d444f589-b1b9-47f1-9191-cbdc61ceb205",
   "metadata": {},
   "outputs": [],
   "source": [
    "import pandas as pd\n",
    "import matplotlib.pyplot as plt\n",
    "import seaborn as sns\n",
    "import numpy as np"
   ]
  },
  {
   "cell_type": "code",
   "execution_count": null,
   "id": "d87c470d-bc15-4b19-a26c-86d14c3a99e0",
   "metadata": {},
   "outputs": [],
   "source": [
    "file_path1 = 'C:/Users/daydr/Statistics/online_retail_20092010.csv'\n",
    "file_path2 = 'C:/Users/daydr/Statistics/online_retail_20102011.csv'\n",
    "\n",
    "# CSV 읽기\n",
    "df1 = pd.read_csv(file_path1)\n",
    "df2 = pd.read_csv(file_path2)\n",
    "\n",
    "# 데이터 확인\n",
    "print(df1.head())\n",
    "print(df2.head())"
   ]
  },
  {
   "cell_type": "code",
   "execution_count": null,
   "id": "e2675de6-faea-462b-849b-e7e4dcb7f08f",
   "metadata": {},
   "outputs": [],
   "source": [
    "online_retail = pd.concat([df1, df2], ignore_index=True)\n",
    "\n",
    "online_retail.to_csv('C:/Users/daydr/Statistics/online_retail.csv', index=False)"
   ]
  },
  {
   "cell_type": "markdown",
   "id": "2d67d6fe-9fcc-432c-946c-2a41d388d2dd",
   "metadata": {},
   "source": [
    "#### 3-1. 데이터 로드 및 탐색\n",
    "\n",
    "- **데이터의 첫 5개 행을 출력**하여 데이터 형식을 확인해라.\n",
    "- **데이터프레임의 컬럼 정보**와 **결측치 여부**를 확인하고 전처리 전략을 고민해보자. "
   ]
  },
  {
   "cell_type": "code",
   "execution_count": 15,
   "id": "c28bbfc5-9937-4d94-96b2-3600a127a504",
   "metadata": {
    "scrolled": true
   },
   "outputs": [
    {
     "data": {
      "text/html": [
       "<div>\n",
       "<style scoped>\n",
       "    .dataframe tbody tr th:only-of-type {\n",
       "        vertical-align: middle;\n",
       "    }\n",
       "\n",
       "    .dataframe tbody tr th {\n",
       "        vertical-align: top;\n",
       "    }\n",
       "\n",
       "    .dataframe thead th {\n",
       "        text-align: right;\n",
       "    }\n",
       "</style>\n",
       "<table border=\"1\" class=\"dataframe\">\n",
       "  <thead>\n",
       "    <tr style=\"text-align: right;\">\n",
       "      <th></th>\n",
       "      <th>Invoice</th>\n",
       "      <th>StockCode</th>\n",
       "      <th>Description</th>\n",
       "      <th>Quantity</th>\n",
       "      <th>InvoiceDate</th>\n",
       "      <th>Price</th>\n",
       "      <th>Customer ID</th>\n",
       "      <th>Country</th>\n",
       "    </tr>\n",
       "  </thead>\n",
       "  <tbody>\n",
       "    <tr>\n",
       "      <th>0</th>\n",
       "      <td>489434</td>\n",
       "      <td>85048</td>\n",
       "      <td>15CM CHRISTMAS GLASS BALL 20 LIGHTS</td>\n",
       "      <td>12</td>\n",
       "      <td>2009-12-01 7:45</td>\n",
       "      <td>6.95</td>\n",
       "      <td>13085.0</td>\n",
       "      <td>United Kingdom</td>\n",
       "    </tr>\n",
       "    <tr>\n",
       "      <th>1</th>\n",
       "      <td>489434</td>\n",
       "      <td>79323P</td>\n",
       "      <td>PINK CHERRY LIGHTS</td>\n",
       "      <td>12</td>\n",
       "      <td>2009-12-01 7:45</td>\n",
       "      <td>6.75</td>\n",
       "      <td>13085.0</td>\n",
       "      <td>United Kingdom</td>\n",
       "    </tr>\n",
       "    <tr>\n",
       "      <th>2</th>\n",
       "      <td>489434</td>\n",
       "      <td>79323W</td>\n",
       "      <td>WHITE CHERRY LIGHTS</td>\n",
       "      <td>12</td>\n",
       "      <td>2009-12-01 7:45</td>\n",
       "      <td>6.75</td>\n",
       "      <td>13085.0</td>\n",
       "      <td>United Kingdom</td>\n",
       "    </tr>\n",
       "    <tr>\n",
       "      <th>3</th>\n",
       "      <td>489434</td>\n",
       "      <td>22041</td>\n",
       "      <td>RECORD FRAME 7\" SINGLE SIZE</td>\n",
       "      <td>48</td>\n",
       "      <td>2009-12-01 7:45</td>\n",
       "      <td>2.10</td>\n",
       "      <td>13085.0</td>\n",
       "      <td>United Kingdom</td>\n",
       "    </tr>\n",
       "    <tr>\n",
       "      <th>4</th>\n",
       "      <td>489434</td>\n",
       "      <td>21232</td>\n",
       "      <td>STRAWBERRY CERAMIC TRINKET BOX</td>\n",
       "      <td>24</td>\n",
       "      <td>2009-12-01 7:45</td>\n",
       "      <td>1.25</td>\n",
       "      <td>13085.0</td>\n",
       "      <td>United Kingdom</td>\n",
       "    </tr>\n",
       "  </tbody>\n",
       "</table>\n",
       "</div>"
      ],
      "text/plain": [
       "  Invoice StockCode                          Description  Quantity  \\\n",
       "0  489434     85048  15CM CHRISTMAS GLASS BALL 20 LIGHTS        12   \n",
       "1  489434    79323P                   PINK CHERRY LIGHTS        12   \n",
       "2  489434    79323W                  WHITE CHERRY LIGHTS        12   \n",
       "3  489434     22041         RECORD FRAME 7\" SINGLE SIZE         48   \n",
       "4  489434     21232       STRAWBERRY CERAMIC TRINKET BOX        24   \n",
       "\n",
       "       InvoiceDate  Price  Customer ID         Country  \n",
       "0  2009-12-01 7:45   6.95      13085.0  United Kingdom  \n",
       "1  2009-12-01 7:45   6.75      13085.0  United Kingdom  \n",
       "2  2009-12-01 7:45   6.75      13085.0  United Kingdom  \n",
       "3  2009-12-01 7:45   2.10      13085.0  United Kingdom  \n",
       "4  2009-12-01 7:45   1.25      13085.0  United Kingdom  "
      ]
     },
     "execution_count": 15,
     "metadata": {},
     "output_type": "execute_result"
    }
   ],
   "source": [
    "# 데이터의 첫 5개 행을 출력하여 데이터 형식을 확인하자. \n",
    "\n",
    "online_retail.head()"
   ]
  },
  {
   "cell_type": "code",
   "execution_count": 19,
   "id": "5f09645b-d4c3-4aee-ad96-5ce03608d774",
   "metadata": {
    "scrolled": true
   },
   "outputs": [
    {
     "name": "stdout",
     "output_type": "stream",
     "text": [
      "<class 'pandas.core.frame.DataFrame'>\n",
      "RangeIndex: 1067371 entries, 0 to 1067370\n",
      "Data columns (total 8 columns):\n",
      " #   Column       Non-Null Count    Dtype  \n",
      "---  ------       --------------    -----  \n",
      " 0   Invoice      1067371 non-null  object \n",
      " 1   StockCode    1067371 non-null  object \n",
      " 2   Description  1062989 non-null  object \n",
      " 3   Quantity     1067371 non-null  int64  \n",
      " 4   InvoiceDate  1067371 non-null  object \n",
      " 5   Price        1067371 non-null  float64\n",
      " 6   Customer ID  824364 non-null   float64\n",
      " 7   Country      1067371 non-null  object \n",
      "dtypes: float64(2), int64(1), object(5)\n",
      "memory usage: 65.1+ MB\n"
     ]
    }
   ],
   "source": [
    "# 컬럼명과 자료형 확인\n",
    "\n",
    "online_retail.info()"
   ]
  },
  {
   "cell_type": "code",
   "execution_count": 21,
   "id": "342e0497-6779-4b3c-83f1-1cd1efc46b88",
   "metadata": {},
   "outputs": [
    {
     "data": {
      "text/plain": [
       "Invoice             0\n",
       "StockCode           0\n",
       "Description      4382\n",
       "Quantity            0\n",
       "InvoiceDate         0\n",
       "Price               0\n",
       "Customer ID    243007\n",
       "Country             0\n",
       "dtype: int64"
      ]
     },
     "execution_count": 21,
     "metadata": {},
     "output_type": "execute_result"
    }
   ],
   "source": [
    "# 결측치 확인\n",
    "\n",
    "online_retail.isna().sum()"
   ]
  },
  {
   "cell_type": "markdown",
   "id": "2f97ac37-e40b-444b-97c5-b27018efdbc4",
   "metadata": {},
   "source": [
    "- `Customer ID` -> 결측치 제거\n",
    "- `InvoiceDate` -> 데이터 타입 바꾸기"
   ]
  },
  {
   "cell_type": "markdown",
   "id": "5e82de6d-6df5-4f1b-aaf5-e062bf89667b",
   "metadata": {
    "jp-MarkdownHeadingCollapsed": true
   },
   "source": [
    "#### 3-2. 데이터 전처리\n",
    "\n",
    "- `InvoiceDate` 컬럼을 날짜 형식으로 변환하고, `Customer ID`에 결측치가 있는 행을 제거하자. \n",
    "- `Customer ID`를 정수형으로 변환한 후, `InvoiceDate`를 기준으로 데이터를 정렬하자.\n",
    "- 금액을 나타내는 새로운 컬럼 `Total` 을 생성하라. (`Quantity`와 `Price`를 곱한 값)."
   ]
  },
  {
   "cell_type": "code",
   "execution_count": 25,
   "id": "9a39c184-a3fc-4979-bf14-0cfabfdb98a5",
   "metadata": {},
   "outputs": [],
   "source": [
    "# 날짜 형식 변환\n",
    "online_retail['InvoiceDate'] = pd.to_datetime(online_retail['InvoiceDate'])"
   ]
  },
  {
   "cell_type": "code",
   "execution_count": 27,
   "id": "aec4cf7b-dc7b-450a-a315-10153cab5ad8",
   "metadata": {},
   "outputs": [
    {
     "data": {
      "text/plain": [
       "Invoice        0.0\n",
       "StockCode      0.0\n",
       "Description    0.0\n",
       "Quantity       0.0\n",
       "InvoiceDate    0.0\n",
       "Price          0.0\n",
       "Customer ID    0.0\n",
       "Country        0.0\n",
       "dtype: float64"
      ]
     },
     "execution_count": 27,
     "metadata": {},
     "output_type": "execute_result"
    }
   ],
   "source": [
    "# 결측치 제거\n",
    "online_retail = online_retail.dropna(subset = ['Customer ID'])\n",
    "online_retail.isna().mean()"
   ]
  },
  {
   "cell_type": "code",
   "execution_count": 29,
   "id": "3d246671-3246-4d04-bdc0-14c0bb55a4a8",
   "metadata": {},
   "outputs": [],
   "source": [
    "# 정수형으로 변환 후 데이터 정렬\n",
    "online_retail['Customer ID'] = online_retail['Customer ID'].astype(int)\n",
    "online_retail = online_retail.sort_values(by='InvoiceDate')\n",
    "\n",
    "# 새로운 컬럼 생성 (총 금액)\n",
    "online_retail['Total'] = online_retail['Quantity'] * online_retail['Price']"
   ]
  },
  {
   "cell_type": "code",
   "execution_count": 31,
   "id": "d760efd9-339a-40f4-bd29-466e63441c94",
   "metadata": {},
   "outputs": [
    {
     "data": {
      "text/html": [
       "<div>\n",
       "<style scoped>\n",
       "    .dataframe tbody tr th:only-of-type {\n",
       "        vertical-align: middle;\n",
       "    }\n",
       "\n",
       "    .dataframe tbody tr th {\n",
       "        vertical-align: top;\n",
       "    }\n",
       "\n",
       "    .dataframe thead th {\n",
       "        text-align: right;\n",
       "    }\n",
       "</style>\n",
       "<table border=\"1\" class=\"dataframe\">\n",
       "  <thead>\n",
       "    <tr style=\"text-align: right;\">\n",
       "      <th></th>\n",
       "      <th>Invoice</th>\n",
       "      <th>StockCode</th>\n",
       "      <th>Description</th>\n",
       "      <th>Quantity</th>\n",
       "      <th>InvoiceDate</th>\n",
       "      <th>Price</th>\n",
       "      <th>Customer ID</th>\n",
       "      <th>Country</th>\n",
       "      <th>Total</th>\n",
       "    </tr>\n",
       "  </thead>\n",
       "  <tbody>\n",
       "    <tr>\n",
       "      <th>0</th>\n",
       "      <td>489434</td>\n",
       "      <td>85048</td>\n",
       "      <td>15CM CHRISTMAS GLASS BALL 20 LIGHTS</td>\n",
       "      <td>12</td>\n",
       "      <td>2009-12-01 07:45:00</td>\n",
       "      <td>6.95</td>\n",
       "      <td>13085</td>\n",
       "      <td>United Kingdom</td>\n",
       "      <td>83.4</td>\n",
       "    </tr>\n",
       "    <tr>\n",
       "      <th>1</th>\n",
       "      <td>489434</td>\n",
       "      <td>79323P</td>\n",
       "      <td>PINK CHERRY LIGHTS</td>\n",
       "      <td>12</td>\n",
       "      <td>2009-12-01 07:45:00</td>\n",
       "      <td>6.75</td>\n",
       "      <td>13085</td>\n",
       "      <td>United Kingdom</td>\n",
       "      <td>81.0</td>\n",
       "    </tr>\n",
       "    <tr>\n",
       "      <th>2</th>\n",
       "      <td>489434</td>\n",
       "      <td>79323W</td>\n",
       "      <td>WHITE CHERRY LIGHTS</td>\n",
       "      <td>12</td>\n",
       "      <td>2009-12-01 07:45:00</td>\n",
       "      <td>6.75</td>\n",
       "      <td>13085</td>\n",
       "      <td>United Kingdom</td>\n",
       "      <td>81.0</td>\n",
       "    </tr>\n",
       "    <tr>\n",
       "      <th>3</th>\n",
       "      <td>489434</td>\n",
       "      <td>22041</td>\n",
       "      <td>RECORD FRAME 7\" SINGLE SIZE</td>\n",
       "      <td>48</td>\n",
       "      <td>2009-12-01 07:45:00</td>\n",
       "      <td>2.10</td>\n",
       "      <td>13085</td>\n",
       "      <td>United Kingdom</td>\n",
       "      <td>100.8</td>\n",
       "    </tr>\n",
       "    <tr>\n",
       "      <th>4</th>\n",
       "      <td>489434</td>\n",
       "      <td>21232</td>\n",
       "      <td>STRAWBERRY CERAMIC TRINKET BOX</td>\n",
       "      <td>24</td>\n",
       "      <td>2009-12-01 07:45:00</td>\n",
       "      <td>1.25</td>\n",
       "      <td>13085</td>\n",
       "      <td>United Kingdom</td>\n",
       "      <td>30.0</td>\n",
       "    </tr>\n",
       "  </tbody>\n",
       "</table>\n",
       "</div>"
      ],
      "text/plain": [
       "  Invoice StockCode                          Description  Quantity  \\\n",
       "0  489434     85048  15CM CHRISTMAS GLASS BALL 20 LIGHTS        12   \n",
       "1  489434    79323P                   PINK CHERRY LIGHTS        12   \n",
       "2  489434    79323W                  WHITE CHERRY LIGHTS        12   \n",
       "3  489434     22041         RECORD FRAME 7\" SINGLE SIZE         48   \n",
       "4  489434     21232       STRAWBERRY CERAMIC TRINKET BOX        24   \n",
       "\n",
       "          InvoiceDate  Price  Customer ID         Country  Total  \n",
       "0 2009-12-01 07:45:00   6.95        13085  United Kingdom   83.4  \n",
       "1 2009-12-01 07:45:00   6.75        13085  United Kingdom   81.0  \n",
       "2 2009-12-01 07:45:00   6.75        13085  United Kingdom   81.0  \n",
       "3 2009-12-01 07:45:00   2.10        13085  United Kingdom  100.8  \n",
       "4 2009-12-01 07:45:00   1.25        13085  United Kingdom   30.0  "
      ]
     },
     "execution_count": 31,
     "metadata": {},
     "output_type": "execute_result"
    }
   ],
   "source": [
    "online_retail.head()"
   ]
  },
  {
   "cell_type": "markdown",
   "id": "d985ac65-e07d-4b9e-9ead-43b19ea2a5d5",
   "metadata": {},
   "source": [
    "#### 3-3. 나라별 구매 인원 시각화\n",
    "\n",
    "`Country` 컬럼을 기준으로 `Customer ID`의 유니크한 값을 계산하여 나라별 구매 고객 수를 시각화 해보자. "
   ]
  },
  {
   "cell_type": "code",
   "execution_count": 64,
   "id": "5a0b381a-fcb9-456e-8de8-1d97ef3c4450",
   "metadata": {},
   "outputs": [
    {
     "data": {
      "text/plain": [
       "Country\n",
       "United Kingdom          5410\n",
       "Germany                  107\n",
       "France                    95\n",
       "Spain                     41\n",
       "Belgium                   29\n",
       "Portugal                  24\n",
       "Netherlands               23\n",
       "Switzerland               22\n",
       "Sweden                    19\n",
       "Italy                     17\n",
       "Finland                   15\n",
       "Australia                 15\n",
       "Channel Islands           14\n",
       "Norway                    13\n",
       "Austria                   13\n",
       "Denmark                   12\n",
       "Cyprus                    11\n",
       "Japan                     10\n",
       "USA                        9\n",
       "Unspecified                7\n",
       "Poland                     6\n",
       "Greece                     5\n",
       "EIRE                       5\n",
       "Canada                     5\n",
       "Israel                     4\n",
       "United Arab Emirates       4\n",
       "Malta                      2\n",
       "Bahrain                    2\n",
       "Brazil                     2\n",
       "RSA                        2\n",
       "Korea                      2\n",
       "Czech Republic             1\n",
       "Iceland                    1\n",
       "Lebanon                    1\n",
       "Lithuania                  1\n",
       "European Community         1\n",
       "Nigeria                    1\n",
       "Singapore                  1\n",
       "Saudi Arabia               1\n",
       "Thailand                   1\n",
       "West Indies                1\n",
       "Name: Customer ID, dtype: int64"
      ]
     },
     "execution_count": 64,
     "metadata": {},
     "output_type": "execute_result"
    }
   ],
   "source": [
    "country_customers = online_retail.groupby('Country')['Customer ID'].nunique()\n",
    "country_customers = country_customers.sort_values(ascending=False) # 정렬\n",
    "country_customers"
   ]
  },
  {
   "cell_type": "code",
   "execution_count": 65,
   "id": "687ff2ad-ee8c-400d-b3f9-5c0b3469b924",
   "metadata": {
    "scrolled": true
   },
   "outputs": [
    {
     "data": {
      "image/png": "[encoded data removed]",
      "text/plain": [
       "<Figure size 1200x600 with 1 Axes>"
      ]
     },
     "metadata": {},
     "output_type": "display_data"
    }
   ],
   "source": [
    "plt.figure(figsize=(12,6))\n",
    "country_customers.plot(kind='bar')\n",
    "plt.title('Countries with Largest Number of Unique Customers')\n",
    "plt.xlabel('Countries')\n",
    "plt.ylabel('Number of Unique Customers')\n",
    "plt.xticks(rotation=45, ha='right')\n",
    "plt.tight_layout()\n",
    "plt.show()"
   ]
  },
  {
   "cell_type": "markdown",
   "id": "19775260-cd40-4f96-9380-391ce37951eb",
   "metadata": {},
   "source": [
    "#### 3-4. Acquisition (고객 유입 분석)\n",
    "- 신규 고객 분석을 위해 고객의 **첫 구매 시점**을 기준으로 월별 신규 유입 고객 수를 계산하자.\n",
    "- 각 고객의 첫 구매 날짜를 추출하고, **월별 신규 고객 수**를 시각화하자."
   ]
  },
  {
   "cell_type": "markdown",
   "id": "3cf9ee25-925c-4671-b3b1-8e074854d5ab",
   "metadata": {},
   "source": [
    "1. `Customer ID`로 그룹화 해서 첫 구매일 찾기\n",
    "2. 첫 구매일을 연-월로 변환\n",
    "3. 고객 수 세기\n",
    "4. 시각화\n",
    "\n",
    "-> 이런 흐름이면 찾을 수 있을 것 같다."
   ]
  },
  {
   "cell_type": "code",
   "execution_count": 158,
   "id": "f286ae04-0ddd-4ee5-902a-21257ffa7747",
   "metadata": {},
   "outputs": [],
   "source": [
    "first_purchase = online_retail.groupby('Customer ID')['InvoiceDate'].min().reset_index()\n",
    "first_purchase.columns = ['Customer ID', 'FirstPurchaseDate']"
   ]
  },
  {
   "cell_type": "code",
   "execution_count": 159,
   "id": "7e0913fe-7656-4250-9b3d-c04b144bdd01",
   "metadata": {},
   "outputs": [
    {
     "data": {
      "text/html": [
       "<div>\n",
       "<style scoped>\n",
       "    .dataframe tbody tr th:only-of-type {\n",
       "        vertical-align: middle;\n",
       "    }\n",
       "\n",
       "    .dataframe tbody tr th {\n",
       "        vertical-align: top;\n",
       "    }\n",
       "\n",
       "    .dataframe thead th {\n",
       "        text-align: right;\n",
       "    }\n",
       "</style>\n",
       "<table border=\"1\" class=\"dataframe\">\n",
       "  <thead>\n",
       "    <tr style=\"text-align: right;\">\n",
       "      <th></th>\n",
       "      <th>Customer ID</th>\n",
       "      <th>FirstPurchaseDate</th>\n",
       "    </tr>\n",
       "  </thead>\n",
       "  <tbody>\n",
       "    <tr>\n",
       "      <th>0</th>\n",
       "      <td>12346</td>\n",
       "      <td>2009-12-14 08:34:00</td>\n",
       "    </tr>\n",
       "    <tr>\n",
       "      <th>1</th>\n",
       "      <td>12347</td>\n",
       "      <td>2010-10-31 14:20:00</td>\n",
       "    </tr>\n",
       "    <tr>\n",
       "      <th>2</th>\n",
       "      <td>12348</td>\n",
       "      <td>2010-09-27 14:59:00</td>\n",
       "    </tr>\n",
       "    <tr>\n",
       "      <th>3</th>\n",
       "      <td>12349</td>\n",
       "      <td>2009-12-04 12:49:00</td>\n",
       "    </tr>\n",
       "    <tr>\n",
       "      <th>4</th>\n",
       "      <td>12350</td>\n",
       "      <td>2011-02-02 16:01:00</td>\n",
       "    </tr>\n",
       "  </tbody>\n",
       "</table>\n",
       "</div>"
      ],
      "text/plain": [
       "   Customer ID   FirstPurchaseDate\n",
       "0        12346 2009-12-14 08:34:00\n",
       "1        12347 2010-10-31 14:20:00\n",
       "2        12348 2010-09-27 14:59:00\n",
       "3        12349 2009-12-04 12:49:00\n",
       "4        12350 2011-02-02 16:01:00"
      ]
     },
     "execution_count": 159,
     "metadata": {},
     "output_type": "execute_result"
    }
   ],
   "source": [
    "first_purchase.head() # 확인"
   ]
  },
  {
   "cell_type": "code",
   "execution_count": 160,
   "id": "d3c8127e-67d7-48c7-ac5a-0b8fe5f12908",
   "metadata": {},
   "outputs": [],
   "source": [
    "# 첫 구매일을 연-월 단위로 변환하자. \n",
    "first_purchase['FirstPurchaseMonth'] = first_purchase['FirstPurchaseDate'].dt.to_period('M')"
   ]
  },
  {
   "cell_type": "markdown",
   "id": "e93686db-a461-42cd-a702-8c8b40c52eaf",
   "metadata": {},
   "source": [
    "<!-- TIP 박스 -->\n",
    "<div style=\"background-color:#e6ffed; padding:10px; border-radius:5px; border-left: 5px solid #4CAF50;\">\n",
    "💡 <b>TIP</b><br>\n",
    "reset_index() <br>\n",
    "안 하면 : pandas Series (1열짜리 데이터)\n",
    "\n",
    "하면 : pandas DataFrame (2열 이상: 인덱스 + 값)\n",
    "</div>\n"
   ]
  },
  {
   "cell_type": "code",
   "execution_count": 161,
   "id": "2d93c55c-50b4-43ba-89af-5bf394a27ea7",
   "metadata": {},
   "outputs": [
    {
     "data": {
      "text/html": [
       "<div>\n",
       "<style scoped>\n",
       "    .dataframe tbody tr th:only-of-type {\n",
       "        vertical-align: middle;\n",
       "    }\n",
       "\n",
       "    .dataframe tbody tr th {\n",
       "        vertical-align: top;\n",
       "    }\n",
       "\n",
       "    .dataframe thead th {\n",
       "        text-align: right;\n",
       "    }\n",
       "</style>\n",
       "<table border=\"1\" class=\"dataframe\">\n",
       "  <thead>\n",
       "    <tr style=\"text-align: right;\">\n",
       "      <th></th>\n",
       "      <th>FirstPurchaseMonth</th>\n",
       "      <th>count</th>\n",
       "    </tr>\n",
       "  </thead>\n",
       "  <tbody>\n",
       "    <tr>\n",
       "      <th>0</th>\n",
       "      <td>2009-12</td>\n",
       "      <td>1045</td>\n",
       "    </tr>\n",
       "    <tr>\n",
       "      <th>1</th>\n",
       "      <td>2010-01</td>\n",
       "      <td>394</td>\n",
       "    </tr>\n",
       "    <tr>\n",
       "      <th>2</th>\n",
       "      <td>2010-02</td>\n",
       "      <td>363</td>\n",
       "    </tr>\n",
       "    <tr>\n",
       "      <th>3</th>\n",
       "      <td>2010-03</td>\n",
       "      <td>436</td>\n",
       "    </tr>\n",
       "    <tr>\n",
       "      <th>4</th>\n",
       "      <td>2010-04</td>\n",
       "      <td>291</td>\n",
       "    </tr>\n",
       "    <tr>\n",
       "      <th>5</th>\n",
       "      <td>2010-05</td>\n",
       "      <td>254</td>\n",
       "    </tr>\n",
       "    <tr>\n",
       "      <th>6</th>\n",
       "      <td>2010-06</td>\n",
       "      <td>269</td>\n",
       "    </tr>\n",
       "    <tr>\n",
       "      <th>7</th>\n",
       "      <td>2010-07</td>\n",
       "      <td>183</td>\n",
       "    </tr>\n",
       "    <tr>\n",
       "      <th>8</th>\n",
       "      <td>2010-08</td>\n",
       "      <td>158</td>\n",
       "    </tr>\n",
       "    <tr>\n",
       "      <th>9</th>\n",
       "      <td>2010-09</td>\n",
       "      <td>242</td>\n",
       "    </tr>\n",
       "    <tr>\n",
       "      <th>10</th>\n",
       "      <td>2010-10</td>\n",
       "      <td>379</td>\n",
       "    </tr>\n",
       "    <tr>\n",
       "      <th>11</th>\n",
       "      <td>2010-11</td>\n",
       "      <td>322</td>\n",
       "    </tr>\n",
       "    <tr>\n",
       "      <th>12</th>\n",
       "      <td>2010-12</td>\n",
       "      <td>77</td>\n",
       "    </tr>\n",
       "    <tr>\n",
       "      <th>13</th>\n",
       "      <td>2011-01</td>\n",
       "      <td>71</td>\n",
       "    </tr>\n",
       "    <tr>\n",
       "      <th>14</th>\n",
       "      <td>2011-02</td>\n",
       "      <td>123</td>\n",
       "    </tr>\n",
       "    <tr>\n",
       "      <th>15</th>\n",
       "      <td>2011-03</td>\n",
       "      <td>178</td>\n",
       "    </tr>\n",
       "    <tr>\n",
       "      <th>16</th>\n",
       "      <td>2011-04</td>\n",
       "      <td>105</td>\n",
       "    </tr>\n",
       "    <tr>\n",
       "      <th>17</th>\n",
       "      <td>2011-05</td>\n",
       "      <td>108</td>\n",
       "    </tr>\n",
       "    <tr>\n",
       "      <th>18</th>\n",
       "      <td>2011-06</td>\n",
       "      <td>108</td>\n",
       "    </tr>\n",
       "    <tr>\n",
       "      <th>19</th>\n",
       "      <td>2011-07</td>\n",
       "      <td>102</td>\n",
       "    </tr>\n",
       "    <tr>\n",
       "      <th>20</th>\n",
       "      <td>2011-08</td>\n",
       "      <td>106</td>\n",
       "    </tr>\n",
       "    <tr>\n",
       "      <th>21</th>\n",
       "      <td>2011-09</td>\n",
       "      <td>187</td>\n",
       "    </tr>\n",
       "    <tr>\n",
       "      <th>22</th>\n",
       "      <td>2011-10</td>\n",
       "      <td>221</td>\n",
       "    </tr>\n",
       "    <tr>\n",
       "      <th>23</th>\n",
       "      <td>2011-11</td>\n",
       "      <td>192</td>\n",
       "    </tr>\n",
       "    <tr>\n",
       "      <th>24</th>\n",
       "      <td>2011-12</td>\n",
       "      <td>28</td>\n",
       "    </tr>\n",
       "  </tbody>\n",
       "</table>\n",
       "</div>"
      ],
      "text/plain": [
       "   FirstPurchaseMonth  count\n",
       "0             2009-12   1045\n",
       "1             2010-01    394\n",
       "2             2010-02    363\n",
       "3             2010-03    436\n",
       "4             2010-04    291\n",
       "5             2010-05    254\n",
       "6             2010-06    269\n",
       "7             2010-07    183\n",
       "8             2010-08    158\n",
       "9             2010-09    242\n",
       "10            2010-10    379\n",
       "11            2010-11    322\n",
       "12            2010-12     77\n",
       "13            2011-01     71\n",
       "14            2011-02    123\n",
       "15            2011-03    178\n",
       "16            2011-04    105\n",
       "17            2011-05    108\n",
       "18            2011-06    108\n",
       "19            2011-07    102\n",
       "20            2011-08    106\n",
       "21            2011-09    187\n",
       "22            2011-10    221\n",
       "23            2011-11    192\n",
       "24            2011-12     28"
      ]
     },
     "execution_count": 161,
     "metadata": {},
     "output_type": "execute_result"
    }
   ],
   "source": [
    "# 첫 구매일을 기준으로 몇 명이 새로 유입됐는가? (기준: 월)\n",
    "\n",
    "monthly_new_customers = first_purchase['FirstPurchaseMonth'].value_counts().sort_index().reset_index()\n",
    "monthly_new_customers"
   ]
  },
  {
   "cell_type": "code",
   "execution_count": 162,
   "id": "b10f920f-d9df-43bb-89fc-85b93c7f2f08",
   "metadata": {},
   "outputs": [
    {
     "data": {
      "image/png": "[encoded data removed]",
      "text/plain": [
       "<Figure size 800x500 with 1 Axes>"
      ]
     },
     "metadata": {},
     "output_type": "display_data"
    }
   ],
   "source": [
    "plt.figure(figsize=(8, 5))\n",
    "sns.barplot(data=monthly_new_customers, x='FirstPurchaseMonth', y='count', order=monthly_new_customers['FirstPurchaseMonth'])\n",
    "plt.title('Monthly New Customers')\n",
    "plt.xlabel('Year-Month')\n",
    "plt.ylabel('Number of New Customers')\n",
    "plt.grid(axis='y', linestyle='-', linewidth=0.7)\n",
    "plt.xticks(rotation=45)\n",
    "plt.tight_layout()\n",
    "plt.show()\n"
   ]
  },
  {
   "cell_type": "markdown",
   "id": "008a1641-b183-45a2-a3df-63724114399e",
   "metadata": {},
   "source": [
    "#### 3-5. Activation (고객 활성화 분석)\n",
    "\n",
    "- 모든 고객 중 첫 구매 이후 **총 구매 금액이 특정 기준 금액 (£50)** 이상인 고객을 활성화된 고객으로 정의하자.\n",
    "- 전체 고객 수와 활성화된 고객 수를 비교하여 **활성화율**을 도출하자."
   ]
  },
  {
   "cell_type": "code",
   "execution_count": 228,
   "id": "f14605c3-5330-457c-b708-c070a189f13b",
   "metadata": {},
   "outputs": [
    {
     "data": {
      "text/plain": [
       "5942"
      ]
     },
     "execution_count": 228,
     "metadata": {},
     "output_type": "execute_result"
    }
   ],
   "source": [
    "total_customers = online_retail['Customer ID'].nunique()\n",
    "total_customers"
   ]
  },
  {
   "cell_type": "code",
   "execution_count": 229,
   "id": "a564547a-f858-4060-92bb-7dcb3c595a6b",
   "metadata": {},
   "outputs": [
    {
     "data": {
      "text/plain": [
       "Customer ID\n",
       "12347    5633.32\n",
       "12348    2019.40\n",
       "12349    4404.54\n",
       "12350     334.40\n",
       "12351     300.93\n",
       "          ...   \n",
       "18283    2736.65\n",
       "18284     436.68\n",
       "18285     427.00\n",
       "18286    1188.43\n",
       "18287    4177.89\n",
       "Name: Total, Length: 5777, dtype: float64"
      ]
     },
     "execution_count": 229,
     "metadata": {},
     "output_type": "execute_result"
    }
   ],
   "source": [
    "# 총 구매 금액이 특정 기준 금액 이상인 고객\n",
    "total_price_customers = online_retail.groupby('Customer ID')['Total'].sum()\n",
    "activated_customers = total_price_customers[total_price_customers >= 50]\n",
    "activated_customers"
   ]
  },
  {
   "cell_type": "code",
   "execution_count": 230,
   "id": "dafdcd55-e6ee-42a7-8122-82e814014c11",
   "metadata": {},
   "outputs": [
    {
     "data": {
      "text/plain": [
       "5777"
      ]
     },
     "execution_count": 230,
     "metadata": {},
     "output_type": "execute_result"
    }
   ],
   "source": [
    "activated_customers = len(activated_customers)\n",
    "activated_customers"
   ]
  },
  {
   "cell_type": "code",
   "execution_count": 234,
   "id": "ccf8e8cf-794e-4ef2-bc1a-e7ea9ba370b4",
   "metadata": {},
   "outputs": [
    {
     "data": {
      "text/plain": [
       "97.22315718613261"
      ]
     },
     "execution_count": 234,
     "metadata": {},
     "output_type": "execute_result"
    }
   ],
   "source": [
    "# 고객 활성화율\n",
    "activation_rate = (activated_customers / total_customers) * 100\n",
    "activation_rate"
   ]
  },
  {
   "cell_type": "code",
   "execution_count": 235,
   "id": "e0a4b388-2991-464e-b765-5fa2330abca8",
   "metadata": {},
   "outputs": [
    {
     "name": "stdout",
     "output_type": "stream",
     "text": [
      "총 고객 수: 5942\n",
      "활성화된 고객 수: 5777\n",
      "고객 활성화율: 97.22%\n"
     ]
    }
   ],
   "source": [
    "print(f\"총 고객 수: {total_customers}\")\n",
    "print(f\"활성화된 고객 수: {activated_customers}\")\n",
    "print(f\"고객 활성화율: {activation_rate:.2f}%\")"
   ]
  },
  {
   "cell_type": "markdown",
   "id": "f175eee9-8013-4d87-91a8-6df16b041bd7",
   "metadata": {},
   "source": [
    "#### 4-6. Retention: 코호트 분석(고객)\n",
    "\n",
    "- 분기별 활성 사용자(MAU)를 분석하여 고객 유지 현황을 파악하세요.\n",
    "- 분기별 활성 고객 수를 계산하고, 이를 시각화하여 **고객 유지 트렌드**를 분석하세요."
   ]
  },
  {
   "cell_type": "code",
   "execution_count": 238,
   "id": "16fcec68-cc36-47b1-9ed9-e07299b427f6",
   "metadata": {},
   "outputs": [
    {
     "name": "stdout",
     "output_type": "stream",
     "text": [
      "<class 'pandas.core.frame.DataFrame'>\n",
      "Index: 824364 entries, 0 to 1067370\n",
      "Data columns (total 9 columns):\n",
      " #   Column       Non-Null Count   Dtype         \n",
      "---  ------       --------------   -----         \n",
      " 0   Invoice      824364 non-null  object        \n",
      " 1   StockCode    824364 non-null  object        \n",
      " 2   Description  824364 non-null  object        \n",
      " 3   Quantity     824364 non-null  int64         \n",
      " 4   InvoiceDate  824364 non-null  datetime64[ns]\n",
      " 5   Price        824364 non-null  float64       \n",
      " 6   Customer ID  824364 non-null  int64         \n",
      " 7   Country      824364 non-null  object        \n",
      " 8   Total        824364 non-null  float64       \n",
      "dtypes: datetime64[ns](1), float64(2), int64(2), object(4)\n",
      "memory usage: 62.9+ MB\n"
     ]
    }
   ],
   "source": [
    "online_retail.info()"
   ]
  },
  {
   "cell_type": "code",
   "execution_count": 207,
   "id": "b03bb969-ea73-415a-881b-f0620b183b6f",
   "metadata": {},
   "outputs": [],
   "source": [
    "# 월 기준으로 분기 뽑기\n",
    "online_retail['Quarter'] = online_retail['InvoiceDate'].dt.to_period('Q')"
   ]
  },
  {
   "cell_type": "code",
   "execution_count": null,
   "id": "f8666fb1-85c9-46bf-b82b-518c95eec914",
   "metadata": {},
   "outputs": [],
   "source": [
    "# 활성 고객 필터링\n",
    "total_price_customers = online_retail.groupby('Customer ID')['Total'].sum()\n",
    "activated_customers = total_price_customers[total_price_customers >= 50].index\n",
    "df_active = online_retail[online_retail['Customer ID'].isin(activated_customers)].copy()\n",
    "\n",
    "# Cohort 지정\n",
    "df_active['Cohort'] = df_active.groupby('Customer ID')['Quarter'].transform('min')"
   ]
  },
  {
   "cell_type": "code",
   "execution_count": 210,
   "id": "56222dd1-c748-45f1-8e51-c82187d2351b",
   "metadata": {},
   "outputs": [
    {
     "data": {
      "text/plain": [
       "5777"
      ]
     },
     "execution_count": 210,
     "metadata": {},
     "output_type": "execute_result"
    }
   ],
   "source": [
    "df_active['Customer ID'].nunique()"
   ]
  },
  {
   "cell_type": "code",
   "execution_count": 201,
   "id": "ffb0b978-3851-4abf-b593-870a5ec740f8",
   "metadata": {},
   "outputs": [],
   "source": [
    "# Cohort Index 계산\n",
    "df_active['CohortIndex'] = (\n",
    "    (df_active['Quarter'].dt.year - df_active['Cohort'].dt.year) * 4 +\n",
    "    (df_active['Quarter'].dt.quarter - df_active['Cohort'].dt.quarter)\n",
    ")\n",
    "\n",
    "# 코호트 테이블 생성\n",
    "cohort_data = df_active.groupby(['Cohort', 'CohortIndex'])['Customer ID'].nunique().reset_index()\n",
    "cohort_counts = cohort_data.pivot(index='Cohort', columns='CohortIndex', values='Customer ID')\n",
    "\n",
    "# 리텐션율 계산\n",
    "cohort_sizes = cohort_counts.iloc[:, 0]\n",
    "retention = cohort_counts.divide(cohort_sizes, axis=0) * 100\n"
   ]
  },
  {
   "cell_type": "code",
   "execution_count": 218,
   "id": "351d1400-7256-4a2e-981c-c14665873dac",
   "metadata": {},
   "outputs": [
    {
     "data": {
      "text/html": [
       "<div>\n",
       "<style scoped>\n",
       "    .dataframe tbody tr th:only-of-type {\n",
       "        vertical-align: middle;\n",
       "    }\n",
       "\n",
       "    .dataframe tbody tr th {\n",
       "        vertical-align: top;\n",
       "    }\n",
       "\n",
       "    .dataframe thead th {\n",
       "        text-align: right;\n",
       "    }\n",
       "</style>\n",
       "<table border=\"1\" class=\"dataframe\">\n",
       "  <thead>\n",
       "    <tr style=\"text-align: right;\">\n",
       "      <th>CohortIndex</th>\n",
       "      <th>0</th>\n",
       "      <th>1</th>\n",
       "      <th>2</th>\n",
       "      <th>3</th>\n",
       "      <th>4</th>\n",
       "      <th>5</th>\n",
       "      <th>6</th>\n",
       "      <th>7</th>\n",
       "      <th>8</th>\n",
       "    </tr>\n",
       "    <tr>\n",
       "      <th>Cohort</th>\n",
       "      <th></th>\n",
       "      <th></th>\n",
       "      <th></th>\n",
       "      <th></th>\n",
       "      <th></th>\n",
       "      <th></th>\n",
       "      <th></th>\n",
       "      <th></th>\n",
       "      <th></th>\n",
       "    </tr>\n",
       "  </thead>\n",
       "  <tbody>\n",
       "    <tr>\n",
       "      <th>2009Q4</th>\n",
       "      <td>100.0</td>\n",
       "      <td>65.683382</td>\n",
       "      <td>67.354966</td>\n",
       "      <td>60.766962</td>\n",
       "      <td>69.813176</td>\n",
       "      <td>51.524090</td>\n",
       "      <td>50.835792</td>\n",
       "      <td>50.049164</td>\n",
       "      <td>56.145526</td>\n",
       "    </tr>\n",
       "    <tr>\n",
       "      <th>2010Q1</th>\n",
       "      <td>100.0</td>\n",
       "      <td>52.690972</td>\n",
       "      <td>49.739583</td>\n",
       "      <td>52.604167</td>\n",
       "      <td>36.111111</td>\n",
       "      <td>37.326389</td>\n",
       "      <td>38.541667</td>\n",
       "      <td>35.329861</td>\n",
       "      <td>NaN</td>\n",
       "    </tr>\n",
       "    <tr>\n",
       "      <th>2010Q2</th>\n",
       "      <td>100.0</td>\n",
       "      <td>41.116751</td>\n",
       "      <td>44.162437</td>\n",
       "      <td>23.096447</td>\n",
       "      <td>31.091371</td>\n",
       "      <td>28.807107</td>\n",
       "      <td>30.964467</td>\n",
       "      <td>NaN</td>\n",
       "      <td>NaN</td>\n",
       "    </tr>\n",
       "    <tr>\n",
       "      <th>2010Q3</th>\n",
       "      <td>100.0</td>\n",
       "      <td>48.932384</td>\n",
       "      <td>26.334520</td>\n",
       "      <td>27.580071</td>\n",
       "      <td>34.163701</td>\n",
       "      <td>33.451957</td>\n",
       "      <td>NaN</td>\n",
       "      <td>NaN</td>\n",
       "      <td>NaN</td>\n",
       "    </tr>\n",
       "    <tr>\n",
       "      <th>2010Q4</th>\n",
       "      <td>100.0</td>\n",
       "      <td>21.928666</td>\n",
       "      <td>25.759577</td>\n",
       "      <td>21.400264</td>\n",
       "      <td>36.195509</td>\n",
       "      <td>NaN</td>\n",
       "      <td>NaN</td>\n",
       "      <td>NaN</td>\n",
       "      <td>NaN</td>\n",
       "    </tr>\n",
       "    <tr>\n",
       "      <th>2011Q1</th>\n",
       "      <td>100.0</td>\n",
       "      <td>43.089431</td>\n",
       "      <td>33.875339</td>\n",
       "      <td>36.856369</td>\n",
       "      <td>NaN</td>\n",
       "      <td>NaN</td>\n",
       "      <td>NaN</td>\n",
       "      <td>NaN</td>\n",
       "      <td>NaN</td>\n",
       "    </tr>\n",
       "    <tr>\n",
       "      <th>2011Q2</th>\n",
       "      <td>100.0</td>\n",
       "      <td>44.904459</td>\n",
       "      <td>40.445860</td>\n",
       "      <td>NaN</td>\n",
       "      <td>NaN</td>\n",
       "      <td>NaN</td>\n",
       "      <td>NaN</td>\n",
       "      <td>NaN</td>\n",
       "      <td>NaN</td>\n",
       "    </tr>\n",
       "    <tr>\n",
       "      <th>2011Q3</th>\n",
       "      <td>100.0</td>\n",
       "      <td>53.213368</td>\n",
       "      <td>NaN</td>\n",
       "      <td>NaN</td>\n",
       "      <td>NaN</td>\n",
       "      <td>NaN</td>\n",
       "      <td>NaN</td>\n",
       "      <td>NaN</td>\n",
       "      <td>NaN</td>\n",
       "    </tr>\n",
       "    <tr>\n",
       "      <th>2011Q4</th>\n",
       "      <td>100.0</td>\n",
       "      <td>NaN</td>\n",
       "      <td>NaN</td>\n",
       "      <td>NaN</td>\n",
       "      <td>NaN</td>\n",
       "      <td>NaN</td>\n",
       "      <td>NaN</td>\n",
       "      <td>NaN</td>\n",
       "      <td>NaN</td>\n",
       "    </tr>\n",
       "  </tbody>\n",
       "</table>\n",
       "</div>"
      ],
      "text/plain": [
       "CohortIndex      0          1          2          3          4          5  \\\n",
       "Cohort                                                                      \n",
       "2009Q4       100.0  65.683382  67.354966  60.766962  69.813176  51.524090   \n",
       "2010Q1       100.0  52.690972  49.739583  52.604167  36.111111  37.326389   \n",
       "2010Q2       100.0  41.116751  44.162437  23.096447  31.091371  28.807107   \n",
       "2010Q3       100.0  48.932384  26.334520  27.580071  34.163701  33.451957   \n",
       "2010Q4       100.0  21.928666  25.759577  21.400264  36.195509        NaN   \n",
       "2011Q1       100.0  43.089431  33.875339  36.856369        NaN        NaN   \n",
       "2011Q2       100.0  44.904459  40.445860        NaN        NaN        NaN   \n",
       "2011Q3       100.0  53.213368        NaN        NaN        NaN        NaN   \n",
       "2011Q4       100.0        NaN        NaN        NaN        NaN        NaN   \n",
       "\n",
       "CohortIndex          6          7          8  \n",
       "Cohort                                        \n",
       "2009Q4       50.835792  50.049164  56.145526  \n",
       "2010Q1       38.541667  35.329861        NaN  \n",
       "2010Q2       30.964467        NaN        NaN  \n",
       "2010Q3             NaN        NaN        NaN  \n",
       "2010Q4             NaN        NaN        NaN  \n",
       "2011Q1             NaN        NaN        NaN  \n",
       "2011Q2             NaN        NaN        NaN  \n",
       "2011Q3             NaN        NaN        NaN  \n",
       "2011Q4             NaN        NaN        NaN  "
      ]
     },
     "execution_count": 218,
     "metadata": {},
     "output_type": "execute_result"
    }
   ],
   "source": [
    "retention"
   ]
  },
  {
   "cell_type": "code",
   "execution_count": null,
   "id": "cccd1060-757f-4784-bca2-ee386d481fca",
   "metadata": {},
   "outputs": [],
   "source": [
    "cohort_counts = df.groupby(['cohort_month', 'cohort_index'])['user_id'].nunique()\n",
    "cohort_counts_df = cohort_counts.to_frame().rename(columns={'user_id':'users'}).sort_values(by=['cohort_month'])\n",
    "cohort_counts_df['retention_rate'] = cohort_counts_df['users'] / cohort_counts_df.groupby([\"cohort_month\"])[\"users\"].transform(\"max\")\n",
    "cohorts_pivot = cohort_counts_df.pivot_table(index='cohort_month', columns = 'cohort_index', values = 'retention_rate')\n",
    "cohorts_pivot"
   ]
  },
  {
   "cell_type": "code",
   "execution_count": 206,
   "id": "def7cfbd-75e7-4718-ab89-d9dc4db3f741",
   "metadata": {},
   "outputs": [
    {
     "data": {
      "image/png": "[encoded data removed]",
      "text/plain": [
       "<Figure size 1200x800 with 2 Axes>"
      ]
     },
     "metadata": {},
     "output_type": "display_data"
    }
   ],
   "source": [
    "plt.figure(figsize=(12, 8))\n",
    "heatmap = sns.heatmap(\n",
    "    data=retention,\n",
    "    annot=True,              \n",
    "    fmt='.2f',                \n",
    "    cmap='Greens',            \n",
    "    cbar_kws={'label': 'Retention Rate, %'},\n",
    "    linewidths=0.5,          \n",
    "    linecolor='gray',          \n",
    "    vmin=0, vmax=100      \n",
    ")\n",
    "\n",
    "plt.xlabel('Cohorts', fontsize=12)\n",
    "plt.ylabel('Quarters', fontsize=12)\n",
    "plt.tight_layout()\n",
    "plt.show()\n"
   ]
  },
  {
   "cell_type": "code",
   "execution_count": null,
   "id": "6dc4b134-7fe3-4050-be10-304635c286f2",
   "metadata": {},
   "outputs": [],
   "source": []
  },
  {
   "cell_type": "code",
   "execution_count": 237,
   "id": "29a0c962-836c-4431-94db-fecb2280b63d",
   "metadata": {},
   "outputs": [
    {
     "data": {
      "text/html": [
       "<div>\n",
       "<style scoped>\n",
       "    .dataframe tbody tr th:only-of-type {\n",
       "        vertical-align: middle;\n",
       "    }\n",
       "\n",
       "    .dataframe tbody tr th {\n",
       "        vertical-align: top;\n",
       "    }\n",
       "\n",
       "    .dataframe thead th {\n",
       "        text-align: right;\n",
       "    }\n",
       "</style>\n",
       "<table border=\"1\" class=\"dataframe\">\n",
       "  <thead>\n",
       "    <tr style=\"text-align: right;\">\n",
       "      <th></th>\n",
       "      <th>Customer ID</th>\n",
       "      <th>Total</th>\n",
       "    </tr>\n",
       "  </thead>\n",
       "  <tbody>\n",
       "    <tr>\n",
       "      <th>0</th>\n",
       "      <td>12346</td>\n",
       "      <td>-64.68</td>\n",
       "    </tr>\n",
       "    <tr>\n",
       "      <th>1</th>\n",
       "      <td>12347</td>\n",
       "      <td>5633.32</td>\n",
       "    </tr>\n",
       "    <tr>\n",
       "      <th>2</th>\n",
       "      <td>12348</td>\n",
       "      <td>2019.40</td>\n",
       "    </tr>\n",
       "    <tr>\n",
       "      <th>3</th>\n",
       "      <td>12349</td>\n",
       "      <td>4404.54</td>\n",
       "    </tr>\n",
       "    <tr>\n",
       "      <th>4</th>\n",
       "      <td>12350</td>\n",
       "      <td>334.40</td>\n",
       "    </tr>\n",
       "    <tr>\n",
       "      <th>...</th>\n",
       "      <td>...</td>\n",
       "      <td>...</td>\n",
       "    </tr>\n",
       "    <tr>\n",
       "      <th>5937</th>\n",
       "      <td>18283</td>\n",
       "      <td>2736.65</td>\n",
       "    </tr>\n",
       "    <tr>\n",
       "      <th>5938</th>\n",
       "      <td>18284</td>\n",
       "      <td>436.68</td>\n",
       "    </tr>\n",
       "    <tr>\n",
       "      <th>5939</th>\n",
       "      <td>18285</td>\n",
       "      <td>427.00</td>\n",
       "    </tr>\n",
       "    <tr>\n",
       "      <th>5940</th>\n",
       "      <td>18286</td>\n",
       "      <td>1188.43</td>\n",
       "    </tr>\n",
       "    <tr>\n",
       "      <th>5941</th>\n",
       "      <td>18287</td>\n",
       "      <td>4177.89</td>\n",
       "    </tr>\n",
       "  </tbody>\n",
       "</table>\n",
       "<p>5942 rows × 2 columns</p>\n",
       "</div>"
      ],
      "text/plain": [
       "      Customer ID    Total\n",
       "0           12346   -64.68\n",
       "1           12347  5633.32\n",
       "2           12348  2019.40\n",
       "3           12349  4404.54\n",
       "4           12350   334.40\n",
       "...           ...      ...\n",
       "5937        18283  2736.65\n",
       "5938        18284   436.68\n",
       "5939        18285   427.00\n",
       "5940        18286  1188.43\n",
       "5941        18287  4177.89\n",
       "\n",
       "[5942 rows x 2 columns]"
      ]
     },
     "execution_count": 237,
     "metadata": {},
     "output_type": "execute_result"
    }
   ],
   "source": [
    "total_price_customers4"
   ]
  },
  {
   "cell_type": "markdown",
   "id": "53dbba9a-e0ea-4083-87d0-27f1eb9d3fee",
   "metadata": {},
   "source": [
    "#### 3-9. Revenue(CLV)\n",
    "- 고객 생애 가치를 예측하기 위해 **CLV**를 계산하고 표로 CLV기준으로 내림차순으로 정렬해라.\n",
    "- **CLV 식: 평균금액 x  평균 구매 빈도 x 고객유지기간**(단, Invoce Date의 최대 최소를 빼준 뒤 1을 더해주기)"
   ]
  },
  {
   "cell_type": "code",
   "execution_count": 251,
   "id": "16fef7ad-3b4f-4142-9217-f32c307a699b",
   "metadata": {},
   "outputs": [],
   "source": [
    "customer_data = online_retail.groupby('Customer ID').agg({\n",
    "    'Invoice': 'nunique',        # 구매 횟수\n",
    "    'Total': 'sum',           # 총 지출 금액\n",
    "}).reset_index()\n",
    "\n",
    "first_purchase = online_retail.groupby('Customer ID')['InvoiceDate'].min()\n",
    "last_purchase = online_retail.groupby('Customer ID')['InvoiceDate'].max()\n",
    "lifespan_days = (last_purchase - first_purchase).dt.days + 1\n",
    "customer_data = customer_data.merge(lifespan_days, on='Customer ID', how='left')\n",
    "customer_data"
   ]
  },
  {
   "cell_type": "code",
   "execution_count": 248,
   "id": "b6e490e1-6cb0-43a6-bb4f-ed4bfcc84044",
   "metadata": {},
   "outputs": [
    {
     "data": {
      "text/html": [
       "<div>\n",
       "<style scoped>\n",
       "    .dataframe tbody tr th:only-of-type {\n",
       "        vertical-align: middle;\n",
       "    }\n",
       "\n",
       "    .dataframe tbody tr th {\n",
       "        vertical-align: top;\n",
       "    }\n",
       "\n",
       "    .dataframe thead th {\n",
       "        text-align: right;\n",
       "    }\n",
       "</style>\n",
       "<table border=\"1\" class=\"dataframe\">\n",
       "  <thead>\n",
       "    <tr style=\"text-align: right;\">\n",
       "      <th></th>\n",
       "      <th>Customer ID</th>\n",
       "      <th>CLV</th>\n",
       "      <th>Total Revenue</th>\n",
       "      <th>Frequency</th>\n",
       "      <th>Customer Lifespan (days)</th>\n",
       "    </tr>\n",
       "  </thead>\n",
       "  <tbody>\n",
       "    <tr>\n",
       "      <th>0</th>\n",
       "      <td>18102</td>\n",
       "      <td>4.420810e+08</td>\n",
       "      <td>598215.22</td>\n",
       "      <td>153</td>\n",
       "      <td>739</td>\n",
       "    </tr>\n",
       "    <tr>\n",
       "      <th>1</th>\n",
       "      <td>14646</td>\n",
       "      <td>3.851798e+08</td>\n",
       "      <td>523342.07</td>\n",
       "      <td>164</td>\n",
       "      <td>736</td>\n",
       "    </tr>\n",
       "    <tr>\n",
       "      <th>2</th>\n",
       "      <td>14156</td>\n",
       "      <td>2.161957e+08</td>\n",
       "      <td>296564.69</td>\n",
       "      <td>202</td>\n",
       "      <td>729</td>\n",
       "    </tr>\n",
       "    <tr>\n",
       "      <th>3</th>\n",
       "      <td>14911</td>\n",
       "      <td>1.994434e+08</td>\n",
       "      <td>270248.53</td>\n",
       "      <td>510</td>\n",
       "      <td>738</td>\n",
       "    </tr>\n",
       "    <tr>\n",
       "      <th>4</th>\n",
       "      <td>13694</td>\n",
       "      <td>1.396843e+08</td>\n",
       "      <td>190825.52</td>\n",
       "      <td>164</td>\n",
       "      <td>732</td>\n",
       "    </tr>\n",
       "    <tr>\n",
       "      <th>...</th>\n",
       "      <td>...</td>\n",
       "      <td>...</td>\n",
       "      <td>...</td>\n",
       "      <td>...</td>\n",
       "      <td>...</td>\n",
       "    </tr>\n",
       "    <tr>\n",
       "      <th>5937</th>\n",
       "      <td>14213</td>\n",
       "      <td>-3.934260e+04</td>\n",
       "      <td>-1192.20</td>\n",
       "      <td>2</td>\n",
       "      <td>33</td>\n",
       "    </tr>\n",
       "    <tr>\n",
       "      <th>5938</th>\n",
       "      <td>13776</td>\n",
       "      <td>-8.674335e+04</td>\n",
       "      <td>-340.17</td>\n",
       "      <td>8</td>\n",
       "      <td>255</td>\n",
       "    </tr>\n",
       "    <tr>\n",
       "      <th>5939</th>\n",
       "      <td>13091</td>\n",
       "      <td>-9.258642e+04</td>\n",
       "      <td>-130.22</td>\n",
       "      <td>6</td>\n",
       "      <td>711</td>\n",
       "    </tr>\n",
       "    <tr>\n",
       "      <th>5940</th>\n",
       "      <td>15413</td>\n",
       "      <td>-7.821964e+05</td>\n",
       "      <td>-2531.38</td>\n",
       "      <td>7</td>\n",
       "      <td>309</td>\n",
       "    </tr>\n",
       "    <tr>\n",
       "      <th>5941</th>\n",
       "      <td>14063</td>\n",
       "      <td>-1.133927e+06</td>\n",
       "      <td>-3767.20</td>\n",
       "      <td>13</td>\n",
       "      <td>301</td>\n",
       "    </tr>\n",
       "  </tbody>\n",
       "</table>\n",
       "<p>5942 rows × 5 columns</p>\n",
       "</div>"
      ],
      "text/plain": [
       "      Customer ID           CLV  Total Revenue  Frequency  \\\n",
       "0           18102  4.420810e+08      598215.22        153   \n",
       "1           14646  3.851798e+08      523342.07        164   \n",
       "2           14156  2.161957e+08      296564.69        202   \n",
       "3           14911  1.994434e+08      270248.53        510   \n",
       "4           13694  1.396843e+08      190825.52        164   \n",
       "...           ...           ...            ...        ...   \n",
       "5937        14213 -3.934260e+04       -1192.20          2   \n",
       "5938        13776 -8.674335e+04        -340.17          8   \n",
       "5939        13091 -9.258642e+04        -130.22          6   \n",
       "5940        15413 -7.821964e+05       -2531.38          7   \n",
       "5941        14063 -1.133927e+06       -3767.20         13   \n",
       "\n",
       "      Customer Lifespan (days)  \n",
       "0                          739  \n",
       "1                          736  \n",
       "2                          729  \n",
       "3                          738  \n",
       "4                          732  \n",
       "...                        ...  \n",
       "5937                        33  \n",
       "5938                       255  \n",
       "5939                       711  \n",
       "5940                       309  \n",
       "5941                       301  \n",
       "\n",
       "[5942 rows x 5 columns]"
      ]
     },
     "execution_count": 248,
     "metadata": {},
     "output_type": "execute_result"
    }
   ],
   "source": [
    "total_revenue = online_retail.groupby('Customer ID')['Total'].sum()\n",
    "frequency = online_retail.groupby('Customer ID')['Invoice'].nunique()\n",
    "\n",
    "first_purchase = online_retail.groupby('Customer ID')['InvoiceDate'].min()\n",
    "last_purchase = online_retail.groupby('Customer ID')['InvoiceDate'].max()\n",
    "lifespan_days = (last_purchase - first_purchase).dt.days + 1\n",
    "clv = (total_revenue / frequency) * frequency * lifespan_days\n",
    "\n",
    "clv_df = pd.DataFrame({\n",
    "    'Customer ID': total_revenue.index,\n",
    "    'CLV': clv,\n",
    "    'Total Revenue': total_revenue,\n",
    "    'Frequency': frequency,\n",
    "    'Customer Lifespan (days)': lifespan_days\n",
    "})\n",
    "\n",
    "clv_df = clv_df.sort_values(by='CLV', ascending=False).reset_index(drop=True)\n",
    "clv_df"
   ]
  },
  {
   "cell_type": "markdown",
   "id": "14ef0b6d-0c76-4e68-ac91-2b14400129b5",
   "metadata": {
    "jp-MarkdownHeadingCollapsed": true
   },
   "source": [
    "#### 4-10. 기초통계 문제 1\n",
    "\n",
    "- 어떤 회사의 고객 대기시간은 5분에서 15분 사이의 균등분포를 따른다. 고객 100명이 대기한 시간을 시뮬레이션하고, 평균 대기시간과 표준편차를 계산하라. "
   ]
  },
  {
   "cell_type": "code",
   "execution_count": 172,
   "id": "feed7968-6953-49db-8df5-aba98dac98b3",
   "metadata": {},
   "outputs": [
    {
     "name": "stdout",
     "output_type": "stream",
     "text": [
      "평균 대기시간: 10.49\n",
      "표준편차: 3.12\n"
     ]
    }
   ],
   "source": [
    "waiting_times = np.random.uniform(5, 15, size=100)\n",
    "\n",
    "# 평균과 표준편차 계산\n",
    "mean_waiting_time = np.mean(waiting_times)\n",
    "std_waiting_time = np.std(waiting_times)\n",
    "\n",
    "# 결과 출력\n",
    "print(f\"평균 대기시간: {mean_waiting_time:.2f}\")\n",
    "print(f\"표준편차: {std_waiting_time:.2f}\")"
   ]
  },
  {
   "cell_type": "markdown",
   "id": "da845069-127d-42e2-941e-831a1ef366c7",
   "metadata": {},
   "source": [
    "#### 4-11. 기초통계 문제 2\n",
    "- 한 신제품의 초기 성공 확률이 0.3이라고 가정한다. 10회의 시뮬레이션에서 성공한 횟수를 구하고, 각 성공 여부를 출력해라."
   ]
  },
  {
   "cell_type": "code",
   "execution_count": 174,
   "id": "d3357684-da8a-44f0-afe3-64b3a520e034",
   "metadata": {},
   "outputs": [
    {
     "name": "stdout",
     "output_type": "stream",
     "text": [
      "각 시도 결과: [0 0 0 0 1 1 0 0 0 0]\n",
      "성공 횟수: 2\n"
     ]
    }
   ],
   "source": [
    "outcomes = np.random.binomial(1, 0.3, size=10)\n",
    "success_count = np.sum(outcomes)\n",
    "\n",
    "print(f\"각 시도 결과: {outcomes}\")\n",
    "print(f\"성공 횟수: {success_count}\")"
   ]
  },
  {
   "cell_type": "markdown",
   "id": "a6a50dfe-c9b2-4a67-8c9e-adeb3ef19274",
   "metadata": {},
   "source": [
    "#### 4-12. 기초통계 문제 3\n",
    "- 한 수업에서 학생 20명이 5문제로 구성된 퀴즈를 치른다. 각 문제의 정답 확률은 0.7이라고 가정할 때, 각 학생이 맞힌 점수를 시뮬레이션하고, 전체 학생의 평균 점수를 계산해라."
   ]
  },
  {
   "cell_type": "code",
   "execution_count": 175,
   "id": "2b9d7499-b295-40f7-bfc8-0ddee887b8ce",
   "metadata": {},
   "outputs": [
    {
     "name": "stdout",
     "output_type": "stream",
     "text": [
      "학생별 점수: [4 3 4 5 4 2 3 4 4 4 2 3 4 4 4 4 2 4 4 4]\n",
      "평균 점수: 3.60\n"
     ]
    }
   ],
   "source": [
    "scores = np.random.binomial(5, 0.7, size=20)\n",
    "average_score = np.mean(scores)\n",
    "\n",
    "print(f\"학생별 점수: {scores}\")\n",
    "print(f\"평균 점수: {average_score:.2f}\")"
   ]
  },
  {
   "cell_type": "markdown",
   "id": "3503f0da-46c2-42b2-83cc-321c9a00051c",
   "metadata": {},
   "source": [
    "#### 4-13. 기초통계 문제 4\n",
    "- 한 공장에서 생산되는 제품의 무게는 평균 50g, 표준편차 5g의 정규분포를 따른다. 1000개의 제품 무게를 시뮬레이션하고, 무게가 45g 이상 55g 이하인 제품의 비율을 계산(변수명: within_range)하라. 무게 분포의 히스토그램을 그려라.\n"
   ]
  },
  {
   "cell_type": "code",
   "execution_count": null,
   "id": "44a18a23-045a-4165-aeb5-6a587e2fe310",
   "metadata": {},
   "outputs": [],
   "source": [
    "!pip install scipy"
   ]
  },
  {
   "cell_type": "code",
   "execution_count": 196,
   "id": "44c077d6-01aa-4533-b06c-6d22e1027c11",
   "metadata": {},
   "outputs": [
    {
     "name": "stdout",
     "output_type": "stream",
     "text": [
      "45g 이상 55g 이하 비율: 0.68\n"
     ]
    },
    {
     "data": {
      "image/png": "[encoded data removed]",
      "text/plain": [
       "<Figure size 640x480 with 1 Axes>"
      ]
     },
     "metadata": {},
     "output_type": "display_data"
    }
   ],
   "source": [
    "weights = np.random.normal(loc=50, scale=5, size=1000)\n",
    "\n",
    "within_range = np.mean((weights >= 45) & (weights <= 55))\n",
    "print(f\"45g 이상 55g 이하 비율: {within_range:.2f}\")\n",
    "\n",
    "x = np.linspace(weights.min(), weights.max(), 500) \n",
    "pdf = norm.pdf(x, loc=50, scale=5)\n",
    "\n",
    "plt.hist(weights, bins=30, density=True, label='Histogram')\n",
    "plt.plot(x, pdf, color='red', linewidth=1, label='PDF')\n",
    "plt.title('Product Weight Distribution')\n",
    "plt.xlabel('Weight (g)')\n",
    "plt.ylabel('Density')\n",
    "plt.legend() \n",
    "plt.show()"
   ]
  },
  {
   "cell_type": "markdown",
   "id": "e068da4c-93c9-46a9-8b95-02d1154ec84e",
   "metadata": {},
   "source": [
    "### 4. KPT (회고)\n",
    "\n",
    "- 오늘 특히 느낀 것은, 분석 결과는 분석가가 어디에 초점을 맞추느냐에 따라 크게 달라질 수 있다는 점이다. 전체적인 틀과 흐름은 정해져 있지만, 어떤 요소를 더 중요하게 보고 해석하고 결과를 도출하느냐에 따라 최종 인사이트가 완전히 달라질 수 있다는 것을 실감했다. 비록 시간이 없어서 나는 추가 정보를 제시하는 결과를 추출하지 못했지만, 다음에는 이 부분에 초점을 맞춰 데이터 분석을 해봐야겠다는 생각을 하였다.\n",
    "\n",
    "- 또한 알고리즘을 짜는 능력이 중요한 것 같다. 이러한 자료가 있으면 좋겠다~ 라는 생각도 좋지만, 현실에서 실현해야되지 않겠는가? 아이디어는 좋으나 이를 뒷받침할만한 능력이 없으면 무용지물이 되는 것 같다.\n",
    "\n",
    "|kpt|회고|\n",
    "|---|---|\n",
    "|Keep|문제를 풀기 전 어떻게 풀 건지 대충이라도 흐름을 잡아서 코드를 작성해본 점|\n",
    "|Practice|1. 시각화 할 때 더 가독성 있게 보여주고 싶은데 기능들을 자세히 몰라서 사용하지 못했음. <br>2. 한 문제가 안 풀려서 그 문제만 계속 잡고 있었음. 시간이 절대적으로 부족했다. <br> -> 다른 문제에 손을 못댔다. <br> 문제를 완벽히 이해한 줄 알았으나 틀린 점이 있었다.|\n",
    "|Try|알고리즘에 대해 더 생각해보고 체계적으로 코드를 짜는 연습이 중요할 것 같다. <br> 문제 이해도 중요함. <br> 중요!! 일단 안 풀리는 문제가 있으면 다음 것부터 풀자.  |"
   ]
  },
  {
   "cell_type": "code",
   "execution_count": null,
   "id": "8db314f2-4973-473e-a082-119fdc44de05",
   "metadata": {},
   "outputs": [],
   "source": []
  }
 ],
 "metadata": {
  "kernelspec": {
   "display_name": "Python 3 (ipykernel)",
   "language": "python",
   "name": "python3"
  },
  "language_info": {
   "codemirror_mode": {
    "name": "ipython",
    "version": 3
   },
   "file_extension": ".py",
   "mimetype": "text/x-python",
   "name": "python",
   "nbconvert_exporter": "python",
   "pygments_lexer": "ipython3",
   "version": "3.13.2"
  }
 },
 "nbformat": 4,
 "nbformat_minor": 5
}
