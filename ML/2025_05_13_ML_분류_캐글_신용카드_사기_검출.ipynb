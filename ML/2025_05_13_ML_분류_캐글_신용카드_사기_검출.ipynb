{
  "metadata": {
    "kernelspec": {
      "language": "python",
      "display_name": "Python 3",
      "name": "python3"
    },
    "language_info": {
      "name": "python",
      "version": "3.11.11",
      "mimetype": "text/x-python",
      "codemirror_mode": {
        "name": "ipython",
        "version": 3
      },
      "pygments_lexer": "ipython3",
      "nbconvert_exporter": "python",
      "file_extension": ".py"
    },
    "kaggle": {
      "accelerator": "none",
      "dataSources": [
        {
          "sourceId": 101520,
          "databundleVersionId": 12222871,
          "sourceType": "competition"
        }
      ],
      "dockerImageVersionId": 31012,
      "isInternetEnabled": true,
      "language": "python",
      "sourceType": "notebook",
      "isGpuEnabled": false
    },
    "colab": {
      "provenance": [],
      "collapsed_sections": [
        "aizDtXOwL1RP"
      ]
    },
    "widgets": {
      "application/vnd.jupyter.widget-state+json": {
        "b54e9fc2a95d42b18ebd7cda002265a8": {
          "model_module": "@jupyter-widgets/controls",
          "model_name": "VBoxModel",
          "model_module_version": "1.5.0",
          "state": {
            "_dom_classes": [],
            "_model_module": "@jupyter-widgets/controls",
            "_model_module_version": "1.5.0",
            "_model_name": "VBoxModel",
            "_view_count": null,
            "_view_module": "@jupyter-widgets/controls",
            "_view_module_version": "1.5.0",
            "_view_name": "VBoxView",
            "box_style": "",
            "children": [
              "IPY_MODEL_1d11a9eca9294f72af7168eebb595b33"
            ],
            "layout": "IPY_MODEL_c2f8cc95475348f291391859b3552c7d"
          }
        },
        "563148c2071c4f93b412e79b1f03bd22": {
          "model_module": "@jupyter-widgets/controls",
          "model_name": "HTMLModel",
          "model_module_version": "1.5.0",
          "state": {
            "_dom_classes": [],
            "_model_module": "@jupyter-widgets/controls",
            "_model_module_version": "1.5.0",
            "_model_name": "HTMLModel",
            "_view_count": null,
            "_view_module": "@jupyter-widgets/controls",
            "_view_module_version": "1.5.0",
            "_view_name": "HTMLView",
            "description": "",
            "description_tooltip": null,
            "layout": "IPY_MODEL_a60f6320b6e140e2b5cd5a48a31ff0cf",
            "placeholder": "​",
            "style": "IPY_MODEL_9155683f4bfa4e7990b8e87910be9058",
            "value": "<center> <img\nsrc=https://www.kaggle.com/static/images/site-logo.png\nalt='Kaggle'> <br> Create an API token from <a\nhref=\"https://www.kaggle.com/settings/account\" target=\"_blank\">your Kaggle\nsettings page</a> and paste it below along with your Kaggle username. <br> </center>"
          }
        },
        "61db0cf4f26948718c8465f3783835a0": {
          "model_module": "@jupyter-widgets/controls",
          "model_name": "TextModel",
          "model_module_version": "1.5.0",
          "state": {
            "_dom_classes": [],
            "_model_module": "@jupyter-widgets/controls",
            "_model_module_version": "1.5.0",
            "_model_name": "TextModel",
            "_view_count": null,
            "_view_module": "@jupyter-widgets/controls",
            "_view_module_version": "1.5.0",
            "_view_name": "TextView",
            "continuous_update": true,
            "description": "Username:",
            "description_tooltip": null,
            "disabled": false,
            "layout": "IPY_MODEL_9e8a497bd80b4df0912b862e41be0536",
            "placeholder": "​",
            "style": "IPY_MODEL_e50ef8d36689401c8536997e223d5d69",
            "value": "eunseowo"
          }
        },
        "f6b5b936c76243e28de44caff8bb310c": {
          "model_module": "@jupyter-widgets/controls",
          "model_name": "PasswordModel",
          "model_module_version": "1.5.0",
          "state": {
            "_dom_classes": [],
            "_model_module": "@jupyter-widgets/controls",
            "_model_module_version": "1.5.0",
            "_model_name": "PasswordModel",
            "_view_count": null,
            "_view_module": "@jupyter-widgets/controls",
            "_view_module_version": "1.5.0",
            "_view_name": "PasswordView",
            "continuous_update": true,
            "description": "Token:",
            "description_tooltip": null,
            "disabled": false,
            "layout": "IPY_MODEL_0c4766b1f9fc47a7b97804619ce7a792",
            "placeholder": "​",
            "style": "IPY_MODEL_0eaa280aabb94e4bb38e9b51d6b65d62",
            "value": ""
          }
        },
        "a554a2b2a6ef47d99552efcf3c011a80": {
          "model_module": "@jupyter-widgets/controls",
          "model_name": "ButtonModel",
          "model_module_version": "1.5.0",
          "state": {
            "_dom_classes": [],
            "_model_module": "@jupyter-widgets/controls",
            "_model_module_version": "1.5.0",
            "_model_name": "ButtonModel",
            "_view_count": null,
            "_view_module": "@jupyter-widgets/controls",
            "_view_module_version": "1.5.0",
            "_view_name": "ButtonView",
            "button_style": "",
            "description": "Login",
            "disabled": false,
            "icon": "",
            "layout": "IPY_MODEL_9c583a439fae4e2c9430b5bee662f705",
            "style": "IPY_MODEL_5559e5ba3200491aba6f323ec8bcfbe5",
            "tooltip": ""
          }
        },
        "ad5660e9825549839f5c37a386899edc": {
          "model_module": "@jupyter-widgets/controls",
          "model_name": "HTMLModel",
          "model_module_version": "1.5.0",
          "state": {
            "_dom_classes": [],
            "_model_module": "@jupyter-widgets/controls",
            "_model_module_version": "1.5.0",
            "_model_name": "HTMLModel",
            "_view_count": null,
            "_view_module": "@jupyter-widgets/controls",
            "_view_module_version": "1.5.0",
            "_view_name": "HTMLView",
            "description": "",
            "description_tooltip": null,
            "layout": "IPY_MODEL_9771c04040064a5386f032481f3029fd",
            "placeholder": "​",
            "style": "IPY_MODEL_26d416a97feb485ebc91b63eba658f06",
            "value": "\n<b>Thank You</b></center>"
          }
        },
        "c2f8cc95475348f291391859b3552c7d": {
          "model_module": "@jupyter-widgets/base",
          "model_name": "LayoutModel",
          "model_module_version": "1.2.0",
          "state": {
            "_model_module": "@jupyter-widgets/base",
            "_model_module_version": "1.2.0",
            "_model_name": "LayoutModel",
            "_view_count": null,
            "_view_module": "@jupyter-widgets/base",
            "_view_module_version": "1.2.0",
            "_view_name": "LayoutView",
            "align_content": null,
            "align_items": "center",
            "align_self": null,
            "border": null,
            "bottom": null,
            "display": "flex",
            "flex": null,
            "flex_flow": "column",
            "grid_area": null,
            "grid_auto_columns": null,
            "grid_auto_flow": null,
            "grid_auto_rows": null,
            "grid_column": null,
            "grid_gap": null,
            "grid_row": null,
            "grid_template_areas": null,
            "grid_template_columns": null,
            "grid_template_rows": null,
            "height": null,
            "justify_content": null,
            "justify_items": null,
            "left": null,
            "margin": null,
            "max_height": null,
            "max_width": null,
            "min_height": null,
            "min_width": null,
            "object_fit": null,
            "object_position": null,
            "order": null,
            "overflow": null,
            "overflow_x": null,
            "overflow_y": null,
            "padding": null,
            "right": null,
            "top": null,
            "visibility": null,
            "width": "50%"
          }
        },
        "a60f6320b6e140e2b5cd5a48a31ff0cf": {
          "model_module": "@jupyter-widgets/base",
          "model_name": "LayoutModel",
          "model_module_version": "1.2.0",
          "state": {
            "_model_module": "@jupyter-widgets/base",
            "_model_module_version": "1.2.0",
            "_model_name": "LayoutModel",
            "_view_count": null,
            "_view_module": "@jupyter-widgets/base",
            "_view_module_version": "1.2.0",
            "_view_name": "LayoutView",
            "align_content": null,
            "align_items": null,
            "align_self": null,
            "border": null,
            "bottom": null,
            "display": null,
            "flex": null,
            "flex_flow": null,
            "grid_area": null,
            "grid_auto_columns": null,
            "grid_auto_flow": null,
            "grid_auto_rows": null,
            "grid_column": null,
            "grid_gap": null,
            "grid_row": null,
            "grid_template_areas": null,
            "grid_template_columns": null,
            "grid_template_rows": null,
            "height": null,
            "justify_content": null,
            "justify_items": null,
            "left": null,
            "margin": null,
            "max_height": null,
            "max_width": null,
            "min_height": null,
            "min_width": null,
            "object_fit": null,
            "object_position": null,
            "order": null,
            "overflow": null,
            "overflow_x": null,
            "overflow_y": null,
            "padding": null,
            "right": null,
            "top": null,
            "visibility": null,
            "width": null
          }
        },
        "9155683f4bfa4e7990b8e87910be9058": {
          "model_module": "@jupyter-widgets/controls",
          "model_name": "DescriptionStyleModel",
          "model_module_version": "1.5.0",
          "state": {
            "_model_module": "@jupyter-widgets/controls",
            "_model_module_version": "1.5.0",
            "_model_name": "DescriptionStyleModel",
            "_view_count": null,
            "_view_module": "@jupyter-widgets/base",
            "_view_module_version": "1.2.0",
            "_view_name": "StyleView",
            "description_width": ""
          }
        },
        "9e8a497bd80b4df0912b862e41be0536": {
          "model_module": "@jupyter-widgets/base",
          "model_name": "LayoutModel",
          "model_module_version": "1.2.0",
          "state": {
            "_model_module": "@jupyter-widgets/base",
            "_model_module_version": "1.2.0",
            "_model_name": "LayoutModel",
            "_view_count": null,
            "_view_module": "@jupyter-widgets/base",
            "_view_module_version": "1.2.0",
            "_view_name": "LayoutView",
            "align_content": null,
            "align_items": null,
            "align_self": null,
            "border": null,
            "bottom": null,
            "display": null,
            "flex": null,
            "flex_flow": null,
            "grid_area": null,
            "grid_auto_columns": null,
            "grid_auto_flow": null,
            "grid_auto_rows": null,
            "grid_column": null,
            "grid_gap": null,
            "grid_row": null,
            "grid_template_areas": null,
            "grid_template_columns": null,
            "grid_template_rows": null,
            "height": null,
            "justify_content": null,
            "justify_items": null,
            "left": null,
            "margin": null,
            "max_height": null,
            "max_width": null,
            "min_height": null,
            "min_width": null,
            "object_fit": null,
            "object_position": null,
            "order": null,
            "overflow": null,
            "overflow_x": null,
            "overflow_y": null,
            "padding": null,
            "right": null,
            "top": null,
            "visibility": null,
            "width": null
          }
        },
        "e50ef8d36689401c8536997e223d5d69": {
          "model_module": "@jupyter-widgets/controls",
          "model_name": "DescriptionStyleModel",
          "model_module_version": "1.5.0",
          "state": {
            "_model_module": "@jupyter-widgets/controls",
            "_model_module_version": "1.5.0",
            "_model_name": "DescriptionStyleModel",
            "_view_count": null,
            "_view_module": "@jupyter-widgets/base",
            "_view_module_version": "1.2.0",
            "_view_name": "StyleView",
            "description_width": ""
          }
        },
        "0c4766b1f9fc47a7b97804619ce7a792": {
          "model_module": "@jupyter-widgets/base",
          "model_name": "LayoutModel",
          "model_module_version": "1.2.0",
          "state": {
            "_model_module": "@jupyter-widgets/base",
            "_model_module_version": "1.2.0",
            "_model_name": "LayoutModel",
            "_view_count": null,
            "_view_module": "@jupyter-widgets/base",
            "_view_module_version": "1.2.0",
            "_view_name": "LayoutView",
            "align_content": null,
            "align_items": null,
            "align_self": null,
            "border": null,
            "bottom": null,
            "display": null,
            "flex": null,
            "flex_flow": null,
            "grid_area": null,
            "grid_auto_columns": null,
            "grid_auto_flow": null,
            "grid_auto_rows": null,
            "grid_column": null,
            "grid_gap": null,
            "grid_row": null,
            "grid_template_areas": null,
            "grid_template_columns": null,
            "grid_template_rows": null,
            "height": null,
            "justify_content": null,
            "justify_items": null,
            "left": null,
            "margin": null,
            "max_height": null,
            "max_width": null,
            "min_height": null,
            "min_width": null,
            "object_fit": null,
            "object_position": null,
            "order": null,
            "overflow": null,
            "overflow_x": null,
            "overflow_y": null,
            "padding": null,
            "right": null,
            "top": null,
            "visibility": null,
            "width": null
          }
        },
        "0eaa280aabb94e4bb38e9b51d6b65d62": {
          "model_module": "@jupyter-widgets/controls",
          "model_name": "DescriptionStyleModel",
          "model_module_version": "1.5.0",
          "state": {
            "_model_module": "@jupyter-widgets/controls",
            "_model_module_version": "1.5.0",
            "_model_name": "DescriptionStyleModel",
            "_view_count": null,
            "_view_module": "@jupyter-widgets/base",
            "_view_module_version": "1.2.0",
            "_view_name": "StyleView",
            "description_width": ""
          }
        },
        "9c583a439fae4e2c9430b5bee662f705": {
          "model_module": "@jupyter-widgets/base",
          "model_name": "LayoutModel",
          "model_module_version": "1.2.0",
          "state": {
            "_model_module": "@jupyter-widgets/base",
            "_model_module_version": "1.2.0",
            "_model_name": "LayoutModel",
            "_view_count": null,
            "_view_module": "@jupyter-widgets/base",
            "_view_module_version": "1.2.0",
            "_view_name": "LayoutView",
            "align_content": null,
            "align_items": null,
            "align_self": null,
            "border": null,
            "bottom": null,
            "display": null,
            "flex": null,
            "flex_flow": null,
            "grid_area": null,
            "grid_auto_columns": null,
            "grid_auto_flow": null,
            "grid_auto_rows": null,
            "grid_column": null,
            "grid_gap": null,
            "grid_row": null,
            "grid_template_areas": null,
            "grid_template_columns": null,
            "grid_template_rows": null,
            "height": null,
            "justify_content": null,
            "justify_items": null,
            "left": null,
            "margin": null,
            "max_height": null,
            "max_width": null,
            "min_height": null,
            "min_width": null,
            "object_fit": null,
            "object_position": null,
            "order": null,
            "overflow": null,
            "overflow_x": null,
            "overflow_y": null,
            "padding": null,
            "right": null,
            "top": null,
            "visibility": null,
            "width": null
          }
        },
        "5559e5ba3200491aba6f323ec8bcfbe5": {
          "model_module": "@jupyter-widgets/controls",
          "model_name": "ButtonStyleModel",
          "model_module_version": "1.5.0",
          "state": {
            "_model_module": "@jupyter-widgets/controls",
            "_model_module_version": "1.5.0",
            "_model_name": "ButtonStyleModel",
            "_view_count": null,
            "_view_module": "@jupyter-widgets/base",
            "_view_module_version": "1.2.0",
            "_view_name": "StyleView",
            "button_color": null,
            "font_weight": ""
          }
        },
        "9771c04040064a5386f032481f3029fd": {
          "model_module": "@jupyter-widgets/base",
          "model_name": "LayoutModel",
          "model_module_version": "1.2.0",
          "state": {
            "_model_module": "@jupyter-widgets/base",
            "_model_module_version": "1.2.0",
            "_model_name": "LayoutModel",
            "_view_count": null,
            "_view_module": "@jupyter-widgets/base",
            "_view_module_version": "1.2.0",
            "_view_name": "LayoutView",
            "align_content": null,
            "align_items": null,
            "align_self": null,
            "border": null,
            "bottom": null,
            "display": null,
            "flex": null,
            "flex_flow": null,
            "grid_area": null,
            "grid_auto_columns": null,
            "grid_auto_flow": null,
            "grid_auto_rows": null,
            "grid_column": null,
            "grid_gap": null,
            "grid_row": null,
            "grid_template_areas": null,
            "grid_template_columns": null,
            "grid_template_rows": null,
            "height": null,
            "justify_content": null,
            "justify_items": null,
            "left": null,
            "margin": null,
            "max_height": null,
            "max_width": null,
            "min_height": null,
            "min_width": null,
            "object_fit": null,
            "object_position": null,
            "order": null,
            "overflow": null,
            "overflow_x": null,
            "overflow_y": null,
            "padding": null,
            "right": null,
            "top": null,
            "visibility": null,
            "width": null
          }
        },
        "26d416a97feb485ebc91b63eba658f06": {
          "model_module": "@jupyter-widgets/controls",
          "model_name": "DescriptionStyleModel",
          "model_module_version": "1.5.0",
          "state": {
            "_model_module": "@jupyter-widgets/controls",
            "_model_module_version": "1.5.0",
            "_model_name": "DescriptionStyleModel",
            "_view_count": null,
            "_view_module": "@jupyter-widgets/base",
            "_view_module_version": "1.2.0",
            "_view_name": "StyleView",
            "description_width": ""
          }
        },
        "547e15dffa934e6898093f22731abf06": {
          "model_module": "@jupyter-widgets/controls",
          "model_name": "LabelModel",
          "model_module_version": "1.5.0",
          "state": {
            "_dom_classes": [],
            "_model_module": "@jupyter-widgets/controls",
            "_model_module_version": "1.5.0",
            "_model_name": "LabelModel",
            "_view_count": null,
            "_view_module": "@jupyter-widgets/controls",
            "_view_module_version": "1.5.0",
            "_view_name": "LabelView",
            "description": "",
            "description_tooltip": null,
            "layout": "IPY_MODEL_93b1e0e3881842e488ae36b074a2863c",
            "placeholder": "​",
            "style": "IPY_MODEL_ac76f03f9e8a41c180637bb0f7fc8fa1",
            "value": "Connecting..."
          }
        },
        "93b1e0e3881842e488ae36b074a2863c": {
          "model_module": "@jupyter-widgets/base",
          "model_name": "LayoutModel",
          "model_module_version": "1.2.0",
          "state": {
            "_model_module": "@jupyter-widgets/base",
            "_model_module_version": "1.2.0",
            "_model_name": "LayoutModel",
            "_view_count": null,
            "_view_module": "@jupyter-widgets/base",
            "_view_module_version": "1.2.0",
            "_view_name": "LayoutView",
            "align_content": null,
            "align_items": null,
            "align_self": null,
            "border": null,
            "bottom": null,
            "display": null,
            "flex": null,
            "flex_flow": null,
            "grid_area": null,
            "grid_auto_columns": null,
            "grid_auto_flow": null,
            "grid_auto_rows": null,
            "grid_column": null,
            "grid_gap": null,
            "grid_row": null,
            "grid_template_areas": null,
            "grid_template_columns": null,
            "grid_template_rows": null,
            "height": null,
            "justify_content": null,
            "justify_items": null,
            "left": null,
            "margin": null,
            "max_height": null,
            "max_width": null,
            "min_height": null,
            "min_width": null,
            "object_fit": null,
            "object_position": null,
            "order": null,
            "overflow": null,
            "overflow_x": null,
            "overflow_y": null,
            "padding": null,
            "right": null,
            "top": null,
            "visibility": null,
            "width": null
          }
        },
        "ac76f03f9e8a41c180637bb0f7fc8fa1": {
          "model_module": "@jupyter-widgets/controls",
          "model_name": "DescriptionStyleModel",
          "model_module_version": "1.5.0",
          "state": {
            "_model_module": "@jupyter-widgets/controls",
            "_model_module_version": "1.5.0",
            "_model_name": "DescriptionStyleModel",
            "_view_count": null,
            "_view_module": "@jupyter-widgets/base",
            "_view_module_version": "1.2.0",
            "_view_name": "StyleView",
            "description_width": ""
          }
        },
        "1d11a9eca9294f72af7168eebb595b33": {
          "model_module": "@jupyter-widgets/controls",
          "model_name": "LabelModel",
          "model_module_version": "1.5.0",
          "state": {
            "_dom_classes": [],
            "_model_module": "@jupyter-widgets/controls",
            "_model_module_version": "1.5.0",
            "_model_name": "LabelModel",
            "_view_count": null,
            "_view_module": "@jupyter-widgets/controls",
            "_view_module_version": "1.5.0",
            "_view_name": "LabelView",
            "description": "",
            "description_tooltip": null,
            "layout": "IPY_MODEL_d996fc87d10e4b8b90ec6bc4eb3ba0b9",
            "placeholder": "​",
            "style": "IPY_MODEL_de5dd7ecf53044458cfd95181785a543",
            "value": "Kaggle credentials successfully validated."
          }
        },
        "d996fc87d10e4b8b90ec6bc4eb3ba0b9": {
          "model_module": "@jupyter-widgets/base",
          "model_name": "LayoutModel",
          "model_module_version": "1.2.0",
          "state": {
            "_model_module": "@jupyter-widgets/base",
            "_model_module_version": "1.2.0",
            "_model_name": "LayoutModel",
            "_view_count": null,
            "_view_module": "@jupyter-widgets/base",
            "_view_module_version": "1.2.0",
            "_view_name": "LayoutView",
            "align_content": null,
            "align_items": null,
            "align_self": null,
            "border": null,
            "bottom": null,
            "display": null,
            "flex": null,
            "flex_flow": null,
            "grid_area": null,
            "grid_auto_columns": null,
            "grid_auto_flow": null,
            "grid_auto_rows": null,
            "grid_column": null,
            "grid_gap": null,
            "grid_row": null,
            "grid_template_areas": null,
            "grid_template_columns": null,
            "grid_template_rows": null,
            "height": null,
            "justify_content": null,
            "justify_items": null,
            "left": null,
            "margin": null,
            "max_height": null,
            "max_width": null,
            "min_height": null,
            "min_width": null,
            "object_fit": null,
            "object_position": null,
            "order": null,
            "overflow": null,
            "overflow_x": null,
            "overflow_y": null,
            "padding": null,
            "right": null,
            "top": null,
            "visibility": null,
            "width": null
          }
        },
        "de5dd7ecf53044458cfd95181785a543": {
          "model_module": "@jupyter-widgets/controls",
          "model_name": "DescriptionStyleModel",
          "model_module_version": "1.5.0",
          "state": {
            "_model_module": "@jupyter-widgets/controls",
            "_model_module_version": "1.5.0",
            "_model_name": "DescriptionStyleModel",
            "_view_count": null,
            "_view_module": "@jupyter-widgets/base",
            "_view_module_version": "1.2.0",
            "_view_name": "StyleView",
            "description_width": ""
          }
        }
      }
    }
  },
  "nbformat_minor": 0,
  "nbformat": 4,
  "cells": [
    {
      "cell_type": "markdown",
      "source": [
        "#### 0. 환경 설정"
      ],
      "metadata": {
        "id": "aizDtXOwL1RP"
      }
    },
    {
      "source": [
        "# IMPORTANT: SOME KAGGLE DATA SOURCES ARE PRIVATE\n",
        "# RUN THIS CELL IN ORDER TO IMPORT YOUR KAGGLE DATA SOURCES.\n",
        "import kagglehub\n",
        "kagglehub.login()\n"
      ],
      "metadata": {
        "id": "XfjLq3U_nZjc",
        "outputId": "bfe3f8e8-bd68-42ea-f0ce-ce1e767d31f4",
        "colab": {
          "base_uri": "https://localhost:8080/",
          "height": 85,
          "referenced_widgets": [
            "b54e9fc2a95d42b18ebd7cda002265a8",
            "563148c2071c4f93b412e79b1f03bd22",
            "61db0cf4f26948718c8465f3783835a0",
            "f6b5b936c76243e28de44caff8bb310c",
            "a554a2b2a6ef47d99552efcf3c011a80",
            "ad5660e9825549839f5c37a386899edc",
            "c2f8cc95475348f291391859b3552c7d",
            "a60f6320b6e140e2b5cd5a48a31ff0cf",
            "9155683f4bfa4e7990b8e87910be9058",
            "9e8a497bd80b4df0912b862e41be0536",
            "e50ef8d36689401c8536997e223d5d69",
            "0c4766b1f9fc47a7b97804619ce7a792",
            "0eaa280aabb94e4bb38e9b51d6b65d62",
            "9c583a439fae4e2c9430b5bee662f705",
            "5559e5ba3200491aba6f323ec8bcfbe5",
            "9771c04040064a5386f032481f3029fd",
            "26d416a97feb485ebc91b63eba658f06",
            "547e15dffa934e6898093f22731abf06",
            "93b1e0e3881842e488ae36b074a2863c",
            "ac76f03f9e8a41c180637bb0f7fc8fa1",
            "1d11a9eca9294f72af7168eebb595b33",
            "d996fc87d10e4b8b90ec6bc4eb3ba0b9",
            "de5dd7ecf53044458cfd95181785a543"
          ]
        }
      },
      "cell_type": "code",
      "outputs": [
        {
          "output_type": "display_data",
          "data": {
            "text/plain": [
              "VBox(children=(HTML(value='<center> <img\\nsrc=https://www.kaggle.com/static/images/site-logo.png\\nalt=\\'Kaggle…"
            ],
            "application/vnd.jupyter.widget-view+json": {
              "version_major": 2,
              "version_minor": 0,
              "model_id": "b54e9fc2a95d42b18ebd7cda002265a8"
            }
          },
          "metadata": {}
        },
        {
          "output_type": "stream",
          "name": "stdout",
          "text": [
            "Kaggle credentials set.\n",
            "Kaggle credentials successfully validated.\n"
          ]
        }
      ],
      "execution_count": null
    },
    {
      "source": [
        "# IMPORTANT: RUN THIS CELL IN ORDER TO IMPORT YOUR KAGGLE DATA SOURCES,\n",
        "# THEN FEEL FREE TO DELETE THIS CELL.\n",
        "# NOTE: THIS NOTEBOOK ENVIRONMENT DIFFERS FROM KAGGLE'S PYTHON\n",
        "# ENVIRONMENT SO THERE MAY BE MISSING LIBRARIES USED BY YOUR\n",
        "# NOTEBOOK.\n",
        "\n",
        "modu_ds_4_credit_card_fraud_detection_path = kagglehub.competition_download('modu-ds-4-credit-card-fraud-detection')\n",
        "\n",
        "print('Data source import complete.')\n"
      ],
      "metadata": {
        "id": "Co1tIIXdnZjd",
        "outputId": "c0b197fd-c096-42cb-8e8b-b715a3895dde",
        "colab": {
          "base_uri": "https://localhost:8080/"
        }
      },
      "cell_type": "code",
      "outputs": [
        {
          "output_type": "stream",
          "name": "stdout",
          "text": [
            "Downloading from https://www.kaggle.com/api/v1/competitions/data/download-all/modu-ds-4-credit-card-fraud-detection...\n"
          ]
        },
        {
          "output_type": "stream",
          "name": "stderr",
          "text": [
            "100%|██████████| 67.0M/67.0M [00:00<00:00, 141MB/s]"
          ]
        },
        {
          "output_type": "stream",
          "name": "stdout",
          "text": [
            "Extracting files...\n"
          ]
        },
        {
          "output_type": "stream",
          "name": "stderr",
          "text": [
            "\n"
          ]
        },
        {
          "output_type": "stream",
          "name": "stdout",
          "text": [
            "Data source import complete.\n"
          ]
        }
      ],
      "execution_count": null
    },
    {
      "cell_type": "code",
      "source": [
        "!pip install -U scikit-learn==1.4.2 imbalanced-learn==0.12.0"
      ],
      "metadata": {
        "trusted": true,
        "execution": {
          "iopub.status.busy": "2025-05-12T08:35:43.20162Z",
          "iopub.execute_input": "2025-05-12T08:35:43.202387Z",
          "iopub.status.idle": "2025-05-12T08:35:47.145714Z",
          "shell.execute_reply.started": "2025-05-12T08:35:43.202357Z",
          "shell.execute_reply": "2025-05-12T08:35:47.144528Z"
        },
        "id": "tWndmfhdnZje",
        "outputId": "410d367a-2bfb-4d71-bafb-7bff3f557a15",
        "colab": {
          "base_uri": "https://localhost:8080/"
        }
      },
      "outputs": [
        {
          "output_type": "stream",
          "name": "stdout",
          "text": [
            "Collecting scikit-learn==1.4.2\n",
            "  Downloading scikit_learn-1.4.2-cp311-cp311-manylinux_2_17_x86_64.manylinux2014_x86_64.whl.metadata (11 kB)\n",
            "Collecting imbalanced-learn==0.12.0\n",
            "  Downloading imbalanced_learn-0.12.0-py3-none-any.whl.metadata (8.2 kB)\n",
            "Requirement already satisfied: numpy>=1.19.5 in /usr/local/lib/python3.11/dist-packages (from scikit-learn==1.4.2) (2.0.2)\n",
            "Requirement already satisfied: scipy>=1.6.0 in /usr/local/lib/python3.11/dist-packages (from scikit-learn==1.4.2) (1.15.2)\n",
            "Requirement already satisfied: joblib>=1.2.0 in /usr/local/lib/python3.11/dist-packages (from scikit-learn==1.4.2) (1.5.0)\n",
            "Requirement already satisfied: threadpoolctl>=2.0.0 in /usr/local/lib/python3.11/dist-packages (from scikit-learn==1.4.2) (3.6.0)\n",
            "Downloading scikit_learn-1.4.2-cp311-cp311-manylinux_2_17_x86_64.manylinux2014_x86_64.whl (12.1 MB)\n",
            "\u001b[2K   \u001b[90m━━━━━━━━━━━━━━━━━━━━━━━━━━━━━━━━━━━━━━━━\u001b[0m \u001b[32m12.1/12.1 MB\u001b[0m \u001b[31m74.4 MB/s\u001b[0m eta \u001b[36m0:00:00\u001b[0m\n",
            "\u001b[?25hDownloading imbalanced_learn-0.12.0-py3-none-any.whl (257 kB)\n",
            "\u001b[2K   \u001b[90m━━━━━━━━━━━━━━━━━━━━━━━━━━━━━━━━━━━━━━━━\u001b[0m \u001b[32m257.7/257.7 kB\u001b[0m \u001b[31m19.4 MB/s\u001b[0m eta \u001b[36m0:00:00\u001b[0m\n",
            "\u001b[?25hInstalling collected packages: scikit-learn, imbalanced-learn\n",
            "  Attempting uninstall: scikit-learn\n",
            "    Found existing installation: scikit-learn 1.6.1\n",
            "    Uninstalling scikit-learn-1.6.1:\n",
            "      Successfully uninstalled scikit-learn-1.6.1\n",
            "  Attempting uninstall: imbalanced-learn\n",
            "    Found existing installation: imbalanced-learn 0.13.0\n",
            "    Uninstalling imbalanced-learn-0.13.0:\n",
            "      Successfully uninstalled imbalanced-learn-0.13.0\n",
            "Successfully installed imbalanced-learn-0.12.0 scikit-learn-1.4.2\n"
          ]
        }
      ],
      "execution_count": null
    },
    {
      "cell_type": "code",
      "source": [
        "from sklearn.model_selection import train_test_split\n",
        "from sklearn.linear_model import LogisticRegression\n",
        "from sklearn.metrics import accuracy_score, precision_score, recall_score, confusion_matrix, f1_score, roc_auc_score\n",
        "from lightgbm import LGBMClassifier\n",
        "from imblearn.over_sampling import SMOTE\n",
        "import os\n",
        "import pandas as pd\n",
        "import numpy as np\n",
        "import matplotlib.pyplot as plt\n",
        "import seaborn as sns\n",
        "import warnings\n",
        "warnings.filterwarnings(\"ignore\")"
      ],
      "metadata": {
        "trusted": true,
        "execution": {
          "iopub.status.busy": "2025-05-12T08:35:47.147716Z",
          "iopub.execute_input": "2025-05-12T08:35:47.148022Z",
          "iopub.status.idle": "2025-05-12T08:35:50.088213Z",
          "shell.execute_reply.started": "2025-05-12T08:35:47.147996Z",
          "shell.execute_reply": "2025-05-12T08:35:50.087184Z"
        },
        "id": "EF8SwNVXnZje"
      },
      "outputs": [],
      "execution_count": null
    },
    {
      "cell_type": "code",
      "source": [
        "import os\n",
        "\n",
        "print(modu_ds_4_credit_card_fraud_detection_path)"
      ],
      "metadata": {
        "id": "fnoQr--KoYeS",
        "outputId": "7a8a76f6-c989-418c-c8a2-d467bfb09e0e",
        "colab": {
          "base_uri": "https://localhost:8080/"
        }
      },
      "execution_count": null,
      "outputs": [
        {
          "output_type": "stream",
          "name": "stdout",
          "text": [
            "/root/.cache/kagglehub/competitions/modu-ds-4-credit-card-fraud-detection\n"
          ]
        }
      ]
    },
    {
      "cell_type": "code",
      "source": [
        "import pandas as pd\n",
        "\n",
        "train = pd.read_csv(os.path.join(modu_ds_4_credit_card_fraud_detection_path, 'train.csv'))\n",
        "test = pd.read_csv(os.path.join(modu_ds_4_credit_card_fraud_detection_path, 'test.csv'))\n"
      ],
      "metadata": {
        "trusted": true,
        "execution": {
          "iopub.status.busy": "2025-05-12T08:35:50.089166Z",
          "iopub.execute_input": "2025-05-12T08:35:50.089767Z",
          "iopub.status.idle": "2025-05-12T08:35:52.501565Z",
          "shell.execute_reply.started": "2025-05-12T08:35:50.089744Z",
          "shell.execute_reply": "2025-05-12T08:35:52.50067Z"
        },
        "id": "dbRdUb1snZjg"
      },
      "outputs": [],
      "execution_count": null
    },
    {
      "cell_type": "markdown",
      "source": [
        "#### 1. 데이터 이해 및 탐색"
      ],
      "metadata": {
        "id": "xeCrGeAGAjBn"
      }
    },
    {
      "cell_type": "markdown",
      "source": [
        "[문제 상황]\n",
        "- Kaggle의 신용카드 데이터 셋을 활용해서 신용카드 사기 검출을 분류하여 고객이 구매하지 않은 상품에 대해 요금이 청구되지 않도록 신용카드 회사가 신용카드 사기 거래를 식별하는 미션을 수행하는 프로젝트\n",
        "\n",
        "[데이터 설명]\n",
        "- 모든 특징 변수는 수치형이며, 대부분은 PCA(주성분 분석)를 통해 변환된 값\n",
        "\n",
        "| 컬럼 이름         | 설명                                                              |\n",
        "| ------------- | --------------------------------------------------------------- |\n",
        "| `V1` \\~ `V28` | PCA 변환을 통해 얻어진 **주성분 특징들**<br>원래의 의미 있는 변수명은 제공되지 않음 (기밀 보호 목적) |\n",
        "| `Time`        | 첫 거래 시점으로부터의 **경과 시간 (초)**                                      |\n",
        "| `Amount`      | 해당 거래의 **금액**. 예시 기반 비용 민감 학습 등에 활용 가능                          |\n",
        "| `Class`       | **목표 변수 (Target)**<br>사기 거래: `1`, 정상 거래: `0`                    |\n",
        "\n",
        "[확인할 점]\n",
        "- `V1`~`V28`은 변수 간 상관관계를 제거하기 위해 변환된 주성분이므로, 해석보다는 패턴 탐지 및 분류 모델링에 집중하자.\n",
        "\n",
        "- `Amount`는 원본 스케일이 그대로 존재하며, 모델 입력 전 정규화 또는 로그 변환 등을 고려할 수 있음.\n",
        "\n",
        "- `Class`는 극단적인 불균형 분포를 가지며 (0: 99.9%, 1: 0.1%), 따라서 정확도만으로 모델 성능을 평가하면 부정확할 수 있음.\n",
        "\n",
        "\n"
      ],
      "metadata": {
        "id": "GYsgND1mAnlE"
      }
    },
    {
      "cell_type": "markdown",
      "source": [
        "##### 1-1. 데이터 살펴보기"
      ],
      "metadata": {
        "id": "BIgO1NlwCz6k"
      }
    },
    {
      "cell_type": "code",
      "source": [
        "train.head()"
      ],
      "metadata": {
        "trusted": true,
        "execution": {
          "iopub.status.busy": "2025-05-12T08:35:52.503768Z",
          "iopub.execute_input": "2025-05-12T08:35:52.504077Z",
          "iopub.status.idle": "2025-05-12T08:35:52.530841Z",
          "shell.execute_reply.started": "2025-05-12T08:35:52.504051Z",
          "shell.execute_reply": "2025-05-12T08:35:52.529876Z"
        },
        "id": "IOT8a1BknZji",
        "outputId": "c898ea6e-0ea9-479e-f1b3-b112f50374fd",
        "colab": {
          "base_uri": "https://localhost:8080/",
          "height": 255
        }
      },
      "outputs": [
        {
          "output_type": "execute_result",
          "data": {
            "text/plain": [
              "   id  Time        V1        V2        V3        V4        V5        V6  \\\n",
              "0   0   0.0 -1.359807 -0.072781  2.536347  1.378155 -0.338321  0.462388   \n",
              "1   1   0.0  1.191857  0.266151  0.166480  0.448154  0.060018 -0.082361   \n",
              "2   2   1.0 -1.358354 -1.340163  1.773209  0.379780 -0.503198  1.800499   \n",
              "3   3   1.0 -0.966272 -0.185226  1.792993 -0.863291 -0.010309  1.247203   \n",
              "4   4   2.0 -1.158233  0.877737  1.548718  0.403034 -0.407193  0.095921   \n",
              "\n",
              "         V7        V8  ...       V21       V22       V23       V24       V25  \\\n",
              "0  0.239599  0.098698  ... -0.018307  0.277838 -0.110474  0.066928  0.128539   \n",
              "1 -0.078803  0.085102  ... -0.225775 -0.638672  0.101288 -0.339846  0.167170   \n",
              "2  0.791461  0.247676  ...  0.247998  0.771679  0.909412 -0.689281 -0.327642   \n",
              "3  0.237609  0.377436  ... -0.108300  0.005274 -0.190321 -1.175575  0.647376   \n",
              "4  0.592941 -0.270533  ... -0.009431  0.798278 -0.137458  0.141267 -0.206010   \n",
              "\n",
              "        V26       V27       V28  Amount  Class  \n",
              "0 -0.189115  0.133558 -0.021053  149.62      0  \n",
              "1  0.125895 -0.008983  0.014724    2.69      0  \n",
              "2 -0.139097 -0.055353 -0.059752  378.66      0  \n",
              "3 -0.221929  0.062723  0.061458  123.50      0  \n",
              "4  0.502292  0.219422  0.215153   69.99      0  \n",
              "\n",
              "[5 rows x 32 columns]"
            ],
            "text/html": [
              "\n",
              "  <div id=\"df-685e1ec1-9707-452e-b66b-a5440dfb8b08\" class=\"colab-df-container\">\n",
              "    <div>\n",
              "<style scoped>\n",
              "    .dataframe tbody tr th:only-of-type {\n",
              "        vertical-align: middle;\n",
              "    }\n",
              "\n",
              "    .dataframe tbody tr th {\n",
              "        vertical-align: top;\n",
              "    }\n",
              "\n",
              "    .dataframe thead th {\n",
              "        text-align: right;\n",
              "    }\n",
              "</style>\n",
              "<table border=\"1\" class=\"dataframe\">\n",
              "  <thead>\n",
              "    <tr style=\"text-align: right;\">\n",
              "      <th></th>\n",
              "      <th>id</th>\n",
              "      <th>Time</th>\n",
              "      <th>V1</th>\n",
              "      <th>V2</th>\n",
              "      <th>V3</th>\n",
              "      <th>V4</th>\n",
              "      <th>V5</th>\n",
              "      <th>V6</th>\n",
              "      <th>V7</th>\n",
              "      <th>V8</th>\n",
              "      <th>...</th>\n",
              "      <th>V21</th>\n",
              "      <th>V22</th>\n",
              "      <th>V23</th>\n",
              "      <th>V24</th>\n",
              "      <th>V25</th>\n",
              "      <th>V26</th>\n",
              "      <th>V27</th>\n",
              "      <th>V28</th>\n",
              "      <th>Amount</th>\n",
              "      <th>Class</th>\n",
              "    </tr>\n",
              "  </thead>\n",
              "  <tbody>\n",
              "    <tr>\n",
              "      <th>0</th>\n",
              "      <td>0</td>\n",
              "      <td>0.0</td>\n",
              "      <td>-1.359807</td>\n",
              "      <td>-0.072781</td>\n",
              "      <td>2.536347</td>\n",
              "      <td>1.378155</td>\n",
              "      <td>-0.338321</td>\n",
              "      <td>0.462388</td>\n",
              "      <td>0.239599</td>\n",
              "      <td>0.098698</td>\n",
              "      <td>...</td>\n",
              "      <td>-0.018307</td>\n",
              "      <td>0.277838</td>\n",
              "      <td>-0.110474</td>\n",
              "      <td>0.066928</td>\n",
              "      <td>0.128539</td>\n",
              "      <td>-0.189115</td>\n",
              "      <td>0.133558</td>\n",
              "      <td>-0.021053</td>\n",
              "      <td>149.62</td>\n",
              "      <td>0</td>\n",
              "    </tr>\n",
              "    <tr>\n",
              "      <th>1</th>\n",
              "      <td>1</td>\n",
              "      <td>0.0</td>\n",
              "      <td>1.191857</td>\n",
              "      <td>0.266151</td>\n",
              "      <td>0.166480</td>\n",
              "      <td>0.448154</td>\n",
              "      <td>0.060018</td>\n",
              "      <td>-0.082361</td>\n",
              "      <td>-0.078803</td>\n",
              "      <td>0.085102</td>\n",
              "      <td>...</td>\n",
              "      <td>-0.225775</td>\n",
              "      <td>-0.638672</td>\n",
              "      <td>0.101288</td>\n",
              "      <td>-0.339846</td>\n",
              "      <td>0.167170</td>\n",
              "      <td>0.125895</td>\n",
              "      <td>-0.008983</td>\n",
              "      <td>0.014724</td>\n",
              "      <td>2.69</td>\n",
              "      <td>0</td>\n",
              "    </tr>\n",
              "    <tr>\n",
              "      <th>2</th>\n",
              "      <td>2</td>\n",
              "      <td>1.0</td>\n",
              "      <td>-1.358354</td>\n",
              "      <td>-1.340163</td>\n",
              "      <td>1.773209</td>\n",
              "      <td>0.379780</td>\n",
              "      <td>-0.503198</td>\n",
              "      <td>1.800499</td>\n",
              "      <td>0.791461</td>\n",
              "      <td>0.247676</td>\n",
              "      <td>...</td>\n",
              "      <td>0.247998</td>\n",
              "      <td>0.771679</td>\n",
              "      <td>0.909412</td>\n",
              "      <td>-0.689281</td>\n",
              "      <td>-0.327642</td>\n",
              "      <td>-0.139097</td>\n",
              "      <td>-0.055353</td>\n",
              "      <td>-0.059752</td>\n",
              "      <td>378.66</td>\n",
              "      <td>0</td>\n",
              "    </tr>\n",
              "    <tr>\n",
              "      <th>3</th>\n",
              "      <td>3</td>\n",
              "      <td>1.0</td>\n",
              "      <td>-0.966272</td>\n",
              "      <td>-0.185226</td>\n",
              "      <td>1.792993</td>\n",
              "      <td>-0.863291</td>\n",
              "      <td>-0.010309</td>\n",
              "      <td>1.247203</td>\n",
              "      <td>0.237609</td>\n",
              "      <td>0.377436</td>\n",
              "      <td>...</td>\n",
              "      <td>-0.108300</td>\n",
              "      <td>0.005274</td>\n",
              "      <td>-0.190321</td>\n",
              "      <td>-1.175575</td>\n",
              "      <td>0.647376</td>\n",
              "      <td>-0.221929</td>\n",
              "      <td>0.062723</td>\n",
              "      <td>0.061458</td>\n",
              "      <td>123.50</td>\n",
              "      <td>0</td>\n",
              "    </tr>\n",
              "    <tr>\n",
              "      <th>4</th>\n",
              "      <td>4</td>\n",
              "      <td>2.0</td>\n",
              "      <td>-1.158233</td>\n",
              "      <td>0.877737</td>\n",
              "      <td>1.548718</td>\n",
              "      <td>0.403034</td>\n",
              "      <td>-0.407193</td>\n",
              "      <td>0.095921</td>\n",
              "      <td>0.592941</td>\n",
              "      <td>-0.270533</td>\n",
              "      <td>...</td>\n",
              "      <td>-0.009431</td>\n",
              "      <td>0.798278</td>\n",
              "      <td>-0.137458</td>\n",
              "      <td>0.141267</td>\n",
              "      <td>-0.206010</td>\n",
              "      <td>0.502292</td>\n",
              "      <td>0.219422</td>\n",
              "      <td>0.215153</td>\n",
              "      <td>69.99</td>\n",
              "      <td>0</td>\n",
              "    </tr>\n",
              "  </tbody>\n",
              "</table>\n",
              "<p>5 rows × 32 columns</p>\n",
              "</div>\n",
              "    <div class=\"colab-df-buttons\">\n",
              "\n",
              "  <div class=\"colab-df-container\">\n",
              "    <button class=\"colab-df-convert\" onclick=\"convertToInteractive('df-685e1ec1-9707-452e-b66b-a5440dfb8b08')\"\n",
              "            title=\"Convert this dataframe to an interactive table.\"\n",
              "            style=\"display:none;\">\n",
              "\n",
              "  <svg xmlns=\"http://www.w3.org/2000/svg\" height=\"24px\" viewBox=\"0 -960 960 960\">\n",
              "    <path d=\"M120-120v-720h720v720H120Zm60-500h600v-160H180v160Zm220 220h160v-160H400v160Zm0 220h160v-160H400v160ZM180-400h160v-160H180v160Zm440 0h160v-160H620v160ZM180-180h160v-160H180v160Zm440 0h160v-160H620v160Z\"/>\n",
              "  </svg>\n",
              "    </button>\n",
              "\n",
              "  <style>\n",
              "    .colab-df-container {\n",
              "      display:flex;\n",
              "      gap: 12px;\n",
              "    }\n",
              "\n",
              "    .colab-df-convert {\n",
              "      background-color: #E8F0FE;\n",
              "      border: none;\n",
              "      border-radius: 50%;\n",
              "      cursor: pointer;\n",
              "      display: none;\n",
              "      fill: #1967D2;\n",
              "      height: 32px;\n",
              "      padding: 0 0 0 0;\n",
              "      width: 32px;\n",
              "    }\n",
              "\n",
              "    .colab-df-convert:hover {\n",
              "      background-color: #E2EBFA;\n",
              "      box-shadow: 0px 1px 2px rgba(60, 64, 67, 0.3), 0px 1px 3px 1px rgba(60, 64, 67, 0.15);\n",
              "      fill: #174EA6;\n",
              "    }\n",
              "\n",
              "    .colab-df-buttons div {\n",
              "      margin-bottom: 4px;\n",
              "    }\n",
              "\n",
              "    [theme=dark] .colab-df-convert {\n",
              "      background-color: #3B4455;\n",
              "      fill: #D2E3FC;\n",
              "    }\n",
              "\n",
              "    [theme=dark] .colab-df-convert:hover {\n",
              "      background-color: #434B5C;\n",
              "      box-shadow: 0px 1px 3px 1px rgba(0, 0, 0, 0.15);\n",
              "      filter: drop-shadow(0px 1px 2px rgba(0, 0, 0, 0.3));\n",
              "      fill: #FFFFFF;\n",
              "    }\n",
              "  </style>\n",
              "\n",
              "    <script>\n",
              "      const buttonEl =\n",
              "        document.querySelector('#df-685e1ec1-9707-452e-b66b-a5440dfb8b08 button.colab-df-convert');\n",
              "      buttonEl.style.display =\n",
              "        google.colab.kernel.accessAllowed ? 'block' : 'none';\n",
              "\n",
              "      async function convertToInteractive(key) {\n",
              "        const element = document.querySelector('#df-685e1ec1-9707-452e-b66b-a5440dfb8b08');\n",
              "        const dataTable =\n",
              "          await google.colab.kernel.invokeFunction('convertToInteractive',\n",
              "                                                    [key], {});\n",
              "        if (!dataTable) return;\n",
              "\n",
              "        const docLinkHtml = 'Like what you see? Visit the ' +\n",
              "          '<a target=\"_blank\" href=https://colab.research.google.com/notebooks/data_table.ipynb>data table notebook</a>'\n",
              "          + ' to learn more about interactive tables.';\n",
              "        element.innerHTML = '';\n",
              "        dataTable['output_type'] = 'display_data';\n",
              "        await google.colab.output.renderOutput(dataTable, element);\n",
              "        const docLink = document.createElement('div');\n",
              "        docLink.innerHTML = docLinkHtml;\n",
              "        element.appendChild(docLink);\n",
              "      }\n",
              "    </script>\n",
              "  </div>\n",
              "\n",
              "\n",
              "    <div id=\"df-acb9b43e-0206-44b7-8c18-ef131abd25c6\">\n",
              "      <button class=\"colab-df-quickchart\" onclick=\"quickchart('df-acb9b43e-0206-44b7-8c18-ef131abd25c6')\"\n",
              "                title=\"Suggest charts\"\n",
              "                style=\"display:none;\">\n",
              "\n",
              "<svg xmlns=\"http://www.w3.org/2000/svg\" height=\"24px\"viewBox=\"0 0 24 24\"\n",
              "     width=\"24px\">\n",
              "    <g>\n",
              "        <path d=\"M19 3H5c-1.1 0-2 .9-2 2v14c0 1.1.9 2 2 2h14c1.1 0 2-.9 2-2V5c0-1.1-.9-2-2-2zM9 17H7v-7h2v7zm4 0h-2V7h2v10zm4 0h-2v-4h2v4z\"/>\n",
              "    </g>\n",
              "</svg>\n",
              "      </button>\n",
              "\n",
              "<style>\n",
              "  .colab-df-quickchart {\n",
              "      --bg-color: #E8F0FE;\n",
              "      --fill-color: #1967D2;\n",
              "      --hover-bg-color: #E2EBFA;\n",
              "      --hover-fill-color: #174EA6;\n",
              "      --disabled-fill-color: #AAA;\n",
              "      --disabled-bg-color: #DDD;\n",
              "  }\n",
              "\n",
              "  [theme=dark] .colab-df-quickchart {\n",
              "      --bg-color: #3B4455;\n",
              "      --fill-color: #D2E3FC;\n",
              "      --hover-bg-color: #434B5C;\n",
              "      --hover-fill-color: #FFFFFF;\n",
              "      --disabled-bg-color: #3B4455;\n",
              "      --disabled-fill-color: #666;\n",
              "  }\n",
              "\n",
              "  .colab-df-quickchart {\n",
              "    background-color: var(--bg-color);\n",
              "    border: none;\n",
              "    border-radius: 50%;\n",
              "    cursor: pointer;\n",
              "    display: none;\n",
              "    fill: var(--fill-color);\n",
              "    height: 32px;\n",
              "    padding: 0;\n",
              "    width: 32px;\n",
              "  }\n",
              "\n",
              "  .colab-df-quickchart:hover {\n",
              "    background-color: var(--hover-bg-color);\n",
              "    box-shadow: 0 1px 2px rgba(60, 64, 67, 0.3), 0 1px 3px 1px rgba(60, 64, 67, 0.15);\n",
              "    fill: var(--button-hover-fill-color);\n",
              "  }\n",
              "\n",
              "  .colab-df-quickchart-complete:disabled,\n",
              "  .colab-df-quickchart-complete:disabled:hover {\n",
              "    background-color: var(--disabled-bg-color);\n",
              "    fill: var(--disabled-fill-color);\n",
              "    box-shadow: none;\n",
              "  }\n",
              "\n",
              "  .colab-df-spinner {\n",
              "    border: 2px solid var(--fill-color);\n",
              "    border-color: transparent;\n",
              "    border-bottom-color: var(--fill-color);\n",
              "    animation:\n",
              "      spin 1s steps(1) infinite;\n",
              "  }\n",
              "\n",
              "  @keyframes spin {\n",
              "    0% {\n",
              "      border-color: transparent;\n",
              "      border-bottom-color: var(--fill-color);\n",
              "      border-left-color: var(--fill-color);\n",
              "    }\n",
              "    20% {\n",
              "      border-color: transparent;\n",
              "      border-left-color: var(--fill-color);\n",
              "      border-top-color: var(--fill-color);\n",
              "    }\n",
              "    30% {\n",
              "      border-color: transparent;\n",
              "      border-left-color: var(--fill-color);\n",
              "      border-top-color: var(--fill-color);\n",
              "      border-right-color: var(--fill-color);\n",
              "    }\n",
              "    40% {\n",
              "      border-color: transparent;\n",
              "      border-right-color: var(--fill-color);\n",
              "      border-top-color: var(--fill-color);\n",
              "    }\n",
              "    60% {\n",
              "      border-color: transparent;\n",
              "      border-right-color: var(--fill-color);\n",
              "    }\n",
              "    80% {\n",
              "      border-color: transparent;\n",
              "      border-right-color: var(--fill-color);\n",
              "      border-bottom-color: var(--fill-color);\n",
              "    }\n",
              "    90% {\n",
              "      border-color: transparent;\n",
              "      border-bottom-color: var(--fill-color);\n",
              "    }\n",
              "  }\n",
              "</style>\n",
              "\n",
              "      <script>\n",
              "        async function quickchart(key) {\n",
              "          const quickchartButtonEl =\n",
              "            document.querySelector('#' + key + ' button');\n",
              "          quickchartButtonEl.disabled = true;  // To prevent multiple clicks.\n",
              "          quickchartButtonEl.classList.add('colab-df-spinner');\n",
              "          try {\n",
              "            const charts = await google.colab.kernel.invokeFunction(\n",
              "                'suggestCharts', [key], {});\n",
              "          } catch (error) {\n",
              "            console.error('Error during call to suggestCharts:', error);\n",
              "          }\n",
              "          quickchartButtonEl.classList.remove('colab-df-spinner');\n",
              "          quickchartButtonEl.classList.add('colab-df-quickchart-complete');\n",
              "        }\n",
              "        (() => {\n",
              "          let quickchartButtonEl =\n",
              "            document.querySelector('#df-acb9b43e-0206-44b7-8c18-ef131abd25c6 button');\n",
              "          quickchartButtonEl.style.display =\n",
              "            google.colab.kernel.accessAllowed ? 'block' : 'none';\n",
              "        })();\n",
              "      </script>\n",
              "    </div>\n",
              "\n",
              "    </div>\n",
              "  </div>\n"
            ],
            "application/vnd.google.colaboratory.intrinsic+json": {
              "type": "dataframe",
              "variable_name": "train"
            }
          },
          "metadata": {},
          "execution_count": 7
        }
      ],
      "execution_count": null
    },
    {
      "cell_type": "code",
      "source": [
        "test.head()"
      ],
      "metadata": {
        "trusted": true,
        "execution": {
          "iopub.status.busy": "2025-05-12T08:35:52.531898Z",
          "iopub.execute_input": "2025-05-12T08:35:52.532277Z",
          "iopub.status.idle": "2025-05-12T08:35:52.554881Z",
          "shell.execute_reply.started": "2025-05-12T08:35:52.532243Z",
          "shell.execute_reply": "2025-05-12T08:35:52.554068Z"
        },
        "id": "9bgFhoHlnZjj",
        "outputId": "25d8d5e8-fbde-439c-b4a6-5b70a1b5bf9b",
        "colab": {
          "base_uri": "https://localhost:8080/",
          "height": 255
        }
      },
      "outputs": [
        {
          "output_type": "execute_result",
          "data": {
            "text/plain": [
              "       id      Time        V1        V2        V3        V4        V5  \\\n",
              "0  170883  120396.0 -2.410892 -1.264333 -0.787460 -0.212152  1.139859   \n",
              "1  170884  120396.0 -1.394526  0.284790  2.979226  0.362345 -1.344546   \n",
              "2  170885  120396.0  0.140378  0.989574 -0.506447  0.480553  1.407763   \n",
              "3  170886  120396.0 -1.303150  0.187865  0.944395 -1.277834  1.236744   \n",
              "4  170887  120396.0  1.947883 -1.095332 -1.392121 -0.600598 -0.320840   \n",
              "\n",
              "         V6        V7        V8  ...       V20       V21       V22       V23  \\\n",
              "0 -2.030200  0.533818 -0.194852  ... -0.558831 -0.076699  0.054816 -1.243901   \n",
              "1  2.278858 -1.836101 -1.797895  ... -0.807798  1.945416 -0.539926 -0.446763   \n",
              "2  0.371637  0.811775  0.067702  ...  0.120841  0.385872  1.302941 -0.177157   \n",
              "3 -1.301696  1.402234 -0.558914  ... -0.251346 -0.274175 -0.656826 -0.164985   \n",
              "4  0.048953 -0.443486 -0.081011  ... -0.293448 -0.250594 -0.385151  0.099030   \n",
              "\n",
              "        V24       V25       V26       V27       V28  Amount  \n",
              "0  0.147148  0.974330  1.309377  0.083660 -0.611166  124.98  \n",
              "1 -0.521142  0.405680 -0.149237  0.458944 -0.071516   50.00  \n",
              "2 -0.192410 -0.724567 -0.433276  0.540947  0.323866    8.69  \n",
              "3  0.001284 -0.001842 -0.024050 -0.436872  0.051705   59.99  \n",
              "4  0.221922 -0.212846  0.586637 -0.071616 -0.045475  119.97  \n",
              "\n",
              "[5 rows x 31 columns]"
            ],
            "text/html": [
              "\n",
              "  <div id=\"df-41e92a29-79d9-486a-8fa1-32a71a860589\" class=\"colab-df-container\">\n",
              "    <div>\n",
              "<style scoped>\n",
              "    .dataframe tbody tr th:only-of-type {\n",
              "        vertical-align: middle;\n",
              "    }\n",
              "\n",
              "    .dataframe tbody tr th {\n",
              "        vertical-align: top;\n",
              "    }\n",
              "\n",
              "    .dataframe thead th {\n",
              "        text-align: right;\n",
              "    }\n",
              "</style>\n",
              "<table border=\"1\" class=\"dataframe\">\n",
              "  <thead>\n",
              "    <tr style=\"text-align: right;\">\n",
              "      <th></th>\n",
              "      <th>id</th>\n",
              "      <th>Time</th>\n",
              "      <th>V1</th>\n",
              "      <th>V2</th>\n",
              "      <th>V3</th>\n",
              "      <th>V4</th>\n",
              "      <th>V5</th>\n",
              "      <th>V6</th>\n",
              "      <th>V7</th>\n",
              "      <th>V8</th>\n",
              "      <th>...</th>\n",
              "      <th>V20</th>\n",
              "      <th>V21</th>\n",
              "      <th>V22</th>\n",
              "      <th>V23</th>\n",
              "      <th>V24</th>\n",
              "      <th>V25</th>\n",
              "      <th>V26</th>\n",
              "      <th>V27</th>\n",
              "      <th>V28</th>\n",
              "      <th>Amount</th>\n",
              "    </tr>\n",
              "  </thead>\n",
              "  <tbody>\n",
              "    <tr>\n",
              "      <th>0</th>\n",
              "      <td>170883</td>\n",
              "      <td>120396.0</td>\n",
              "      <td>-2.410892</td>\n",
              "      <td>-1.264333</td>\n",
              "      <td>-0.787460</td>\n",
              "      <td>-0.212152</td>\n",
              "      <td>1.139859</td>\n",
              "      <td>-2.030200</td>\n",
              "      <td>0.533818</td>\n",
              "      <td>-0.194852</td>\n",
              "      <td>...</td>\n",
              "      <td>-0.558831</td>\n",
              "      <td>-0.076699</td>\n",
              "      <td>0.054816</td>\n",
              "      <td>-1.243901</td>\n",
              "      <td>0.147148</td>\n",
              "      <td>0.974330</td>\n",
              "      <td>1.309377</td>\n",
              "      <td>0.083660</td>\n",
              "      <td>-0.611166</td>\n",
              "      <td>124.98</td>\n",
              "    </tr>\n",
              "    <tr>\n",
              "      <th>1</th>\n",
              "      <td>170884</td>\n",
              "      <td>120396.0</td>\n",
              "      <td>-1.394526</td>\n",
              "      <td>0.284790</td>\n",
              "      <td>2.979226</td>\n",
              "      <td>0.362345</td>\n",
              "      <td>-1.344546</td>\n",
              "      <td>2.278858</td>\n",
              "      <td>-1.836101</td>\n",
              "      <td>-1.797895</td>\n",
              "      <td>...</td>\n",
              "      <td>-0.807798</td>\n",
              "      <td>1.945416</td>\n",
              "      <td>-0.539926</td>\n",
              "      <td>-0.446763</td>\n",
              "      <td>-0.521142</td>\n",
              "      <td>0.405680</td>\n",
              "      <td>-0.149237</td>\n",
              "      <td>0.458944</td>\n",
              "      <td>-0.071516</td>\n",
              "      <td>50.00</td>\n",
              "    </tr>\n",
              "    <tr>\n",
              "      <th>2</th>\n",
              "      <td>170885</td>\n",
              "      <td>120396.0</td>\n",
              "      <td>0.140378</td>\n",
              "      <td>0.989574</td>\n",
              "      <td>-0.506447</td>\n",
              "      <td>0.480553</td>\n",
              "      <td>1.407763</td>\n",
              "      <td>0.371637</td>\n",
              "      <td>0.811775</td>\n",
              "      <td>0.067702</td>\n",
              "      <td>...</td>\n",
              "      <td>0.120841</td>\n",
              "      <td>0.385872</td>\n",
              "      <td>1.302941</td>\n",
              "      <td>-0.177157</td>\n",
              "      <td>-0.192410</td>\n",
              "      <td>-0.724567</td>\n",
              "      <td>-0.433276</td>\n",
              "      <td>0.540947</td>\n",
              "      <td>0.323866</td>\n",
              "      <td>8.69</td>\n",
              "    </tr>\n",
              "    <tr>\n",
              "      <th>3</th>\n",
              "      <td>170886</td>\n",
              "      <td>120396.0</td>\n",
              "      <td>-1.303150</td>\n",
              "      <td>0.187865</td>\n",
              "      <td>0.944395</td>\n",
              "      <td>-1.277834</td>\n",
              "      <td>1.236744</td>\n",
              "      <td>-1.301696</td>\n",
              "      <td>1.402234</td>\n",
              "      <td>-0.558914</td>\n",
              "      <td>...</td>\n",
              "      <td>-0.251346</td>\n",
              "      <td>-0.274175</td>\n",
              "      <td>-0.656826</td>\n",
              "      <td>-0.164985</td>\n",
              "      <td>0.001284</td>\n",
              "      <td>-0.001842</td>\n",
              "      <td>-0.024050</td>\n",
              "      <td>-0.436872</td>\n",
              "      <td>0.051705</td>\n",
              "      <td>59.99</td>\n",
              "    </tr>\n",
              "    <tr>\n",
              "      <th>4</th>\n",
              "      <td>170887</td>\n",
              "      <td>120396.0</td>\n",
              "      <td>1.947883</td>\n",
              "      <td>-1.095332</td>\n",
              "      <td>-1.392121</td>\n",
              "      <td>-0.600598</td>\n",
              "      <td>-0.320840</td>\n",
              "      <td>0.048953</td>\n",
              "      <td>-0.443486</td>\n",
              "      <td>-0.081011</td>\n",
              "      <td>...</td>\n",
              "      <td>-0.293448</td>\n",
              "      <td>-0.250594</td>\n",
              "      <td>-0.385151</td>\n",
              "      <td>0.099030</td>\n",
              "      <td>0.221922</td>\n",
              "      <td>-0.212846</td>\n",
              "      <td>0.586637</td>\n",
              "      <td>-0.071616</td>\n",
              "      <td>-0.045475</td>\n",
              "      <td>119.97</td>\n",
              "    </tr>\n",
              "  </tbody>\n",
              "</table>\n",
              "<p>5 rows × 31 columns</p>\n",
              "</div>\n",
              "    <div class=\"colab-df-buttons\">\n",
              "\n",
              "  <div class=\"colab-df-container\">\n",
              "    <button class=\"colab-df-convert\" onclick=\"convertToInteractive('df-41e92a29-79d9-486a-8fa1-32a71a860589')\"\n",
              "            title=\"Convert this dataframe to an interactive table.\"\n",
              "            style=\"display:none;\">\n",
              "\n",
              "  <svg xmlns=\"http://www.w3.org/2000/svg\" height=\"24px\" viewBox=\"0 -960 960 960\">\n",
              "    <path d=\"M120-120v-720h720v720H120Zm60-500h600v-160H180v160Zm220 220h160v-160H400v160Zm0 220h160v-160H400v160ZM180-400h160v-160H180v160Zm440 0h160v-160H620v160ZM180-180h160v-160H180v160Zm440 0h160v-160H620v160Z\"/>\n",
              "  </svg>\n",
              "    </button>\n",
              "\n",
              "  <style>\n",
              "    .colab-df-container {\n",
              "      display:flex;\n",
              "      gap: 12px;\n",
              "    }\n",
              "\n",
              "    .colab-df-convert {\n",
              "      background-color: #E8F0FE;\n",
              "      border: none;\n",
              "      border-radius: 50%;\n",
              "      cursor: pointer;\n",
              "      display: none;\n",
              "      fill: #1967D2;\n",
              "      height: 32px;\n",
              "      padding: 0 0 0 0;\n",
              "      width: 32px;\n",
              "    }\n",
              "\n",
              "    .colab-df-convert:hover {\n",
              "      background-color: #E2EBFA;\n",
              "      box-shadow: 0px 1px 2px rgba(60, 64, 67, 0.3), 0px 1px 3px 1px rgba(60, 64, 67, 0.15);\n",
              "      fill: #174EA6;\n",
              "    }\n",
              "\n",
              "    .colab-df-buttons div {\n",
              "      margin-bottom: 4px;\n",
              "    }\n",
              "\n",
              "    [theme=dark] .colab-df-convert {\n",
              "      background-color: #3B4455;\n",
              "      fill: #D2E3FC;\n",
              "    }\n",
              "\n",
              "    [theme=dark] .colab-df-convert:hover {\n",
              "      background-color: #434B5C;\n",
              "      box-shadow: 0px 1px 3px 1px rgba(0, 0, 0, 0.15);\n",
              "      filter: drop-shadow(0px 1px 2px rgba(0, 0, 0, 0.3));\n",
              "      fill: #FFFFFF;\n",
              "    }\n",
              "  </style>\n",
              "\n",
              "    <script>\n",
              "      const buttonEl =\n",
              "        document.querySelector('#df-41e92a29-79d9-486a-8fa1-32a71a860589 button.colab-df-convert');\n",
              "      buttonEl.style.display =\n",
              "        google.colab.kernel.accessAllowed ? 'block' : 'none';\n",
              "\n",
              "      async function convertToInteractive(key) {\n",
              "        const element = document.querySelector('#df-41e92a29-79d9-486a-8fa1-32a71a860589');\n",
              "        const dataTable =\n",
              "          await google.colab.kernel.invokeFunction('convertToInteractive',\n",
              "                                                    [key], {});\n",
              "        if (!dataTable) return;\n",
              "\n",
              "        const docLinkHtml = 'Like what you see? Visit the ' +\n",
              "          '<a target=\"_blank\" href=https://colab.research.google.com/notebooks/data_table.ipynb>data table notebook</a>'\n",
              "          + ' to learn more about interactive tables.';\n",
              "        element.innerHTML = '';\n",
              "        dataTable['output_type'] = 'display_data';\n",
              "        await google.colab.output.renderOutput(dataTable, element);\n",
              "        const docLink = document.createElement('div');\n",
              "        docLink.innerHTML = docLinkHtml;\n",
              "        element.appendChild(docLink);\n",
              "      }\n",
              "    </script>\n",
              "  </div>\n",
              "\n",
              "\n",
              "    <div id=\"df-b60d8973-969b-4d45-a08f-bc86d396f56b\">\n",
              "      <button class=\"colab-df-quickchart\" onclick=\"quickchart('df-b60d8973-969b-4d45-a08f-bc86d396f56b')\"\n",
              "                title=\"Suggest charts\"\n",
              "                style=\"display:none;\">\n",
              "\n",
              "<svg xmlns=\"http://www.w3.org/2000/svg\" height=\"24px\"viewBox=\"0 0 24 24\"\n",
              "     width=\"24px\">\n",
              "    <g>\n",
              "        <path d=\"M19 3H5c-1.1 0-2 .9-2 2v14c0 1.1.9 2 2 2h14c1.1 0 2-.9 2-2V5c0-1.1-.9-2-2-2zM9 17H7v-7h2v7zm4 0h-2V7h2v10zm4 0h-2v-4h2v4z\"/>\n",
              "    </g>\n",
              "</svg>\n",
              "      </button>\n",
              "\n",
              "<style>\n",
              "  .colab-df-quickchart {\n",
              "      --bg-color: #E8F0FE;\n",
              "      --fill-color: #1967D2;\n",
              "      --hover-bg-color: #E2EBFA;\n",
              "      --hover-fill-color: #174EA6;\n",
              "      --disabled-fill-color: #AAA;\n",
              "      --disabled-bg-color: #DDD;\n",
              "  }\n",
              "\n",
              "  [theme=dark] .colab-df-quickchart {\n",
              "      --bg-color: #3B4455;\n",
              "      --fill-color: #D2E3FC;\n",
              "      --hover-bg-color: #434B5C;\n",
              "      --hover-fill-color: #FFFFFF;\n",
              "      --disabled-bg-color: #3B4455;\n",
              "      --disabled-fill-color: #666;\n",
              "  }\n",
              "\n",
              "  .colab-df-quickchart {\n",
              "    background-color: var(--bg-color);\n",
              "    border: none;\n",
              "    border-radius: 50%;\n",
              "    cursor: pointer;\n",
              "    display: none;\n",
              "    fill: var(--fill-color);\n",
              "    height: 32px;\n",
              "    padding: 0;\n",
              "    width: 32px;\n",
              "  }\n",
              "\n",
              "  .colab-df-quickchart:hover {\n",
              "    background-color: var(--hover-bg-color);\n",
              "    box-shadow: 0 1px 2px rgba(60, 64, 67, 0.3), 0 1px 3px 1px rgba(60, 64, 67, 0.15);\n",
              "    fill: var(--button-hover-fill-color);\n",
              "  }\n",
              "\n",
              "  .colab-df-quickchart-complete:disabled,\n",
              "  .colab-df-quickchart-complete:disabled:hover {\n",
              "    background-color: var(--disabled-bg-color);\n",
              "    fill: var(--disabled-fill-color);\n",
              "    box-shadow: none;\n",
              "  }\n",
              "\n",
              "  .colab-df-spinner {\n",
              "    border: 2px solid var(--fill-color);\n",
              "    border-color: transparent;\n",
              "    border-bottom-color: var(--fill-color);\n",
              "    animation:\n",
              "      spin 1s steps(1) infinite;\n",
              "  }\n",
              "\n",
              "  @keyframes spin {\n",
              "    0% {\n",
              "      border-color: transparent;\n",
              "      border-bottom-color: var(--fill-color);\n",
              "      border-left-color: var(--fill-color);\n",
              "    }\n",
              "    20% {\n",
              "      border-color: transparent;\n",
              "      border-left-color: var(--fill-color);\n",
              "      border-top-color: var(--fill-color);\n",
              "    }\n",
              "    30% {\n",
              "      border-color: transparent;\n",
              "      border-left-color: var(--fill-color);\n",
              "      border-top-color: var(--fill-color);\n",
              "      border-right-color: var(--fill-color);\n",
              "    }\n",
              "    40% {\n",
              "      border-color: transparent;\n",
              "      border-right-color: var(--fill-color);\n",
              "      border-top-color: var(--fill-color);\n",
              "    }\n",
              "    60% {\n",
              "      border-color: transparent;\n",
              "      border-right-color: var(--fill-color);\n",
              "    }\n",
              "    80% {\n",
              "      border-color: transparent;\n",
              "      border-right-color: var(--fill-color);\n",
              "      border-bottom-color: var(--fill-color);\n",
              "    }\n",
              "    90% {\n",
              "      border-color: transparent;\n",
              "      border-bottom-color: var(--fill-color);\n",
              "    }\n",
              "  }\n",
              "</style>\n",
              "\n",
              "      <script>\n",
              "        async function quickchart(key) {\n",
              "          const quickchartButtonEl =\n",
              "            document.querySelector('#' + key + ' button');\n",
              "          quickchartButtonEl.disabled = true;  // To prevent multiple clicks.\n",
              "          quickchartButtonEl.classList.add('colab-df-spinner');\n",
              "          try {\n",
              "            const charts = await google.colab.kernel.invokeFunction(\n",
              "                'suggestCharts', [key], {});\n",
              "          } catch (error) {\n",
              "            console.error('Error during call to suggestCharts:', error);\n",
              "          }\n",
              "          quickchartButtonEl.classList.remove('colab-df-spinner');\n",
              "          quickchartButtonEl.classList.add('colab-df-quickchart-complete');\n",
              "        }\n",
              "        (() => {\n",
              "          let quickchartButtonEl =\n",
              "            document.querySelector('#df-b60d8973-969b-4d45-a08f-bc86d396f56b button');\n",
              "          quickchartButtonEl.style.display =\n",
              "            google.colab.kernel.accessAllowed ? 'block' : 'none';\n",
              "        })();\n",
              "      </script>\n",
              "    </div>\n",
              "\n",
              "    </div>\n",
              "  </div>\n"
            ],
            "application/vnd.google.colaboratory.intrinsic+json": {
              "type": "dataframe",
              "variable_name": "test"
            }
          },
          "metadata": {},
          "execution_count": 8
        }
      ],
      "execution_count": null
    },
    {
      "cell_type": "code",
      "source": [
        "# 170882 를 기점으로 그 뒤 시점으로 자름\n",
        "\n",
        "train[\"id\"].max(), test[\"id\"].min()"
      ],
      "metadata": {
        "trusted": true,
        "execution": {
          "iopub.status.busy": "2025-05-12T08:35:52.556065Z",
          "iopub.execute_input": "2025-05-12T08:35:52.556778Z",
          "iopub.status.idle": "2025-05-12T08:35:52.574806Z",
          "shell.execute_reply.started": "2025-05-12T08:35:52.556751Z",
          "shell.execute_reply": "2025-05-12T08:35:52.573681Z"
        },
        "id": "rAekWHS3nZjk",
        "outputId": "13fab25d-ebcd-4f8c-891f-4f9d39b301be",
        "colab": {
          "base_uri": "https://localhost:8080/"
        }
      },
      "outputs": [
        {
          "output_type": "execute_result",
          "data": {
            "text/plain": [
              "(170882, 170883)"
            ]
          },
          "metadata": {},
          "execution_count": 67
        }
      ],
      "execution_count": null
    },
    {
      "cell_type": "code",
      "source": [
        "train.head()"
      ],
      "metadata": {
        "trusted": true,
        "execution": {
          "iopub.status.busy": "2025-05-12T08:35:52.575692Z",
          "iopub.execute_input": "2025-05-12T08:35:52.575997Z",
          "iopub.status.idle": "2025-05-12T08:35:52.6067Z",
          "shell.execute_reply.started": "2025-05-12T08:35:52.575973Z",
          "shell.execute_reply": "2025-05-12T08:35:52.605767Z"
        },
        "id": "2Y46wP5enZjm",
        "outputId": "423a6a90-f3ae-4b40-826a-c79fa33a1aaf",
        "colab": {
          "base_uri": "https://localhost:8080/",
          "height": 255
        }
      },
      "outputs": [
        {
          "output_type": "execute_result",
          "data": {
            "text/plain": [
              "   id  Time        V1        V2        V3        V4        V5        V6  \\\n",
              "0   0   0.0 -1.359807 -0.072781  2.536347  1.378155 -0.338321  0.462388   \n",
              "1   1   0.0  1.191857  0.266151  0.166480  0.448154  0.060018 -0.082361   \n",
              "2   2   1.0 -1.358354 -1.340163  1.773209  0.379780 -0.503198  1.800499   \n",
              "3   3   1.0 -0.966272 -0.185226  1.792993 -0.863291 -0.010309  1.247203   \n",
              "4   4   2.0 -1.158233  0.877737  1.548718  0.403034 -0.407193  0.095921   \n",
              "\n",
              "         V7        V8  ...       V21       V22       V23       V24       V25  \\\n",
              "0  0.239599  0.098698  ... -0.018307  0.277838 -0.110474  0.066928  0.128539   \n",
              "1 -0.078803  0.085102  ... -0.225775 -0.638672  0.101288 -0.339846  0.167170   \n",
              "2  0.791461  0.247676  ...  0.247998  0.771679  0.909412 -0.689281 -0.327642   \n",
              "3  0.237609  0.377436  ... -0.108300  0.005274 -0.190321 -1.175575  0.647376   \n",
              "4  0.592941 -0.270533  ... -0.009431  0.798278 -0.137458  0.141267 -0.206010   \n",
              "\n",
              "        V26       V27       V28  Amount  Class  \n",
              "0 -0.189115  0.133558 -0.021053  149.62      0  \n",
              "1  0.125895 -0.008983  0.014724    2.69      0  \n",
              "2 -0.139097 -0.055353 -0.059752  378.66      0  \n",
              "3 -0.221929  0.062723  0.061458  123.50      0  \n",
              "4  0.502292  0.219422  0.215153   69.99      0  \n",
              "\n",
              "[5 rows x 32 columns]"
            ],
            "text/html": [
              "\n",
              "  <div id=\"df-bc99dfad-d1c1-4713-94f1-5585336b59ee\" class=\"colab-df-container\">\n",
              "    <div>\n",
              "<style scoped>\n",
              "    .dataframe tbody tr th:only-of-type {\n",
              "        vertical-align: middle;\n",
              "    }\n",
              "\n",
              "    .dataframe tbody tr th {\n",
              "        vertical-align: top;\n",
              "    }\n",
              "\n",
              "    .dataframe thead th {\n",
              "        text-align: right;\n",
              "    }\n",
              "</style>\n",
              "<table border=\"1\" class=\"dataframe\">\n",
              "  <thead>\n",
              "    <tr style=\"text-align: right;\">\n",
              "      <th></th>\n",
              "      <th>id</th>\n",
              "      <th>Time</th>\n",
              "      <th>V1</th>\n",
              "      <th>V2</th>\n",
              "      <th>V3</th>\n",
              "      <th>V4</th>\n",
              "      <th>V5</th>\n",
              "      <th>V6</th>\n",
              "      <th>V7</th>\n",
              "      <th>V8</th>\n",
              "      <th>...</th>\n",
              "      <th>V21</th>\n",
              "      <th>V22</th>\n",
              "      <th>V23</th>\n",
              "      <th>V24</th>\n",
              "      <th>V25</th>\n",
              "      <th>V26</th>\n",
              "      <th>V27</th>\n",
              "      <th>V28</th>\n",
              "      <th>Amount</th>\n",
              "      <th>Class</th>\n",
              "    </tr>\n",
              "  </thead>\n",
              "  <tbody>\n",
              "    <tr>\n",
              "      <th>0</th>\n",
              "      <td>0</td>\n",
              "      <td>0.0</td>\n",
              "      <td>-1.359807</td>\n",
              "      <td>-0.072781</td>\n",
              "      <td>2.536347</td>\n",
              "      <td>1.378155</td>\n",
              "      <td>-0.338321</td>\n",
              "      <td>0.462388</td>\n",
              "      <td>0.239599</td>\n",
              "      <td>0.098698</td>\n",
              "      <td>...</td>\n",
              "      <td>-0.018307</td>\n",
              "      <td>0.277838</td>\n",
              "      <td>-0.110474</td>\n",
              "      <td>0.066928</td>\n",
              "      <td>0.128539</td>\n",
              "      <td>-0.189115</td>\n",
              "      <td>0.133558</td>\n",
              "      <td>-0.021053</td>\n",
              "      <td>149.62</td>\n",
              "      <td>0</td>\n",
              "    </tr>\n",
              "    <tr>\n",
              "      <th>1</th>\n",
              "      <td>1</td>\n",
              "      <td>0.0</td>\n",
              "      <td>1.191857</td>\n",
              "      <td>0.266151</td>\n",
              "      <td>0.166480</td>\n",
              "      <td>0.448154</td>\n",
              "      <td>0.060018</td>\n",
              "      <td>-0.082361</td>\n",
              "      <td>-0.078803</td>\n",
              "      <td>0.085102</td>\n",
              "      <td>...</td>\n",
              "      <td>-0.225775</td>\n",
              "      <td>-0.638672</td>\n",
              "      <td>0.101288</td>\n",
              "      <td>-0.339846</td>\n",
              "      <td>0.167170</td>\n",
              "      <td>0.125895</td>\n",
              "      <td>-0.008983</td>\n",
              "      <td>0.014724</td>\n",
              "      <td>2.69</td>\n",
              "      <td>0</td>\n",
              "    </tr>\n",
              "    <tr>\n",
              "      <th>2</th>\n",
              "      <td>2</td>\n",
              "      <td>1.0</td>\n",
              "      <td>-1.358354</td>\n",
              "      <td>-1.340163</td>\n",
              "      <td>1.773209</td>\n",
              "      <td>0.379780</td>\n",
              "      <td>-0.503198</td>\n",
              "      <td>1.800499</td>\n",
              "      <td>0.791461</td>\n",
              "      <td>0.247676</td>\n",
              "      <td>...</td>\n",
              "      <td>0.247998</td>\n",
              "      <td>0.771679</td>\n",
              "      <td>0.909412</td>\n",
              "      <td>-0.689281</td>\n",
              "      <td>-0.327642</td>\n",
              "      <td>-0.139097</td>\n",
              "      <td>-0.055353</td>\n",
              "      <td>-0.059752</td>\n",
              "      <td>378.66</td>\n",
              "      <td>0</td>\n",
              "    </tr>\n",
              "    <tr>\n",
              "      <th>3</th>\n",
              "      <td>3</td>\n",
              "      <td>1.0</td>\n",
              "      <td>-0.966272</td>\n",
              "      <td>-0.185226</td>\n",
              "      <td>1.792993</td>\n",
              "      <td>-0.863291</td>\n",
              "      <td>-0.010309</td>\n",
              "      <td>1.247203</td>\n",
              "      <td>0.237609</td>\n",
              "      <td>0.377436</td>\n",
              "      <td>...</td>\n",
              "      <td>-0.108300</td>\n",
              "      <td>0.005274</td>\n",
              "      <td>-0.190321</td>\n",
              "      <td>-1.175575</td>\n",
              "      <td>0.647376</td>\n",
              "      <td>-0.221929</td>\n",
              "      <td>0.062723</td>\n",
              "      <td>0.061458</td>\n",
              "      <td>123.50</td>\n",
              "      <td>0</td>\n",
              "    </tr>\n",
              "    <tr>\n",
              "      <th>4</th>\n",
              "      <td>4</td>\n",
              "      <td>2.0</td>\n",
              "      <td>-1.158233</td>\n",
              "      <td>0.877737</td>\n",
              "      <td>1.548718</td>\n",
              "      <td>0.403034</td>\n",
              "      <td>-0.407193</td>\n",
              "      <td>0.095921</td>\n",
              "      <td>0.592941</td>\n",
              "      <td>-0.270533</td>\n",
              "      <td>...</td>\n",
              "      <td>-0.009431</td>\n",
              "      <td>0.798278</td>\n",
              "      <td>-0.137458</td>\n",
              "      <td>0.141267</td>\n",
              "      <td>-0.206010</td>\n",
              "      <td>0.502292</td>\n",
              "      <td>0.219422</td>\n",
              "      <td>0.215153</td>\n",
              "      <td>69.99</td>\n",
              "      <td>0</td>\n",
              "    </tr>\n",
              "  </tbody>\n",
              "</table>\n",
              "<p>5 rows × 32 columns</p>\n",
              "</div>\n",
              "    <div class=\"colab-df-buttons\">\n",
              "\n",
              "  <div class=\"colab-df-container\">\n",
              "    <button class=\"colab-df-convert\" onclick=\"convertToInteractive('df-bc99dfad-d1c1-4713-94f1-5585336b59ee')\"\n",
              "            title=\"Convert this dataframe to an interactive table.\"\n",
              "            style=\"display:none;\">\n",
              "\n",
              "  <svg xmlns=\"http://www.w3.org/2000/svg\" height=\"24px\" viewBox=\"0 -960 960 960\">\n",
              "    <path d=\"M120-120v-720h720v720H120Zm60-500h600v-160H180v160Zm220 220h160v-160H400v160Zm0 220h160v-160H400v160ZM180-400h160v-160H180v160Zm440 0h160v-160H620v160ZM180-180h160v-160H180v160Zm440 0h160v-160H620v160Z\"/>\n",
              "  </svg>\n",
              "    </button>\n",
              "\n",
              "  <style>\n",
              "    .colab-df-container {\n",
              "      display:flex;\n",
              "      gap: 12px;\n",
              "    }\n",
              "\n",
              "    .colab-df-convert {\n",
              "      background-color: #E8F0FE;\n",
              "      border: none;\n",
              "      border-radius: 50%;\n",
              "      cursor: pointer;\n",
              "      display: none;\n",
              "      fill: #1967D2;\n",
              "      height: 32px;\n",
              "      padding: 0 0 0 0;\n",
              "      width: 32px;\n",
              "    }\n",
              "\n",
              "    .colab-df-convert:hover {\n",
              "      background-color: #E2EBFA;\n",
              "      box-shadow: 0px 1px 2px rgba(60, 64, 67, 0.3), 0px 1px 3px 1px rgba(60, 64, 67, 0.15);\n",
              "      fill: #174EA6;\n",
              "    }\n",
              "\n",
              "    .colab-df-buttons div {\n",
              "      margin-bottom: 4px;\n",
              "    }\n",
              "\n",
              "    [theme=dark] .colab-df-convert {\n",
              "      background-color: #3B4455;\n",
              "      fill: #D2E3FC;\n",
              "    }\n",
              "\n",
              "    [theme=dark] .colab-df-convert:hover {\n",
              "      background-color: #434B5C;\n",
              "      box-shadow: 0px 1px 3px 1px rgba(0, 0, 0, 0.15);\n",
              "      filter: drop-shadow(0px 1px 2px rgba(0, 0, 0, 0.3));\n",
              "      fill: #FFFFFF;\n",
              "    }\n",
              "  </style>\n",
              "\n",
              "    <script>\n",
              "      const buttonEl =\n",
              "        document.querySelector('#df-bc99dfad-d1c1-4713-94f1-5585336b59ee button.colab-df-convert');\n",
              "      buttonEl.style.display =\n",
              "        google.colab.kernel.accessAllowed ? 'block' : 'none';\n",
              "\n",
              "      async function convertToInteractive(key) {\n",
              "        const element = document.querySelector('#df-bc99dfad-d1c1-4713-94f1-5585336b59ee');\n",
              "        const dataTable =\n",
              "          await google.colab.kernel.invokeFunction('convertToInteractive',\n",
              "                                                    [key], {});\n",
              "        if (!dataTable) return;\n",
              "\n",
              "        const docLinkHtml = 'Like what you see? Visit the ' +\n",
              "          '<a target=\"_blank\" href=https://colab.research.google.com/notebooks/data_table.ipynb>data table notebook</a>'\n",
              "          + ' to learn more about interactive tables.';\n",
              "        element.innerHTML = '';\n",
              "        dataTable['output_type'] = 'display_data';\n",
              "        await google.colab.output.renderOutput(dataTable, element);\n",
              "        const docLink = document.createElement('div');\n",
              "        docLink.innerHTML = docLinkHtml;\n",
              "        element.appendChild(docLink);\n",
              "      }\n",
              "    </script>\n",
              "  </div>\n",
              "\n",
              "\n",
              "    <div id=\"df-4da93111-e286-4f6d-aec1-f280114645df\">\n",
              "      <button class=\"colab-df-quickchart\" onclick=\"quickchart('df-4da93111-e286-4f6d-aec1-f280114645df')\"\n",
              "                title=\"Suggest charts\"\n",
              "                style=\"display:none;\">\n",
              "\n",
              "<svg xmlns=\"http://www.w3.org/2000/svg\" height=\"24px\"viewBox=\"0 0 24 24\"\n",
              "     width=\"24px\">\n",
              "    <g>\n",
              "        <path d=\"M19 3H5c-1.1 0-2 .9-2 2v14c0 1.1.9 2 2 2h14c1.1 0 2-.9 2-2V5c0-1.1-.9-2-2-2zM9 17H7v-7h2v7zm4 0h-2V7h2v10zm4 0h-2v-4h2v4z\"/>\n",
              "    </g>\n",
              "</svg>\n",
              "      </button>\n",
              "\n",
              "<style>\n",
              "  .colab-df-quickchart {\n",
              "      --bg-color: #E8F0FE;\n",
              "      --fill-color: #1967D2;\n",
              "      --hover-bg-color: #E2EBFA;\n",
              "      --hover-fill-color: #174EA6;\n",
              "      --disabled-fill-color: #AAA;\n",
              "      --disabled-bg-color: #DDD;\n",
              "  }\n",
              "\n",
              "  [theme=dark] .colab-df-quickchart {\n",
              "      --bg-color: #3B4455;\n",
              "      --fill-color: #D2E3FC;\n",
              "      --hover-bg-color: #434B5C;\n",
              "      --hover-fill-color: #FFFFFF;\n",
              "      --disabled-bg-color: #3B4455;\n",
              "      --disabled-fill-color: #666;\n",
              "  }\n",
              "\n",
              "  .colab-df-quickchart {\n",
              "    background-color: var(--bg-color);\n",
              "    border: none;\n",
              "    border-radius: 50%;\n",
              "    cursor: pointer;\n",
              "    display: none;\n",
              "    fill: var(--fill-color);\n",
              "    height: 32px;\n",
              "    padding: 0;\n",
              "    width: 32px;\n",
              "  }\n",
              "\n",
              "  .colab-df-quickchart:hover {\n",
              "    background-color: var(--hover-bg-color);\n",
              "    box-shadow: 0 1px 2px rgba(60, 64, 67, 0.3), 0 1px 3px 1px rgba(60, 64, 67, 0.15);\n",
              "    fill: var(--button-hover-fill-color);\n",
              "  }\n",
              "\n",
              "  .colab-df-quickchart-complete:disabled,\n",
              "  .colab-df-quickchart-complete:disabled:hover {\n",
              "    background-color: var(--disabled-bg-color);\n",
              "    fill: var(--disabled-fill-color);\n",
              "    box-shadow: none;\n",
              "  }\n",
              "\n",
              "  .colab-df-spinner {\n",
              "    border: 2px solid var(--fill-color);\n",
              "    border-color: transparent;\n",
              "    border-bottom-color: var(--fill-color);\n",
              "    animation:\n",
              "      spin 1s steps(1) infinite;\n",
              "  }\n",
              "\n",
              "  @keyframes spin {\n",
              "    0% {\n",
              "      border-color: transparent;\n",
              "      border-bottom-color: var(--fill-color);\n",
              "      border-left-color: var(--fill-color);\n",
              "    }\n",
              "    20% {\n",
              "      border-color: transparent;\n",
              "      border-left-color: var(--fill-color);\n",
              "      border-top-color: var(--fill-color);\n",
              "    }\n",
              "    30% {\n",
              "      border-color: transparent;\n",
              "      border-left-color: var(--fill-color);\n",
              "      border-top-color: var(--fill-color);\n",
              "      border-right-color: var(--fill-color);\n",
              "    }\n",
              "    40% {\n",
              "      border-color: transparent;\n",
              "      border-right-color: var(--fill-color);\n",
              "      border-top-color: var(--fill-color);\n",
              "    }\n",
              "    60% {\n",
              "      border-color: transparent;\n",
              "      border-right-color: var(--fill-color);\n",
              "    }\n",
              "    80% {\n",
              "      border-color: transparent;\n",
              "      border-right-color: var(--fill-color);\n",
              "      border-bottom-color: var(--fill-color);\n",
              "    }\n",
              "    90% {\n",
              "      border-color: transparent;\n",
              "      border-bottom-color: var(--fill-color);\n",
              "    }\n",
              "  }\n",
              "</style>\n",
              "\n",
              "      <script>\n",
              "        async function quickchart(key) {\n",
              "          const quickchartButtonEl =\n",
              "            document.querySelector('#' + key + ' button');\n",
              "          quickchartButtonEl.disabled = true;  // To prevent multiple clicks.\n",
              "          quickchartButtonEl.classList.add('colab-df-spinner');\n",
              "          try {\n",
              "            const charts = await google.colab.kernel.invokeFunction(\n",
              "                'suggestCharts', [key], {});\n",
              "          } catch (error) {\n",
              "            console.error('Error during call to suggestCharts:', error);\n",
              "          }\n",
              "          quickchartButtonEl.classList.remove('colab-df-spinner');\n",
              "          quickchartButtonEl.classList.add('colab-df-quickchart-complete');\n",
              "        }\n",
              "        (() => {\n",
              "          let quickchartButtonEl =\n",
              "            document.querySelector('#df-4da93111-e286-4f6d-aec1-f280114645df button');\n",
              "          quickchartButtonEl.style.display =\n",
              "            google.colab.kernel.accessAllowed ? 'block' : 'none';\n",
              "        })();\n",
              "      </script>\n",
              "    </div>\n",
              "\n",
              "    </div>\n",
              "  </div>\n"
            ],
            "application/vnd.google.colaboratory.intrinsic+json": {
              "type": "dataframe",
              "variable_name": "train"
            }
          },
          "metadata": {},
          "execution_count": 68
        }
      ],
      "execution_count": null
    },
    {
      "cell_type": "code",
      "source": [
        "train.info()"
      ],
      "metadata": {
        "trusted": true,
        "execution": {
          "iopub.status.busy": "2025-05-12T08:35:52.607531Z",
          "iopub.execute_input": "2025-05-12T08:35:52.607813Z",
          "iopub.status.idle": "2025-05-12T08:35:52.661654Z",
          "shell.execute_reply.started": "2025-05-12T08:35:52.607777Z",
          "shell.execute_reply": "2025-05-12T08:35:52.660693Z"
        },
        "id": "kpuAJFfknZjm",
        "outputId": "fe6ae338-c4d1-449d-c993-f42a3f76e4d5",
        "colab": {
          "base_uri": "https://localhost:8080/"
        }
      },
      "outputs": [
        {
          "output_type": "stream",
          "name": "stdout",
          "text": [
            "<class 'pandas.core.frame.DataFrame'>\n",
            "RangeIndex: 170883 entries, 0 to 170882\n",
            "Data columns (total 32 columns):\n",
            " #   Column  Non-Null Count   Dtype  \n",
            "---  ------  --------------   -----  \n",
            " 0   id      170883 non-null  int64  \n",
            " 1   Time    170883 non-null  float64\n",
            " 2   V1      170883 non-null  float64\n",
            " 3   V2      170883 non-null  float64\n",
            " 4   V3      170883 non-null  float64\n",
            " 5   V4      170883 non-null  float64\n",
            " 6   V5      170883 non-null  float64\n",
            " 7   V6      170883 non-null  float64\n",
            " 8   V7      170883 non-null  float64\n",
            " 9   V8      170883 non-null  float64\n",
            " 10  V9      170883 non-null  float64\n",
            " 11  V10     170883 non-null  float64\n",
            " 12  V11     170883 non-null  float64\n",
            " 13  V12     170883 non-null  float64\n",
            " 14  V13     170883 non-null  float64\n",
            " 15  V14     170883 non-null  float64\n",
            " 16  V15     170883 non-null  float64\n",
            " 17  V16     170883 non-null  float64\n",
            " 18  V17     170883 non-null  float64\n",
            " 19  V18     170883 non-null  float64\n",
            " 20  V19     170883 non-null  float64\n",
            " 21  V20     170883 non-null  float64\n",
            " 22  V21     170883 non-null  float64\n",
            " 23  V22     170883 non-null  float64\n",
            " 24  V23     170883 non-null  float64\n",
            " 25  V24     170883 non-null  float64\n",
            " 26  V25     170883 non-null  float64\n",
            " 27  V26     170883 non-null  float64\n",
            " 28  V27     170883 non-null  float64\n",
            " 29  V28     170883 non-null  float64\n",
            " 30  Amount  170883 non-null  float64\n",
            " 31  Class   170883 non-null  int64  \n",
            "dtypes: float64(30), int64(2)\n",
            "memory usage: 41.7 MB\n"
          ]
        }
      ],
      "execution_count": null
    },
    {
      "cell_type": "code",
      "source": [
        "train[\"Class\"].value_counts(normalize=True)*100"
      ],
      "metadata": {
        "trusted": true,
        "execution": {
          "iopub.status.busy": "2025-05-12T08:35:52.662718Z",
          "iopub.execute_input": "2025-05-12T08:35:52.663062Z",
          "iopub.status.idle": "2025-05-12T08:35:52.672525Z",
          "shell.execute_reply.started": "2025-05-12T08:35:52.663034Z",
          "shell.execute_reply": "2025-05-12T08:35:52.67161Z"
        },
        "id": "aZ1MJloQnZjo",
        "outputId": "2da89f55-b47d-4d77-9105-47de9d3da91d",
        "colab": {
          "base_uri": "https://localhost:8080/",
          "height": 178
        }
      },
      "outputs": [
        {
          "output_type": "execute_result",
          "data": {
            "text/plain": [
              "Class\n",
              "0    99.78933\n",
              "1     0.21067\n",
              "Name: proportion, dtype: float64"
            ],
            "text/html": [
              "<div>\n",
              "<style scoped>\n",
              "    .dataframe tbody tr th:only-of-type {\n",
              "        vertical-align: middle;\n",
              "    }\n",
              "\n",
              "    .dataframe tbody tr th {\n",
              "        vertical-align: top;\n",
              "    }\n",
              "\n",
              "    .dataframe thead th {\n",
              "        text-align: right;\n",
              "    }\n",
              "</style>\n",
              "<table border=\"1\" class=\"dataframe\">\n",
              "  <thead>\n",
              "    <tr style=\"text-align: right;\">\n",
              "      <th></th>\n",
              "      <th>proportion</th>\n",
              "    </tr>\n",
              "    <tr>\n",
              "      <th>Class</th>\n",
              "      <th></th>\n",
              "    </tr>\n",
              "  </thead>\n",
              "  <tbody>\n",
              "    <tr>\n",
              "      <th>0</th>\n",
              "      <td>99.78933</td>\n",
              "    </tr>\n",
              "    <tr>\n",
              "      <th>1</th>\n",
              "      <td>0.21067</td>\n",
              "    </tr>\n",
              "  </tbody>\n",
              "</table>\n",
              "</div><br><label><b>dtype:</b> float64</label>"
            ]
          },
          "metadata": {},
          "execution_count": 70
        }
      ],
      "execution_count": null
    },
    {
      "cell_type": "markdown",
      "source": [
        "##### 1-2. 전체 거래의 Time과 Amount"
      ],
      "metadata": {
        "id": "EolkeK2OC7aq"
      }
    },
    {
      "cell_type": "code",
      "source": [
        "plt.figure(figsize=(6, 3))\n",
        "sns.scatterplot(data=train, x='Time', y='Amount', alpha=0.3)\n",
        "plt.title('Time vs Amount')\n",
        "plt.xlabel('Time')\n",
        "plt.ylabel('Amount')\n",
        "plt.grid(True)\n",
        "plt.show()"
      ],
      "metadata": {
        "colab": {
          "base_uri": "https://localhost:8080/",
          "height": 333
        },
        "id": "20Y_LwCrDFlK",
        "outputId": "9496b639-d5e9-453e-9fed-a1070867c617"
      },
      "execution_count": null,
      "outputs": [
        {
          "output_type": "display_data",
          "data": {
            "text/plain": [
              "<Figure size 600x300 with 1 Axes>"
            ],
            "image/png": "[encoded data removed]"
          },
          "metadata": {}
        }
      ]
    },
    {
      "cell_type": "markdown",
      "source": [
        "[결과 해석]\n",
        "- 대부분의 거래 금액은 1000 이하의 소액 거래에 집중되어 있음\n",
        "- 거래는 시간에 상관 없이 전반적으로 고르게 분포되어 있음\n",
        "  - 40,000 ~ 80,000 초 구간에 거래량이 약간 많아 보이는 패턴 존재\n",
        "- 일부 거래는 20,000 이상의 고액 거래도 발생하지만 빈도는 매우 낮음"
      ],
      "metadata": {
        "id": "rmra7LBUEM8T"
      }
    },
    {
      "cell_type": "markdown",
      "source": [
        "##### 1-3. 사기 거래 (Class==1)"
      ],
      "metadata": {
        "id": "8dIWTPp5DCWt"
      }
    },
    {
      "cell_type": "code",
      "source": [
        "plt.figure(figsize=(6, 3))\n",
        "sns.scatterplot(data=train[train['Class'] == 1], x='Time', y='Amount', color='red', alpha=0.5)\n",
        "plt.title('Time vs Amount (fraudulent transaction)')\n",
        "plt.xlabel('Time')\n",
        "plt.ylabel('Amount')\n",
        "plt.grid(True)\n",
        "plt.show()"
      ],
      "metadata": {
        "colab": {
          "base_uri": "https://localhost:8080/",
          "height": 333
        },
        "id": "n54hTiUNDT0H",
        "outputId": "0300069f-8e25-4c91-97da-77a44848ef95"
      },
      "execution_count": null,
      "outputs": [
        {
          "output_type": "display_data",
          "data": {
            "text/plain": [
              "<Figure size 600x300 with 1 Axes>"
            ],
            "image/png": "[encoded data removed]"
          },
          "metadata": {}
        }
      ]
    },
    {
      "cell_type": "markdown",
      "source": [
        "[결과 해석]\n",
        "- 전체적으로 거래 금액이 작음, 대부분이 500 이하의 거래\n",
        "  - 몇몇 고액 거래(1,000~1,750)가 보이긴 하지만, 극히 드문 케이스\n",
        "- 시간에 따라 고르게 발생하지만, 30,000 ~ 60,000초 사이에 상대적으로 더 많은 사기 거래가 존재\n",
        "- 0초 부근, 100,000초 이상 구간에서도 간헐적으로 사기 발생\n"
      ],
      "metadata": {
        "id": "LwZLpn5eEiGQ"
      }
    },
    {
      "cell_type": "markdown",
      "source": [
        "##### 1-4. 정리\n",
        "\n",
        "- 사기 거래는 주로 소액 거래에서 발생\n",
        "- 사기 거래는 시간 전체에 걸쳐 발생하지만, 일정 시간대(3만~6만 초)에서 상대적으로 빈번하게 나타나는 경향이 보임\n",
        "- 반면 일반 거래는 금액도 다양하고, 시간대도 더 고르게 분포함.\n"
      ],
      "metadata": {
        "id": "yrRO3AhNFIbW"
      }
    },
    {
      "cell_type": "markdown",
      "source": [
        "##### 1-5. 함수 정의"
      ],
      "metadata": {
        "id": "shlzj2bSD6bs"
      }
    },
    {
      "cell_type": "code",
      "source": [
        "def get_preprocessed_df(df=None, train=True):\n",
        "    df_copy = df.copy()\n",
        "    amount_n = np.log1p(df_copy[\"Amount\"])\n",
        "    df_copy.insert(0, \"Amount_Scaled\", amount_n)\n",
        "    df_copy.drop([\"Time\", \"Amount\"], axis=1, inplace=True)\n",
        "\n",
        "    outlier_index = get_outlier(df=df_copy, column=\"V14\", weight=1.5)\n",
        "    df_copy.drop(outlier_index, axis=0, inplace=True)\n",
        "\n",
        "    return df_copy"
      ],
      "metadata": {
        "trusted": true,
        "execution": {
          "iopub.status.busy": "2025-05-12T08:35:52.675617Z",
          "iopub.execute_input": "2025-05-12T08:35:52.675888Z",
          "iopub.status.idle": "2025-05-12T08:35:52.689111Z",
          "shell.execute_reply.started": "2025-05-12T08:35:52.675867Z",
          "shell.execute_reply": "2025-05-12T08:35:52.688095Z"
        },
        "id": "odwBQFdpnZjo"
      },
      "outputs": [],
      "execution_count": null
    },
    {
      "cell_type": "code",
      "source": [
        "# 사전 데이터 가공 후 학습과 테스트 데이터 세트를 반환하는 함수\n",
        "\n",
        "def get_train_test_dataset(df=None):\n",
        "    df_copy = get_preprocessed_df(df)\n",
        "\n",
        "    X_features = df_copy.iloc[:, :-1]\n",
        "    y_target = df_copy.iloc[:, -1]\n",
        "\n",
        "    X_train, X_test, y_train, y_test = train_test_split(X_features, y_target,\n",
        "                                                        test_size=0.3, random_state=0, stratify=y_target)\n",
        "\n",
        "    return X_train, X_test, y_train, y_test"
      ],
      "metadata": {
        "trusted": true,
        "execution": {
          "iopub.status.busy": "2025-05-12T08:35:52.689978Z",
          "iopub.execute_input": "2025-05-12T08:35:52.690265Z",
          "iopub.status.idle": "2025-05-12T08:35:52.707036Z",
          "shell.execute_reply.started": "2025-05-12T08:35:52.690239Z",
          "shell.execute_reply": "2025-05-12T08:35:52.706083Z"
        },
        "id": "SL4SqSQpnZjo"
      },
      "outputs": [],
      "execution_count": null
    },
    {
      "cell_type": "code",
      "source": [
        "# 평가 함수\n",
        "\n",
        "def get_clf_eval(y_test, pred, pred_proba=None):\n",
        "    confusion = confusion_matrix(y_test, pred)\n",
        "    accuracy = accuracy_score(y_test, pred)\n",
        "    precision = precision_score(y_test, pred)\n",
        "    recall = recall_score(y_test, pred)\n",
        "    f1 = f1_score(y_test, pred)\n",
        "\n",
        "    roc_auc = roc_auc_score(y_test, pred_proba)\n",
        "\n",
        "\n",
        "    print(\"오차 행렬\")\n",
        "    print(confusion)\n",
        "    print(f\"정확도: {accuracy:.4f}, 정밀도: {precision: .4f}, 재현율: {recall: .4f}, f1스코어: {f1:.4f}, roc-auc: {roc_auc:.4f}\")"
      ],
      "metadata": {
        "trusted": true,
        "execution": {
          "iopub.status.busy": "2025-05-12T08:35:52.70804Z",
          "iopub.execute_input": "2025-05-12T08:35:52.708346Z",
          "iopub.status.idle": "2025-05-12T08:35:52.73083Z",
          "shell.execute_reply.started": "2025-05-12T08:35:52.708307Z",
          "shell.execute_reply": "2025-05-12T08:35:52.72973Z"
        },
        "id": "avxruIDTnZjp"
      },
      "outputs": [],
      "execution_count": null
    },
    {
      "cell_type": "code",
      "source": [
        "def get_model_train_eval(model, ftr_train=None, ftr_test=None, tgt_train=None, tgt_test=None):\n",
        "    model.fit(ftr_train, tgt_train)\n",
        "    pred = model.predict(ftr_test)\n",
        "    pred_proba = model.predict_proba(ftr_test)[:, 1]\n",
        "    get_clf_eval(tgt_test, pred, pred_proba)"
      ],
      "metadata": {
        "trusted": true,
        "execution": {
          "iopub.status.busy": "2025-05-12T08:35:52.732287Z",
          "iopub.execute_input": "2025-05-12T08:35:52.732674Z",
          "iopub.status.idle": "2025-05-12T08:35:52.751305Z",
          "shell.execute_reply.started": "2025-05-12T08:35:52.73265Z",
          "shell.execute_reply": "2025-05-12T08:35:52.750259Z"
        },
        "id": "bdgCCuUhnZjp"
      },
      "outputs": [],
      "execution_count": null
    },
    {
      "cell_type": "markdown",
      "source": [
        "---"
      ],
      "metadata": {
        "id": "s8H-nPx_t10Y"
      }
    },
    {
      "cell_type": "markdown",
      "source": [
        "### 2. 데이터 전처리"
      ],
      "metadata": {
        "id": "77yTpmx9uJNq"
      }
    },
    {
      "cell_type": "markdown",
      "source": [
        "#### 2-1. 결측치 처리"
      ],
      "metadata": {
        "id": "Xy2tbjGiJb1y"
      }
    },
    {
      "cell_type": "code",
      "source": [
        "train.isnull().sum()"
      ],
      "metadata": {
        "id": "xZ0Pb7PKJeHp",
        "outputId": "868764da-044e-443f-f39d-d28212bd9b35",
        "colab": {
          "base_uri": "https://localhost:8080/",
          "height": 1000
        }
      },
      "execution_count": null,
      "outputs": [
        {
          "output_type": "execute_result",
          "data": {
            "text/plain": [
              "id        0\n",
              "Time      0\n",
              "V1        0\n",
              "V2        0\n",
              "V3        0\n",
              "V4        0\n",
              "V5        0\n",
              "V6        0\n",
              "V7        0\n",
              "V8        0\n",
              "V9        0\n",
              "V10       0\n",
              "V11       0\n",
              "V12       0\n",
              "V13       0\n",
              "V14       0\n",
              "V15       0\n",
              "V16       0\n",
              "V17       0\n",
              "V18       0\n",
              "V19       0\n",
              "V20       0\n",
              "V21       0\n",
              "V22       0\n",
              "V23       0\n",
              "V24       0\n",
              "V25       0\n",
              "V26       0\n",
              "V27       0\n",
              "V28       0\n",
              "Amount    0\n",
              "Class     0\n",
              "dtype: int64"
            ],
            "text/html": [
              "<div>\n",
              "<style scoped>\n",
              "    .dataframe tbody tr th:only-of-type {\n",
              "        vertical-align: middle;\n",
              "    }\n",
              "\n",
              "    .dataframe tbody tr th {\n",
              "        vertical-align: top;\n",
              "    }\n",
              "\n",
              "    .dataframe thead th {\n",
              "        text-align: right;\n",
              "    }\n",
              "</style>\n",
              "<table border=\"1\" class=\"dataframe\">\n",
              "  <thead>\n",
              "    <tr style=\"text-align: right;\">\n",
              "      <th></th>\n",
              "      <th>0</th>\n",
              "    </tr>\n",
              "  </thead>\n",
              "  <tbody>\n",
              "    <tr>\n",
              "      <th>id</th>\n",
              "      <td>0</td>\n",
              "    </tr>\n",
              "    <tr>\n",
              "      <th>Time</th>\n",
              "      <td>0</td>\n",
              "    </tr>\n",
              "    <tr>\n",
              "      <th>V1</th>\n",
              "      <td>0</td>\n",
              "    </tr>\n",
              "    <tr>\n",
              "      <th>V2</th>\n",
              "      <td>0</td>\n",
              "    </tr>\n",
              "    <tr>\n",
              "      <th>V3</th>\n",
              "      <td>0</td>\n",
              "    </tr>\n",
              "    <tr>\n",
              "      <th>V4</th>\n",
              "      <td>0</td>\n",
              "    </tr>\n",
              "    <tr>\n",
              "      <th>V5</th>\n",
              "      <td>0</td>\n",
              "    </tr>\n",
              "    <tr>\n",
              "      <th>V6</th>\n",
              "      <td>0</td>\n",
              "    </tr>\n",
              "    <tr>\n",
              "      <th>V7</th>\n",
              "      <td>0</td>\n",
              "    </tr>\n",
              "    <tr>\n",
              "      <th>V8</th>\n",
              "      <td>0</td>\n",
              "    </tr>\n",
              "    <tr>\n",
              "      <th>V9</th>\n",
              "      <td>0</td>\n",
              "    </tr>\n",
              "    <tr>\n",
              "      <th>V10</th>\n",
              "      <td>0</td>\n",
              "    </tr>\n",
              "    <tr>\n",
              "      <th>V11</th>\n",
              "      <td>0</td>\n",
              "    </tr>\n",
              "    <tr>\n",
              "      <th>V12</th>\n",
              "      <td>0</td>\n",
              "    </tr>\n",
              "    <tr>\n",
              "      <th>V13</th>\n",
              "      <td>0</td>\n",
              "    </tr>\n",
              "    <tr>\n",
              "      <th>V14</th>\n",
              "      <td>0</td>\n",
              "    </tr>\n",
              "    <tr>\n",
              "      <th>V15</th>\n",
              "      <td>0</td>\n",
              "    </tr>\n",
              "    <tr>\n",
              "      <th>V16</th>\n",
              "      <td>0</td>\n",
              "    </tr>\n",
              "    <tr>\n",
              "      <th>V17</th>\n",
              "      <td>0</td>\n",
              "    </tr>\n",
              "    <tr>\n",
              "      <th>V18</th>\n",
              "      <td>0</td>\n",
              "    </tr>\n",
              "    <tr>\n",
              "      <th>V19</th>\n",
              "      <td>0</td>\n",
              "    </tr>\n",
              "    <tr>\n",
              "      <th>V20</th>\n",
              "      <td>0</td>\n",
              "    </tr>\n",
              "    <tr>\n",
              "      <th>V21</th>\n",
              "      <td>0</td>\n",
              "    </tr>\n",
              "    <tr>\n",
              "      <th>V22</th>\n",
              "      <td>0</td>\n",
              "    </tr>\n",
              "    <tr>\n",
              "      <th>V23</th>\n",
              "      <td>0</td>\n",
              "    </tr>\n",
              "    <tr>\n",
              "      <th>V24</th>\n",
              "      <td>0</td>\n",
              "    </tr>\n",
              "    <tr>\n",
              "      <th>V25</th>\n",
              "      <td>0</td>\n",
              "    </tr>\n",
              "    <tr>\n",
              "      <th>V26</th>\n",
              "      <td>0</td>\n",
              "    </tr>\n",
              "    <tr>\n",
              "      <th>V27</th>\n",
              "      <td>0</td>\n",
              "    </tr>\n",
              "    <tr>\n",
              "      <th>V28</th>\n",
              "      <td>0</td>\n",
              "    </tr>\n",
              "    <tr>\n",
              "      <th>Amount</th>\n",
              "      <td>0</td>\n",
              "    </tr>\n",
              "    <tr>\n",
              "      <th>Class</th>\n",
              "      <td>0</td>\n",
              "    </tr>\n",
              "  </tbody>\n",
              "</table>\n",
              "</div><br><label><b>dtype:</b> int64</label>"
            ]
          },
          "metadata": {},
          "execution_count": 45
        }
      ]
    },
    {
      "cell_type": "markdown",
      "source": [
        "- 결측치는 보이지 않음.\n",
        "- 그대로 진행하자."
      ],
      "metadata": {
        "id": "7w0wGJx3J6fL"
      }
    },
    {
      "cell_type": "markdown",
      "source": [
        "#### 2-2. 이상치 처리"
      ],
      "metadata": {
        "id": "OGeaTy3RJXa7"
      }
    },
    {
      "cell_type": "markdown",
      "source": [
        "train 데이터의 전체적인 분포와 특징을 확인하자."
      ],
      "metadata": {
        "id": "YdvNV51-wtq9"
      }
    },
    {
      "cell_type": "code",
      "source": [
        "train.describe()"
      ],
      "metadata": {
        "id": "HWMbCWWZwpih",
        "outputId": "df83ccd2-1c38-4c9e-a2b1-3548549f85bc",
        "colab": {
          "base_uri": "https://localhost:8080/",
          "height": 349
        }
      },
      "execution_count": null,
      "outputs": [
        {
          "output_type": "execute_result",
          "data": {
            "text/plain": [
              "                  id           Time             V1             V2  \\\n",
              "count  170883.000000  170883.000000  170883.000000  170883.000000   \n",
              "mean    85441.000000   61091.567090      -0.169838       0.040771   \n",
              "std     49329.817362   27828.109419       1.850529       1.610874   \n",
              "min         0.000000       0.000000     -56.407510     -72.715728   \n",
              "25%     42720.500000   41216.500000      -0.986667      -0.539174   \n",
              "50%     85441.000000   60776.000000      -0.183560       0.109679   \n",
              "75%    128161.500000   78622.000000       1.184446       0.804221   \n",
              "max    170882.000000  120396.000000       2.439207      22.057729   \n",
              "\n",
              "                  V3             V4             V5             V6  \\\n",
              "count  170883.000000  170883.000000  170883.000000  170883.000000   \n",
              "mean        0.493037       0.117429      -0.176102       0.058235   \n",
              "std         1.383241       1.371910       1.338609       1.295123   \n",
              "min       -33.680984      -5.519697     -42.147898     -26.160506   \n",
              "25%        -0.064747      -0.743475      -0.828769      -0.691129   \n",
              "50%         0.623352       0.124307      -0.226228      -0.202634   \n",
              "75%         1.297352       0.937632       0.374445       0.449200   \n",
              "max         9.382558      16.875344      34.801666      22.529298   \n",
              "\n",
              "                  V7             V8  ...            V21            V22  \\\n",
              "count  170883.000000  170883.000000  ...  170883.000000  170883.000000   \n",
              "mean       -0.080669       0.032227  ...      -0.028287      -0.083744   \n",
              "std         1.208518       1.227630  ...       0.743713       0.667318   \n",
              "min       -43.557242     -73.216718  ...     -34.830382     -10.933144   \n",
              "25%        -0.586314      -0.162638  ...      -0.230722      -0.546777   \n",
              "50%        -0.031932       0.056664  ...      -0.054462      -0.066786   \n",
              "75%         0.462616       0.350995  ...       0.128337       0.363165   \n",
              "max        36.677268      20.007208  ...      27.202839      10.503090   \n",
              "\n",
              "                 V23            V24            V25            V26  \\\n",
              "count  170883.000000  170883.000000  170883.000000  170883.000000   \n",
              "mean       -0.022450       0.009008       0.092269       0.012603   \n",
              "std         0.584508       0.598760       0.465505       0.490660   \n",
              "min       -44.807735      -2.836627     -10.295397      -2.604551   \n",
              "25%        -0.170294      -0.332459      -0.195933      -0.330346   \n",
              "50%        -0.036211       0.059474       0.135662      -0.058966   \n",
              "75%         0.098707       0.415860       0.399458       0.272938   \n",
              "max        19.002942       4.022866       7.519589       3.517346   \n",
              "\n",
              "                 V27            V28         Amount          Class  \n",
              "count  170883.000000  170883.000000  170883.000000  170883.000000  \n",
              "mean        0.002093       0.002445      87.336704       0.002107  \n",
              "std         0.391951       0.307315     245.954429       0.045851  \n",
              "min       -22.565679     -11.710896       0.000000       0.000000  \n",
              "25%        -0.065125      -0.027054       5.480000       0.000000  \n",
              "50%         0.008693       0.021152      21.890000       0.000000  \n",
              "75%         0.089727       0.078302      76.720000       0.000000  \n",
              "max        12.152401      33.847808   19656.530000       1.000000  \n",
              "\n",
              "[8 rows x 32 columns]"
            ],
            "text/html": [
              "\n",
              "  <div id=\"df-594f23bb-b9ca-4ffe-859f-23da99969b84\" class=\"colab-df-container\">\n",
              "    <div>\n",
              "<style scoped>\n",
              "    .dataframe tbody tr th:only-of-type {\n",
              "        vertical-align: middle;\n",
              "    }\n",
              "\n",
              "    .dataframe tbody tr th {\n",
              "        vertical-align: top;\n",
              "    }\n",
              "\n",
              "    .dataframe thead th {\n",
              "        text-align: right;\n",
              "    }\n",
              "</style>\n",
              "<table border=\"1\" class=\"dataframe\">\n",
              "  <thead>\n",
              "    <tr style=\"text-align: right;\">\n",
              "      <th></th>\n",
              "      <th>id</th>\n",
              "      <th>Time</th>\n",
              "      <th>V1</th>\n",
              "      <th>V2</th>\n",
              "      <th>V3</th>\n",
              "      <th>V4</th>\n",
              "      <th>V5</th>\n",
              "      <th>V6</th>\n",
              "      <th>V7</th>\n",
              "      <th>V8</th>\n",
              "      <th>...</th>\n",
              "      <th>V21</th>\n",
              "      <th>V22</th>\n",
              "      <th>V23</th>\n",
              "      <th>V24</th>\n",
              "      <th>V25</th>\n",
              "      <th>V26</th>\n",
              "      <th>V27</th>\n",
              "      <th>V28</th>\n",
              "      <th>Amount</th>\n",
              "      <th>Class</th>\n",
              "    </tr>\n",
              "  </thead>\n",
              "  <tbody>\n",
              "    <tr>\n",
              "      <th>count</th>\n",
              "      <td>170883.000000</td>\n",
              "      <td>170883.000000</td>\n",
              "      <td>170883.000000</td>\n",
              "      <td>170883.000000</td>\n",
              "      <td>170883.000000</td>\n",
              "      <td>170883.000000</td>\n",
              "      <td>170883.000000</td>\n",
              "      <td>170883.000000</td>\n",
              "      <td>170883.000000</td>\n",
              "      <td>170883.000000</td>\n",
              "      <td>...</td>\n",
              "      <td>170883.000000</td>\n",
              "      <td>170883.000000</td>\n",
              "      <td>170883.000000</td>\n",
              "      <td>170883.000000</td>\n",
              "      <td>170883.000000</td>\n",
              "      <td>170883.000000</td>\n",
              "      <td>170883.000000</td>\n",
              "      <td>170883.000000</td>\n",
              "      <td>170883.000000</td>\n",
              "      <td>170883.000000</td>\n",
              "    </tr>\n",
              "    <tr>\n",
              "      <th>mean</th>\n",
              "      <td>85441.000000</td>\n",
              "      <td>61091.567090</td>\n",
              "      <td>-0.169838</td>\n",
              "      <td>0.040771</td>\n",
              "      <td>0.493037</td>\n",
              "      <td>0.117429</td>\n",
              "      <td>-0.176102</td>\n",
              "      <td>0.058235</td>\n",
              "      <td>-0.080669</td>\n",
              "      <td>0.032227</td>\n",
              "      <td>...</td>\n",
              "      <td>-0.028287</td>\n",
              "      <td>-0.083744</td>\n",
              "      <td>-0.022450</td>\n",
              "      <td>0.009008</td>\n",
              "      <td>0.092269</td>\n",
              "      <td>0.012603</td>\n",
              "      <td>0.002093</td>\n",
              "      <td>0.002445</td>\n",
              "      <td>87.336704</td>\n",
              "      <td>0.002107</td>\n",
              "    </tr>\n",
              "    <tr>\n",
              "      <th>std</th>\n",
              "      <td>49329.817362</td>\n",
              "      <td>27828.109419</td>\n",
              "      <td>1.850529</td>\n",
              "      <td>1.610874</td>\n",
              "      <td>1.383241</td>\n",
              "      <td>1.371910</td>\n",
              "      <td>1.338609</td>\n",
              "      <td>1.295123</td>\n",
              "      <td>1.208518</td>\n",
              "      <td>1.227630</td>\n",
              "      <td>...</td>\n",
              "      <td>0.743713</td>\n",
              "      <td>0.667318</td>\n",
              "      <td>0.584508</td>\n",
              "      <td>0.598760</td>\n",
              "      <td>0.465505</td>\n",
              "      <td>0.490660</td>\n",
              "      <td>0.391951</td>\n",
              "      <td>0.307315</td>\n",
              "      <td>245.954429</td>\n",
              "      <td>0.045851</td>\n",
              "    </tr>\n",
              "    <tr>\n",
              "      <th>min</th>\n",
              "      <td>0.000000</td>\n",
              "      <td>0.000000</td>\n",
              "      <td>-56.407510</td>\n",
              "      <td>-72.715728</td>\n",
              "      <td>-33.680984</td>\n",
              "      <td>-5.519697</td>\n",
              "      <td>-42.147898</td>\n",
              "      <td>-26.160506</td>\n",
              "      <td>-43.557242</td>\n",
              "      <td>-73.216718</td>\n",
              "      <td>...</td>\n",
              "      <td>-34.830382</td>\n",
              "      <td>-10.933144</td>\n",
              "      <td>-44.807735</td>\n",
              "      <td>-2.836627</td>\n",
              "      <td>-10.295397</td>\n",
              "      <td>-2.604551</td>\n",
              "      <td>-22.565679</td>\n",
              "      <td>-11.710896</td>\n",
              "      <td>0.000000</td>\n",
              "      <td>0.000000</td>\n",
              "    </tr>\n",
              "    <tr>\n",
              "      <th>25%</th>\n",
              "      <td>42720.500000</td>\n",
              "      <td>41216.500000</td>\n",
              "      <td>-0.986667</td>\n",
              "      <td>-0.539174</td>\n",
              "      <td>-0.064747</td>\n",
              "      <td>-0.743475</td>\n",
              "      <td>-0.828769</td>\n",
              "      <td>-0.691129</td>\n",
              "      <td>-0.586314</td>\n",
              "      <td>-0.162638</td>\n",
              "      <td>...</td>\n",
              "      <td>-0.230722</td>\n",
              "      <td>-0.546777</td>\n",
              "      <td>-0.170294</td>\n",
              "      <td>-0.332459</td>\n",
              "      <td>-0.195933</td>\n",
              "      <td>-0.330346</td>\n",
              "      <td>-0.065125</td>\n",
              "      <td>-0.027054</td>\n",
              "      <td>5.480000</td>\n",
              "      <td>0.000000</td>\n",
              "    </tr>\n",
              "    <tr>\n",
              "      <th>50%</th>\n",
              "      <td>85441.000000</td>\n",
              "      <td>60776.000000</td>\n",
              "      <td>-0.183560</td>\n",
              "      <td>0.109679</td>\n",
              "      <td>0.623352</td>\n",
              "      <td>0.124307</td>\n",
              "      <td>-0.226228</td>\n",
              "      <td>-0.202634</td>\n",
              "      <td>-0.031932</td>\n",
              "      <td>0.056664</td>\n",
              "      <td>...</td>\n",
              "      <td>-0.054462</td>\n",
              "      <td>-0.066786</td>\n",
              "      <td>-0.036211</td>\n",
              "      <td>0.059474</td>\n",
              "      <td>0.135662</td>\n",
              "      <td>-0.058966</td>\n",
              "      <td>0.008693</td>\n",
              "      <td>0.021152</td>\n",
              "      <td>21.890000</td>\n",
              "      <td>0.000000</td>\n",
              "    </tr>\n",
              "    <tr>\n",
              "      <th>75%</th>\n",
              "      <td>128161.500000</td>\n",
              "      <td>78622.000000</td>\n",
              "      <td>1.184446</td>\n",
              "      <td>0.804221</td>\n",
              "      <td>1.297352</td>\n",
              "      <td>0.937632</td>\n",
              "      <td>0.374445</td>\n",
              "      <td>0.449200</td>\n",
              "      <td>0.462616</td>\n",
              "      <td>0.350995</td>\n",
              "      <td>...</td>\n",
              "      <td>0.128337</td>\n",
              "      <td>0.363165</td>\n",
              "      <td>0.098707</td>\n",
              "      <td>0.415860</td>\n",
              "      <td>0.399458</td>\n",
              "      <td>0.272938</td>\n",
              "      <td>0.089727</td>\n",
              "      <td>0.078302</td>\n",
              "      <td>76.720000</td>\n",
              "      <td>0.000000</td>\n",
              "    </tr>\n",
              "    <tr>\n",
              "      <th>max</th>\n",
              "      <td>170882.000000</td>\n",
              "      <td>120396.000000</td>\n",
              "      <td>2.439207</td>\n",
              "      <td>22.057729</td>\n",
              "      <td>9.382558</td>\n",
              "      <td>16.875344</td>\n",
              "      <td>34.801666</td>\n",
              "      <td>22.529298</td>\n",
              "      <td>36.677268</td>\n",
              "      <td>20.007208</td>\n",
              "      <td>...</td>\n",
              "      <td>27.202839</td>\n",
              "      <td>10.503090</td>\n",
              "      <td>19.002942</td>\n",
              "      <td>4.022866</td>\n",
              "      <td>7.519589</td>\n",
              "      <td>3.517346</td>\n",
              "      <td>12.152401</td>\n",
              "      <td>33.847808</td>\n",
              "      <td>19656.530000</td>\n",
              "      <td>1.000000</td>\n",
              "    </tr>\n",
              "  </tbody>\n",
              "</table>\n",
              "<p>8 rows × 32 columns</p>\n",
              "</div>\n",
              "    <div class=\"colab-df-buttons\">\n",
              "\n",
              "  <div class=\"colab-df-container\">\n",
              "    <button class=\"colab-df-convert\" onclick=\"convertToInteractive('df-594f23bb-b9ca-4ffe-859f-23da99969b84')\"\n",
              "            title=\"Convert this dataframe to an interactive table.\"\n",
              "            style=\"display:none;\">\n",
              "\n",
              "  <svg xmlns=\"http://www.w3.org/2000/svg\" height=\"24px\" viewBox=\"0 -960 960 960\">\n",
              "    <path d=\"M120-120v-720h720v720H120Zm60-500h600v-160H180v160Zm220 220h160v-160H400v160Zm0 220h160v-160H400v160ZM180-400h160v-160H180v160Zm440 0h160v-160H620v160ZM180-180h160v-160H180v160Zm440 0h160v-160H620v160Z\"/>\n",
              "  </svg>\n",
              "    </button>\n",
              "\n",
              "  <style>\n",
              "    .colab-df-container {\n",
              "      display:flex;\n",
              "      gap: 12px;\n",
              "    }\n",
              "\n",
              "    .colab-df-convert {\n",
              "      background-color: #E8F0FE;\n",
              "      border: none;\n",
              "      border-radius: 50%;\n",
              "      cursor: pointer;\n",
              "      display: none;\n",
              "      fill: #1967D2;\n",
              "      height: 32px;\n",
              "      padding: 0 0 0 0;\n",
              "      width: 32px;\n",
              "    }\n",
              "\n",
              "    .colab-df-convert:hover {\n",
              "      background-color: #E2EBFA;\n",
              "      box-shadow: 0px 1px 2px rgba(60, 64, 67, 0.3), 0px 1px 3px 1px rgba(60, 64, 67, 0.15);\n",
              "      fill: #174EA6;\n",
              "    }\n",
              "\n",
              "    .colab-df-buttons div {\n",
              "      margin-bottom: 4px;\n",
              "    }\n",
              "\n",
              "    [theme=dark] .colab-df-convert {\n",
              "      background-color: #3B4455;\n",
              "      fill: #D2E3FC;\n",
              "    }\n",
              "\n",
              "    [theme=dark] .colab-df-convert:hover {\n",
              "      background-color: #434B5C;\n",
              "      box-shadow: 0px 1px 3px 1px rgba(0, 0, 0, 0.15);\n",
              "      filter: drop-shadow(0px 1px 2px rgba(0, 0, 0, 0.3));\n",
              "      fill: #FFFFFF;\n",
              "    }\n",
              "  </style>\n",
              "\n",
              "    <script>\n",
              "      const buttonEl =\n",
              "        document.querySelector('#df-594f23bb-b9ca-4ffe-859f-23da99969b84 button.colab-df-convert');\n",
              "      buttonEl.style.display =\n",
              "        google.colab.kernel.accessAllowed ? 'block' : 'none';\n",
              "\n",
              "      async function convertToInteractive(key) {\n",
              "        const element = document.querySelector('#df-594f23bb-b9ca-4ffe-859f-23da99969b84');\n",
              "        const dataTable =\n",
              "          await google.colab.kernel.invokeFunction('convertToInteractive',\n",
              "                                                    [key], {});\n",
              "        if (!dataTable) return;\n",
              "\n",
              "        const docLinkHtml = 'Like what you see? Visit the ' +\n",
              "          '<a target=\"_blank\" href=https://colab.research.google.com/notebooks/data_table.ipynb>data table notebook</a>'\n",
              "          + ' to learn more about interactive tables.';\n",
              "        element.innerHTML = '';\n",
              "        dataTable['output_type'] = 'display_data';\n",
              "        await google.colab.output.renderOutput(dataTable, element);\n",
              "        const docLink = document.createElement('div');\n",
              "        docLink.innerHTML = docLinkHtml;\n",
              "        element.appendChild(docLink);\n",
              "      }\n",
              "    </script>\n",
              "  </div>\n",
              "\n",
              "\n",
              "    <div id=\"df-7ac654ae-243f-418b-b07c-3ba6732fb352\">\n",
              "      <button class=\"colab-df-quickchart\" onclick=\"quickchart('df-7ac654ae-243f-418b-b07c-3ba6732fb352')\"\n",
              "                title=\"Suggest charts\"\n",
              "                style=\"display:none;\">\n",
              "\n",
              "<svg xmlns=\"http://www.w3.org/2000/svg\" height=\"24px\"viewBox=\"0 0 24 24\"\n",
              "     width=\"24px\">\n",
              "    <g>\n",
              "        <path d=\"M19 3H5c-1.1 0-2 .9-2 2v14c0 1.1.9 2 2 2h14c1.1 0 2-.9 2-2V5c0-1.1-.9-2-2-2zM9 17H7v-7h2v7zm4 0h-2V7h2v10zm4 0h-2v-4h2v4z\"/>\n",
              "    </g>\n",
              "</svg>\n",
              "      </button>\n",
              "\n",
              "<style>\n",
              "  .colab-df-quickchart {\n",
              "      --bg-color: #E8F0FE;\n",
              "      --fill-color: #1967D2;\n",
              "      --hover-bg-color: #E2EBFA;\n",
              "      --hover-fill-color: #174EA6;\n",
              "      --disabled-fill-color: #AAA;\n",
              "      --disabled-bg-color: #DDD;\n",
              "  }\n",
              "\n",
              "  [theme=dark] .colab-df-quickchart {\n",
              "      --bg-color: #3B4455;\n",
              "      --fill-color: #D2E3FC;\n",
              "      --hover-bg-color: #434B5C;\n",
              "      --hover-fill-color: #FFFFFF;\n",
              "      --disabled-bg-color: #3B4455;\n",
              "      --disabled-fill-color: #666;\n",
              "  }\n",
              "\n",
              "  .colab-df-quickchart {\n",
              "    background-color: var(--bg-color);\n",
              "    border: none;\n",
              "    border-radius: 50%;\n",
              "    cursor: pointer;\n",
              "    display: none;\n",
              "    fill: var(--fill-color);\n",
              "    height: 32px;\n",
              "    padding: 0;\n",
              "    width: 32px;\n",
              "  }\n",
              "\n",
              "  .colab-df-quickchart:hover {\n",
              "    background-color: var(--hover-bg-color);\n",
              "    box-shadow: 0 1px 2px rgba(60, 64, 67, 0.3), 0 1px 3px 1px rgba(60, 64, 67, 0.15);\n",
              "    fill: var(--button-hover-fill-color);\n",
              "  }\n",
              "\n",
              "  .colab-df-quickchart-complete:disabled,\n",
              "  .colab-df-quickchart-complete:disabled:hover {\n",
              "    background-color: var(--disabled-bg-color);\n",
              "    fill: var(--disabled-fill-color);\n",
              "    box-shadow: none;\n",
              "  }\n",
              "\n",
              "  .colab-df-spinner {\n",
              "    border: 2px solid var(--fill-color);\n",
              "    border-color: transparent;\n",
              "    border-bottom-color: var(--fill-color);\n",
              "    animation:\n",
              "      spin 1s steps(1) infinite;\n",
              "  }\n",
              "\n",
              "  @keyframes spin {\n",
              "    0% {\n",
              "      border-color: transparent;\n",
              "      border-bottom-color: var(--fill-color);\n",
              "      border-left-color: var(--fill-color);\n",
              "    }\n",
              "    20% {\n",
              "      border-color: transparent;\n",
              "      border-left-color: var(--fill-color);\n",
              "      border-top-color: var(--fill-color);\n",
              "    }\n",
              "    30% {\n",
              "      border-color: transparent;\n",
              "      border-left-color: var(--fill-color);\n",
              "      border-top-color: var(--fill-color);\n",
              "      border-right-color: var(--fill-color);\n",
              "    }\n",
              "    40% {\n",
              "      border-color: transparent;\n",
              "      border-right-color: var(--fill-color);\n",
              "      border-top-color: var(--fill-color);\n",
              "    }\n",
              "    60% {\n",
              "      border-color: transparent;\n",
              "      border-right-color: var(--fill-color);\n",
              "    }\n",
              "    80% {\n",
              "      border-color: transparent;\n",
              "      border-right-color: var(--fill-color);\n",
              "      border-bottom-color: var(--fill-color);\n",
              "    }\n",
              "    90% {\n",
              "      border-color: transparent;\n",
              "      border-bottom-color: var(--fill-color);\n",
              "    }\n",
              "  }\n",
              "</style>\n",
              "\n",
              "      <script>\n",
              "        async function quickchart(key) {\n",
              "          const quickchartButtonEl =\n",
              "            document.querySelector('#' + key + ' button');\n",
              "          quickchartButtonEl.disabled = true;  // To prevent multiple clicks.\n",
              "          quickchartButtonEl.classList.add('colab-df-spinner');\n",
              "          try {\n",
              "            const charts = await google.colab.kernel.invokeFunction(\n",
              "                'suggestCharts', [key], {});\n",
              "          } catch (error) {\n",
              "            console.error('Error during call to suggestCharts:', error);\n",
              "          }\n",
              "          quickchartButtonEl.classList.remove('colab-df-spinner');\n",
              "          quickchartButtonEl.classList.add('colab-df-quickchart-complete');\n",
              "        }\n",
              "        (() => {\n",
              "          let quickchartButtonEl =\n",
              "            document.querySelector('#df-7ac654ae-243f-418b-b07c-3ba6732fb352 button');\n",
              "          quickchartButtonEl.style.display =\n",
              "            google.colab.kernel.accessAllowed ? 'block' : 'none';\n",
              "        })();\n",
              "      </script>\n",
              "    </div>\n",
              "\n",
              "    </div>\n",
              "  </div>\n"
            ],
            "application/vnd.google.colaboratory.intrinsic+json": {
              "type": "dataframe"
            }
          },
          "metadata": {},
          "execution_count": 48
        }
      ]
    },
    {
      "cell_type": "code",
      "source": [
        "print(train['Amount'].describe())"
      ],
      "metadata": {
        "id": "X-HeVEbouIxb",
        "outputId": "0ec5ee7a-6817-43d4-a00f-00b6cc16fbbe",
        "colab": {
          "base_uri": "https://localhost:8080/"
        }
      },
      "execution_count": null,
      "outputs": [
        {
          "output_type": "stream",
          "name": "stdout",
          "text": [
            "count    170883.000000\n",
            "mean         87.336704\n",
            "std         245.954429\n",
            "min           0.000000\n",
            "25%           5.480000\n",
            "50%          21.890000\n",
            "75%          76.720000\n",
            "max       19656.530000\n",
            "Name: Amount, dtype: float64\n"
          ]
        }
      ]
    },
    {
      "cell_type": "markdown",
      "source": [
        "문제점 1.\n",
        "mean(87)에 비해 max(19656)이 상대적으로 크다.\n"
      ],
      "metadata": {
        "id": "H-8FhnVJuNQj"
      }
    },
    {
      "cell_type": "code",
      "source": [
        "plt.figure(figsize=(10, 5))\n",
        "sns.histplot(train['Amount'], bins=50, kde=True)\n",
        "plt.title('Amount Distribution')\n",
        "plt.show()"
      ],
      "metadata": {
        "id": "w-BhcWZnt3Il",
        "outputId": "24c56c9f-d799-4e43-a17c-8be2ad685aa2",
        "colab": {
          "base_uri": "https://localhost:8080/",
          "height": 361
        }
      },
      "execution_count": null,
      "outputs": [
        {
          "output_type": "display_data",
          "data": {
            "text/plain": [
              "<Figure size 1000x500 with 1 Axes>"
            ],
            "image/png": "[encoded data removed]"
          },
          "metadata": {}
        }
      ]
    },
    {
      "cell_type": "markdown",
      "source": [
        "-> 로그 변환을 해보자.\n",
        "\n",
        "log1p()를 이용해 간단히 변환이 가능하다."
      ],
      "metadata": {
        "id": "XmnbUnB1Rhil"
      }
    },
    {
      "cell_type": "markdown",
      "source": [
        "2. corr()을 이용해 각 피처별로 상관도를 구하고, 사본의 heatmap을 통해 시각화해보자."
      ],
      "metadata": {
        "id": "CNSJQZ35Q2cP"
      }
    },
    {
      "cell_type": "code",
      "source": [
        "import seaborn as sns\n",
        "\n",
        "plt.figure(figsize=(9, 9))\n",
        "corr = train.corr()\n",
        "sns.heatmap(corr, cmap='RdBu')"
      ],
      "metadata": {
        "id": "jTPCvP6kQbRB",
        "outputId": "c02514ab-f582-403c-e474-36f606e56177",
        "colab": {
          "base_uri": "https://localhost:8080/",
          "height": 700
        }
      },
      "execution_count": null,
      "outputs": [
        {
          "output_type": "execute_result",
          "data": {
            "text/plain": [
              "<Axes: >"
            ]
          },
          "metadata": {},
          "execution_count": 53
        },
        {
          "output_type": "display_data",
          "data": {
            "text/plain": [
              "<Figure size 900x900 with 2 Axes>"
            ],
            "image/png": "[encoded data removed]"
          },
          "metadata": {}
        }
      ]
    },
    {
      "cell_type": "markdown",
      "source": [
        "문제점 2.\n",
        "\n",
        "- 양의 상관관계가 높음 : 파란색\n",
        "- 음의 상관관계가 높음 : 빨간색\n",
        "\n",
        "[결과]\n",
        "결정 레이블인 `Class` 피처와 음의 상관관계가 높은 피처는 `V14`, `V17`\n",
        "\n",
        "-> IQR을 이용해 이상치를 검출하는 함수를 생성한다."
      ],
      "metadata": {
        "id": "6vbj-6LYQwIH"
      }
    },
    {
      "cell_type": "code",
      "source": [
        "def get_outlier(df=None, column=None, weight=1.5):\n",
        "    fraud = df[df[\"Class\"]==1][column]\n",
        "    quantile_25 = np.percentile(fraud.values, 25)\n",
        "    quantile_75 = np.percentile(fraud.values, 75)\n",
        "\n",
        "    iqr = quantile_75 - quantile_25\n",
        "    iqr_weight = iqr * weight\n",
        "    lowest_val = quantile_25 - iqr_weight\n",
        "    highest_val = quantile_75 + iqr_weight\n",
        "\n",
        "    outlier_index = fraud[(fraud < lowest_val) | (fraud > highest_val)].index\n",
        "    return outlier_index"
      ],
      "metadata": {
        "id": "t8tDpK4vSZ9q"
      },
      "execution_count": null,
      "outputs": []
    },
    {
      "cell_type": "markdown",
      "source": [
        "로그 변환 + IQR 을 통해 전처리를 하는 최종 함수를 만든다."
      ],
      "metadata": {
        "id": "liE1cR5PQHc_"
      }
    },
    {
      "cell_type": "code",
      "source": [
        "# 최종 전처리\n",
        "def get_preprocessed_df(df=None, train=True):\n",
        "    df_copy = df.copy()\n",
        "    amount_n = np.log1p(df_copy[\"Amount\"])\n",
        "    df_copy.insert(0, \"Amount_Scaled\", amount_n) # 로그 변환을 한 새로운 변수를 만든다.\n",
        "    df_copy.drop([\"Time\", \"Amount\"], axis=1, inplace=True) # 불필요한 변수 제거\n",
        "\n",
        "    outlier_index = get_outlier(df=df_copy, column=\"V14\", weight=1.5)\n",
        "    df_copy.drop(outlier_index, axis=0, inplace=True)\n",
        "\n",
        "    return df_copy"
      ],
      "metadata": {
        "id": "DlDi6S21QII5"
      },
      "execution_count": null,
      "outputs": []
    },
    {
      "cell_type": "code",
      "source": [
        "X_train, X_test, y_train, y_test = get_train_test_dataset(train)"
      ],
      "metadata": {
        "id": "2YTVZDRVR33T"
      },
      "execution_count": null,
      "outputs": []
    },
    {
      "cell_type": "code",
      "source": [
        "print(\"학습 데이터 레이블 값 비율\")\n",
        "print(y_train.value_counts()/y_train.shape[0] * 100)\n",
        "print()\n",
        "print(\"테스트 데이터 레이블 값 비율\")\n",
        "print(y_test.value_counts()/y_test.shape[0] * 100)"
      ],
      "metadata": {
        "trusted": true,
        "execution": {
          "iopub.status.busy": "2025-05-12T08:35:52.974262Z",
          "iopub.execute_input": "2025-05-12T08:35:52.974549Z",
          "iopub.status.idle": "2025-05-12T08:35:52.983832Z",
          "shell.execute_reply.started": "2025-05-12T08:35:52.974519Z",
          "shell.execute_reply": "2025-05-12T08:35:52.982732Z"
        },
        "id": "mF8evQ8ZnZjq",
        "outputId": "70f44b87-2f93-48ff-af58-c4d3489e6a98",
        "colab": {
          "base_uri": "https://localhost:8080/"
        }
      },
      "outputs": [
        {
          "output_type": "stream",
          "name": "stdout",
          "text": [
            "학습 데이터 레이블 값 비율\n",
            "Class\n",
            "0    99.790998\n",
            "1     0.209002\n",
            "Name: count, dtype: float64\n",
            "\n",
            "테스트 데이터 레이블 값 비율\n",
            "Class\n",
            "0    99.791277\n",
            "1     0.208723\n",
            "Name: count, dtype: float64\n"
          ]
        }
      ],
      "execution_count": null
    },
    {
      "cell_type": "markdown",
      "source": [
        "**SMOTE**\n",
        "- 소수 클래스의 데이터를 인공적으로 생성하여 클래스 불균형을 완화하는 오버샘플링 기법\n",
        "\n",
        "[사용 상황]\n",
        "- 이진 분류 문제에서 클래스 비율이 매우 불균형할 때\n",
        "(예: 정상 약 99.8%, 사기 0.17%)\n",
        "\n",
        "[특징]\n",
        "- `SMOTE`를 적용하면 재현율은 높아지나, 정밀도는 낮아진다는 것이 일반적\n",
        "  - 때문에 정밀도 지표보다는 재현율 지표를 높이는 것이 머신러닝 모델의 주요한 목표인 경우, `SMOTE`를 적용하면 좋음\n",
        "    - 필자는 재현율, ROC-AUC에 더 초점을 두고 있었기 때문에 `SMOTE`를 사용함.\n",
        "\n",
        "[주의할 점]\n",
        "- 반드시 **학습 데이터 세트**만 오버 샘플링을 해야 함."
      ],
      "metadata": {
        "id": "x8v7UkjQu43x"
      }
    },
    {
      "cell_type": "code",
      "source": [
        "smote = SMOTE(random_state=0)\n",
        "\n",
        "X_train_over, y_train_over = smote.fit_resample(X_train, y_train)"
      ],
      "metadata": {
        "id": "_IEDl-HaT89-"
      },
      "execution_count": null,
      "outputs": []
    },
    {
      "cell_type": "code",
      "source": [
        "X_train_over, y_train_over = smote.fit_resample(X_train, y_train)\n",
        "print('SMOTE 적용 전 학습용 피처/레이블 데이터 세트: ', X_train.shape, y_train.shape)\n",
        "print('SMOTE 적용 후 학습용 피처/레이블 데이터 세트: ', X_train_over.shape, y_train_over.shape)\n",
        "print('SMOTE 적용 후 레이블 값 분포: \\n', pd.Series(y_train_over).value_counts())"
      ],
      "metadata": {
        "id": "lOKjQtqUUElX",
        "outputId": "7d6caa05-9c61-4d10-e58e-ef7b8020c377",
        "colab": {
          "base_uri": "https://localhost:8080/"
        }
      },
      "execution_count": null,
      "outputs": [
        {
          "output_type": "stream",
          "name": "stdout",
          "text": [
            "SMOTE 적용 전 학습용 피처/레이블 데이터 세트:  (119616, 30) (119616,)\n",
            "SMOTE 적용 후 학습용 피처/레이블 데이터 세트:  (238732, 30) (238732,)\n",
            "SMOTE 적용 후 레이블 값 분포: \n",
            " Class\n",
            "0    119366\n",
            "1    119366\n",
            "Name: count, dtype: int64\n"
          ]
        }
      ]
    },
    {
      "cell_type": "markdown",
      "source": [
        "---"
      ],
      "metadata": {
        "id": "xKzMm6p2T75S"
      }
    },
    {
      "cell_type": "markdown",
      "source": [
        "#### 3. 모델 선택 & 비교 & 평가"
      ],
      "metadata": {
        "id": "CJVLeLCQXQ2C"
      }
    },
    {
      "cell_type": "markdown",
      "source": [
        "| 모델               | 특징 요약                                              | 장점                                  | 단점                                 |\n",
        "|--------------------|--------------------------------------------------------|----------------------------------------|--------------------------------------|\n",
        "| LogisticRegression | 선형 모델                                              | 빠르고 해석 용이                       | 비선형 문제에 약함, 재현율 낮을 수 있음 |\n",
        "| LGBMClassifier     | 트리 기반 Gradient Boosting (LightGBM)                 | 빠르고 정확도·정밀도에 강함            | 하이퍼파라미터 튜닝에 민감             |\n",
        "| XGBClassifier      | 트리 기반 Gradient Boosting (XGBoost)                  | 정교한 제어, 재현율/과적합에 강함      | 학습 속도가 느릴 수 있음               |\n"
      ],
      "metadata": {
        "id": "65UIg-4jrdUw"
      }
    },
    {
      "cell_type": "markdown",
      "source": [
        "본 교재에 있는 두 개의 모델 외에 널리 쓰이는 XGBoost를 같이 사용하게 됐다.\n",
        "\n",
        "세 모델에 대한 학습을 진행해보자.\n",
        "- 일반 데이터셋과, STONE 기법을 적용한 데이터셋을 사용하였다."
      ],
      "metadata": {
        "id": "1uS1Ebm0wihx"
      }
    },
    {
      "cell_type": "code",
      "source": [
        "from xgboost import XGBClassifier"
      ],
      "metadata": {
        "id": "CCid1st2ZK9R"
      },
      "execution_count": null,
      "outputs": []
    },
    {
      "cell_type": "code",
      "source": [
        "xgb_clf = XGBClassifier(n_estimators=1000, learning_rate=0.05, max_depth=6, n_jobs=-1, use_label_encoder=False, eval_metric='logloss')\n",
        "lr_clf = LogisticRegression(max_iter=1000)\n",
        "lgbm_clf = LGBMClassifier(n_estimators=1000, num_leaves=64, n_jobs=-1, boost_from_average=False)"
      ],
      "metadata": {
        "trusted": true,
        "execution": {
          "iopub.status.busy": "2025-05-12T08:35:53.306245Z",
          "iopub.execute_input": "2025-05-12T08:35:53.306584Z",
          "iopub.status.idle": "2025-05-12T08:35:53.321621Z",
          "shell.execute_reply.started": "2025-05-12T08:35:53.306555Z",
          "shell.execute_reply": "2025-05-12T08:35:53.320577Z"
        },
        "id": "C7aXHS1EnZjt"
      },
      "outputs": [],
      "execution_count": null
    },
    {
      "cell_type": "markdown",
      "source": [
        "##### 3-1. LogisticRegression"
      ],
      "metadata": {
        "id": "KijBlyHZZe7T"
      }
    },
    {
      "cell_type": "code",
      "source": [
        "get_model_train_eval(model = lr_clf, ftr_train=X_train,\n",
        "                     ftr_test=X_test, tgt_train=y_train, tgt_test=y_test)"
      ],
      "metadata": {
        "trusted": true,
        "execution": {
          "iopub.status.busy": "2025-05-12T08:35:53.322751Z",
          "iopub.execute_input": "2025-05-12T08:35:53.323103Z",
          "iopub.status.idle": "2025-05-12T08:36:14.447192Z",
          "shell.execute_reply.started": "2025-05-12T08:35:53.323074Z",
          "shell.execute_reply": "2025-05-12T08:36:14.44648Z"
        },
        "id": "-klVYrhynZjt",
        "outputId": "f65f86c5-8005-404a-9a2c-8479e414c5c0",
        "colab": {
          "base_uri": "https://localhost:8080/"
        }
      },
      "outputs": [
        {
          "output_type": "stream",
          "name": "stdout",
          "text": [
            "오차 행렬\n",
            "[[51145    12]\n",
            " [   42    65]]\n",
            "정확도: 0.9989, 정밀도:  0.8442, 재현율:  0.6075, f1스코어: 0.7065, roc-auc: 0.9489\n"
          ]
        }
      ],
      "execution_count": null
    },
    {
      "cell_type": "code",
      "source": [
        "get_model_train_eval(model = lr_clf, ftr_train=X_train_over,\n",
        "                     ftr_test=X_test, tgt_train=y_train_over, tgt_test=y_test)"
      ],
      "metadata": {
        "trusted": true,
        "execution": {
          "iopub.status.busy": "2025-05-12T08:36:14.448148Z",
          "iopub.execute_input": "2025-05-12T08:36:14.448476Z",
          "iopub.status.idle": "2025-05-12T08:36:49.661593Z",
          "shell.execute_reply.started": "2025-05-12T08:36:14.44845Z",
          "shell.execute_reply": "2025-05-12T08:36:49.660707Z"
        },
        "id": "_z9NVX9onZju",
        "outputId": "a775efdf-e89d-4265-ed71-e481f93c67eb",
        "colab": {
          "base_uri": "https://localhost:8080/"
        }
      },
      "outputs": [
        {
          "output_type": "stream",
          "name": "stdout",
          "text": [
            "오차 행렬\n",
            "[[50559   598]\n",
            " [   13    94]]\n",
            "정확도: 0.9881, 정밀도:  0.1358, 재현율:  0.8785, f1스코어: 0.2353, roc-auc: 0.9698\n"
          ]
        }
      ],
      "execution_count": null
    },
    {
      "cell_type": "markdown",
      "source": [
        "##### 3-2. LGBMClassifier"
      ],
      "metadata": {
        "id": "yBB5gZLuZj83"
      }
    },
    {
      "cell_type": "code",
      "source": [
        "get_model_train_eval(model = lgbm_clf, ftr_train=X_train,\n",
        "                     ftr_test=X_test, tgt_train=y_train, tgt_test=y_test)"
      ],
      "metadata": {
        "trusted": true,
        "execution": {
          "iopub.status.busy": "2025-05-12T08:36:49.662411Z",
          "iopub.execute_input": "2025-05-12T08:36:49.662687Z",
          "iopub.status.idle": "2025-05-12T08:36:59.054225Z",
          "shell.execute_reply.started": "2025-05-12T08:36:49.662667Z",
          "shell.execute_reply": "2025-05-12T08:36:59.053173Z"
        },
        "collapsed": true,
        "id": "0Ed6_YUmnZjv"
      },
      "outputs": [],
      "execution_count": null
    },
    {
      "cell_type": "code",
      "source": [
        "get_model_train_eval(model = lgbm_clf, ftr_train=X_train_over,\n",
        "                     ftr_test=X_test, tgt_train=y_train_over, tgt_test=y_test)"
      ],
      "metadata": {
        "trusted": true,
        "execution": {
          "iopub.status.busy": "2025-05-12T08:36:59.05524Z",
          "iopub.execute_input": "2025-05-12T08:36:59.055936Z",
          "iopub.status.idle": "2025-05-12T08:37:21.517606Z",
          "shell.execute_reply.started": "2025-05-12T08:36:59.055911Z",
          "shell.execute_reply": "2025-05-12T08:37:21.516761Z"
        },
        "id": "PCoiVMDanZjv"
      },
      "outputs": [],
      "execution_count": null
    },
    {
      "cell_type": "markdown",
      "source": [
        "##### 3-3. XGBClassifier"
      ],
      "metadata": {
        "id": "F-SFM80SZoG1"
      }
    },
    {
      "cell_type": "code",
      "source": [
        "get_model_train_eval(model = xgb_clf, ftr_train=X_train,\n",
        "                     ftr_test=X_test, tgt_train=y_train, tgt_test=y_test)"
      ],
      "metadata": {
        "id": "2VfElQKbZnll",
        "outputId": "c17d6d28-317e-49ee-d37c-baf3465858a2",
        "colab": {
          "base_uri": "https://localhost:8080/"
        }
      },
      "execution_count": null,
      "outputs": [
        {
          "output_type": "stream",
          "name": "stdout",
          "text": [
            "오차 행렬\n",
            "[[51150     7]\n",
            " [   19    88]]\n",
            "정확도: 0.9995, 정밀도:  0.9263, 재현율:  0.8224, f1스코어: 0.8713, roc-auc: 0.9758\n"
          ]
        }
      ]
    },
    {
      "cell_type": "code",
      "source": [
        "get_model_train_eval(model = xgb_clf, ftr_train=X_train_over,\n",
        "                     ftr_test=X_test, tgt_train=y_train_over, tgt_test=y_test)"
      ],
      "metadata": {
        "id": "XHqeKBitZ4lE",
        "outputId": "c3f7079d-9190-4805-d870-7e495ac3182b",
        "colab": {
          "base_uri": "https://localhost:8080/"
        }
      },
      "execution_count": null,
      "outputs": [
        {
          "output_type": "stream",
          "name": "stdout",
          "text": [
            "오차 행렬\n",
            "[[51142    15]\n",
            " [   15    92]]\n",
            "정확도: 0.9994, 정밀도:  0.8598, 재현율:  0.8598, f1스코어: 0.8598, roc-auc: 0.9836\n"
          ]
        }
      ]
    },
    {
      "cell_type": "markdown",
      "source": [
        "##### 3-4. 결과"
      ],
      "metadata": {
        "id": "cl5txoYMxZn2"
      }
    },
    {
      "cell_type": "markdown",
      "source": [
        "|모델|정확도|정밀도|재현율|f1스코어|ROC-AUC|\n",
        "|------|---|---|---|---|---|\n",
        "|LogisticRegression|0.9989|0.8442|0.6075|0.7065|0.9489|\n",
        "|LogisticRegression(STOME)|0.9881|0.1358|0.8785|0.2353|0.9698|\n",
        "|LGBMClassifier|0.9996|0.9570|0.8318|0.8900|0.9769|\n",
        "|LGBMClassifier(STOME)|0.9995|0.8911|0.8411|0.8654|0.9793|\n",
        "|XGBClassifier|0.9995|0.9263|0.8224|0.8713|0.9758|\n",
        "|XGBClassifier(STOME)|0.9994|0.8598|0.8958|0.8598|0.9836|\n",
        "\n",
        "\n"
      ],
      "metadata": {
        "id": "QM5gstayadct"
      }
    },
    {
      "cell_type": "markdown",
      "source": [
        "다양한 모델(Logistic Regression, LGBMClassifier, XGBClassifier)을 비교한 결과, 전반적으로 SMOTE를 적용한 데이터가 재현율(Recall)과 ROC-AUC 성능을 개선하는 데 효과적이었음.\n",
        "\n",
        "특히, XGBClassifier + SMOTE 적용 모델이 가장 높은 ROC-AUC (0.9836)를 기록하였고, 재현율 0.8958, F1-score 0.8598로 전반적인 성능 균형도 뛰어났음.\n",
        "\n",
        "-> 최종 모델은 SMOTE를 적용한 학습 데이터로 훈련된 XGBClassifier로 선정"
      ],
      "metadata": {
        "id": "QbypWimHkouh"
      }
    },
    {
      "cell_type": "markdown",
      "source": [
        "##### 3-5. 앙상블\n",
        "\n",
        "- **앙상블**: 여러 개의 서로 다른 모델의 예측 결과를 결합하여, 단일 모델보다 더 나은 예측 성능과 안정성을 얻는 방법\n",
        "\n",
        "- **소프트 보팅(Soft Voting, 확률 평균)**을 이용해 보는 방법 사용\n",
        " - 세 모델 각각의 `predict_proba()` 결과를 평균하여 최종 확률을 구한 후, 0.5 이상이면 1, 아니면 0으로 예측하는 방법\n",
        "\n",
        "\n",
        "Logistic Regression, LGBMClassifier, XGBClassifier의 세 가지 개별 모델을 기반으로 Soft Voting 앙상블 모델을 구성하고 성능을 비교해보자."
      ],
      "metadata": {
        "id": "mqFwN9P_y5tt"
      }
    },
    {
      "cell_type": "code",
      "source": [
        "from sklearn.ensemble import VotingClassifier\n",
        "\n",
        "xgb_clf = XGBClassifier(n_estimators=1000, learning_rate=0.05, max_depth=6, n_jobs=-1, use_label_encoder=False, eval_metric='logloss')\n",
        "lr_clf = LogisticRegression(max_iter=1000)\n",
        "lgbm_clf = LGBMClassifier(n_estimators=1000, num_leaves=64, n_jobs=-1, boost_from_average=False)\n",
        "\n",
        "# 개별 모델을 소프트 보팅 기반의 앙상블 모델로 구현한 분류기\n",
        "vo_clf = VotingClassifier( estimators=[('LR',lr_clf),('LGBM',lgbm_clf),('XGB',xgb_clf)] , voting='soft' )\n",
        "\n",
        "vo_clf.fit(X_train , y_train)\n",
        "pred = vo_clf.predict(X_test)\n",
        "proba = vo_clf.predict_proba(X_test)[:, 1]\n",
        "print('Voting 분류기 정확도: {0:.4f}'.format(accuracy_score(y_test , pred)))\n",
        "print('Voting 분류기 ROC-AUC: {0:.4f}'.format(roc_auc_score(y_test , proba)))\n",
        "print('Voting 분류기 F1-score: {0:.4f}'.format(f1_score(y_test , pred)))\n",
        "print('Voting 분류기 Recall: {0:.4f}'.format(recall_score(y_test , pred)))\n",
        "\n",
        "# 개별 모델의 학습/예측/평가.\n",
        "classifiers = [lr_clf, lgbm_clf, xgb_clf]\n",
        "for classifier in classifiers:\n",
        "    classifier.fit(X_train , y_train)\n",
        "    pred = classifier.predict(X_test)\n",
        "    proba = classifier.predict_proba(X_test)[:, 1]\n",
        "    class_name= classifier.__class__.__name__\n",
        "    print(f\"{class_name} 정확도: {accuracy_score(y_test, pred):.4f}\")\n",
        "    print(f\"{class_name} AUC: {roc_auc_score(y_test, proba):.4f}\")\n",
        "    print(f\"{class_name} F1-score: {f1_score(y_test, pred):.4f}\")\n",
        "    print(f\"{class_name} Recall: {recall_score(y_test, pred):.4f}\")\n",
        "    print(\"-\" * 40)"
      ],
      "metadata": {
        "id": "O6RQFski0P0c"
      },
      "execution_count": null,
      "outputs": []
    },
    {
      "cell_type": "markdown",
      "source": [
        "| 모델                   | 정확도        | AUC    | F1-score | Recall |\n",
        "| -------------------- | ---------- | ------ | -------- | ------ |\n",
        "| LogisticRegression   | 0.9989     | 0.9489 | 0.7065   | 0.6075 |\n",
        "| LGBMClassifier       | 0.9996     | 0.9769 | 0.8900   | 0.8318 |\n",
        "| XGBClassifier        | 0.9995     | 0.9758 | 0.8713   | 0.8224 |\n",
        "| **VotingClassifier** | **0.9995** | **0.9553** | **0.8800**  | **0.8244**  |\n"
      ],
      "metadata": {
        "id": "yH_l05-Q7lP-"
      }
    },
    {
      "cell_type": "markdown",
      "source": [
        "캐글 문제는 신용카드 사기 거래 탐지로, 클래스 불균형이 매우 심한 이진 분류 문제이다.\n",
        "- 이처럼 불균형이 심한 경우, 모든 샘플링을 0으로만 예측해도 정확도는 99.9%에 달함\n",
        "- 정확도만 보면 모든 모델이 뛰어난 것 처럼 보이지만, 실질적으로 중요한 건\n",
        "\n",
        "  - `Recall(재현율)` : 실제 사기 거래 중, 얼마나 잘 맞췄는가 (**중요**)\n",
        "  - `F1-score`\n",
        "  - `ROC-AUC` : 전체 예측 확률 분별력 (모델의 구분 성능!)\n",
        "\n",
        "[결과 해석]\n",
        "\n",
        "VotingClassifier는 개별 모델의 예측 확률을 평균(Soft Voting) 하여 예측을 수행함.\n",
        "\n",
        "`Recall` 0.8244, `F1-score` 0.8800 으로 LGBM, XGB와 유사한 수준의 높은 성능을 기록하였고, 세 모델의 장점을 적절히 결합하면서 안정적인 예측 결과를 생성함.\n",
        "\n",
        "-> 특히 사기 거래를 놓치지 않는 것(Recall) 과 전체적인 균형(F1-score) 이 중요한 본 문제에서\n",
        "VotingClassifier는 높은 정밀성과 재현율의 균형을 유지하며, 안정적 성능을 제공하는 모델로 판단됨.\n",
        "\n",
        "-> 앙상블 방식도 충분히 고려해볼 수 있는 전략 중 하나로 판단됨."
      ],
      "metadata": {
        "id": "XTKFvDcP7_eT"
      }
    },
    {
      "cell_type": "markdown",
      "source": [
        "##### 3-6. 하이퍼파라미터 튜닝"
      ],
      "metadata": {
        "id": "IiKMhwr9I2LH"
      }
    },
    {
      "cell_type": "markdown",
      "source": [
        "`HyperOpt`를 이용하여 XGBoost 하이퍼 파라미터를 최적화해보자."
      ],
      "metadata": {
        "id": "UhozFMhYLNQe"
      }
    },
    {
      "cell_type": "code",
      "source": [
        "from hyperopt import hp\n",
        "\n",
        "# max_depth는 5에서 20까지 1간격으로, min_child_weight는 1에서 2까지 1간격으로\n",
        "# colsample_bytree는 0.5에서 1사이, learning_rate는 0.01에서 0.2 사이 정규 분포된 값으로 검색.\n",
        "xgb_search_space = {'max_depth': hp.quniform('max_depth', 5, 20, 1),\n",
        "                    'min_child_weight': hp.quniform('min_child_weight', 1, 2, 1),\n",
        "                    'learning_rate': hp.uniform('learning_rate', 0.01, 0.2),\n",
        "                    'colsample_bytree': hp.uniform('colsample_bytree', 0.5, 1),\n",
        "                   }"
      ],
      "metadata": {
        "id": "SdhZNl3vJqDd"
      },
      "execution_count": null,
      "outputs": []
    },
    {
      "cell_type": "code",
      "source": [
        "from sklearn.model_selection import cross_val_score\n",
        "from xgboost import XGBClassifier\n",
        "from hyperopt import STATUS_OK\n",
        "\n",
        "# fmin()에서 입력된 search_space 값으로 입력된 모든 값은 실수형임.\n",
        "# XGBClassifier의 정수형 하이퍼 파라미터는 정수형 변환을 해줘야 함.\n",
        "# 정확도는 높을수록 더 좋은 수치임. -1 * 정확도를 곱해서 큰 정확도 값일수록 최소가 되도록 변환\n",
        "def objective_func(search_space):\n",
        "    # 수행 시간 절약을 위해 nestimators는 100으로 축소\n",
        "    xgb_clf = XGBClassifier(n_estimators=100, max_depth=int(search_space['max_depth']),\n",
        "                            min_child_weight=int(search_space['min_child_weight']),\n",
        "                            learning_rate=search_space['learning_rate'],\n",
        "                            colsample_bytree=search_space['colsample_bytree'],\n",
        "                            eval_metric='logloss')\n",
        "    accuracy = cross_val_score(xgb_clf, X_train, y_train, scoring='accuracy', cv=3)\n",
        "\n",
        "    # accuracy는 cv=3 개수만큼 roc-auc 결과를 리스트로 가짐. 이를 평균해서 반환하되 -1을 곱함.\n",
        "    return {'loss':-1 * np.mean(accuracy), 'status': STATUS_OK}"
      ],
      "metadata": {
        "id": "r0koxrADJtMq"
      },
      "execution_count": null,
      "outputs": []
    },
    {
      "cell_type": "code",
      "source": [
        "from hyperopt import fmin, tpe, Trials\n",
        "\n",
        "trial_val = Trials()\n",
        "best = fmin(fn=objective_func,\n",
        "            space=xgb_search_space,\n",
        "            algo=tpe.suggest,\n",
        "            max_evals=20,\n",
        "            trials=trial_val, rstate=np.random.default_rng(seed=9))\n",
        "print('best:', best)"
      ],
      "metadata": {
        "colab": {
          "base_uri": "https://localhost:8080/"
        },
        "id": "wwMRzWW1JxMp",
        "outputId": "8e44e783-7ef4-4ed8-bbf6-189073d79d31"
      },
      "execution_count": null,
      "outputs": [
        {
          "output_type": "stream",
          "name": "stdout",
          "text": [
            "100%|██████████| 20/20 [01:42<00:00,  5.11s/trial, best loss: -0.9995401952915998]\n",
            "best: {'colsample_bytree': np.float64(0.684441779397407), 'learning_rate': np.float64(0.1475201153968472), 'max_depth': np.float64(9.0), 'min_child_weight': np.float64(2.0)}\n"
          ]
        }
      ]
    },
    {
      "cell_type": "code",
      "source": [
        "print('colsample_bytree:{0}, learning_rate:{1}, max_depth:{2}, min_child_weight:{3}'.format(\n",
        "    round(best['colsample_bytree'], 5), round(best['learning_rate'], 5),\n",
        "    int(best['max_depth']), int(best['min_child_weight'])))"
      ],
      "metadata": {
        "colab": {
          "base_uri": "https://localhost:8080/"
        },
        "id": "_bKUaaEMJ1e3",
        "outputId": "e8a8d8d1-4a54-4e30-9e41-aa9b58f0b8fc"
      },
      "execution_count": null,
      "outputs": [
        {
          "output_type": "stream",
          "name": "stdout",
          "text": [
            "colsample_bytree:0.68444, learning_rate:0.14752, max_depth:9, min_child_weight:2\n"
          ]
        }
      ]
    },
    {
      "cell_type": "markdown",
      "source": [
        "최적 하이퍼파라미터 조합\n",
        "```\n",
        "xgb_clf = XGBClassifier(\n",
        "    n_estimators=1000,\n",
        "    learning_rate=0.14752,\n",
        "    max_depth=9,\n",
        "    min_child_weight=2,\n",
        "    colsample_bytree=0.68444,\n",
        "    n_jobs=-1,\n",
        "    use_label_encoder=False,\n",
        "    eval_metric='logloss',\n",
        ")\n",
        "```"
      ],
      "metadata": {
        "id": "G-LTnymxK5ac"
      }
    },
    {
      "cell_type": "markdown",
      "source": [
        "##### 3-7. test 학습"
      ],
      "metadata": {
        "id": "V3g6RcxjZwhO"
      }
    },
    {
      "cell_type": "code",
      "source": [
        "submission = pd.read_csv(os.path.join(modu_ds_4_credit_card_fraud_detection_path, 'sample_submission.csv'))\n"
      ],
      "metadata": {
        "trusted": true,
        "execution": {
          "iopub.status.busy": "2025-05-12T08:37:21.518631Z",
          "iopub.execute_input": "2025-05-12T08:37:21.518934Z",
          "iopub.status.idle": "2025-05-12T08:37:21.560696Z",
          "shell.execute_reply.started": "2025-05-12T08:37:21.518911Z",
          "shell.execute_reply": "2025-05-12T08:37:21.559679Z"
        },
        "id": "VDKcLogJnZjw"
      },
      "outputs": [],
      "execution_count": null
    },
    {
      "cell_type": "code",
      "source": [
        "test[\"Amount_Scaled\"] = np.log1p(test[\"Amount\"])"
      ],
      "metadata": {
        "trusted": true,
        "execution": {
          "iopub.status.busy": "2025-05-12T08:37:21.561614Z",
          "iopub.execute_input": "2025-05-12T08:37:21.56194Z",
          "iopub.status.idle": "2025-05-12T08:37:21.567593Z",
          "shell.execute_reply.started": "2025-05-12T08:37:21.561912Z",
          "shell.execute_reply": "2025-05-12T08:37:21.566703Z"
        },
        "id": "hgd4r8VknZjw"
      },
      "outputs": [],
      "execution_count": null
    },
    {
      "cell_type": "code",
      "source": [
        "test.drop([\"Time\", \"Amount\"], axis=1, inplace=True)"
      ],
      "metadata": {
        "trusted": true,
        "execution": {
          "iopub.status.busy": "2025-05-12T08:37:21.568572Z",
          "iopub.execute_input": "2025-05-12T08:37:21.569226Z",
          "iopub.status.idle": "2025-05-12T08:37:21.589855Z",
          "shell.execute_reply.started": "2025-05-12T08:37:21.569175Z",
          "shell.execute_reply": "2025-05-12T08:37:21.588998Z"
        },
        "id": "9RMfvhlknZjw"
      },
      "outputs": [],
      "execution_count": null
    },
    {
      "cell_type": "markdown",
      "source": [
        "train과 test의 컬럼 순서가 달라 오류가 나서 (XGBoost는 내부적으로 컬럼 순서와 컬럼 이름을 엄격히 비교) 같은 순서로 맞춰주었다."
      ],
      "metadata": {
        "id": "vVYOzXHDn2kw"
      }
    },
    {
      "cell_type": "code",
      "source": [
        "# 1. test에서 Amount_Scaled 컬럼 꺼내기\n",
        "amount_scaled_col = test['Amount_Scaled']\n",
        "\n",
        "# 2. 나머지 컬럼 (Amount_Scaled 제외)\n",
        "test_others = test.drop(columns=['Amount_Scaled'])\n",
        "\n",
        "# 3. 두 번째 열 자리에 Amount_Scaled 끼워넣기\n",
        "#    첫 번째는 'id', 두 번째는 'Amount_Scaled', 그 뒤 나머지\n",
        "cols = test_others.columns.tolist()\n",
        "cols.insert(0, 'Amount_Scaled')\n",
        "\n",
        "# 4. 새로운 test DataFrame 만들기\n",
        "test_fixed = test_others.copy()\n",
        "test_fixed['Amount_Scaled'] = amount_scaled_col\n",
        "test_fixed = test_fixed[cols]"
      ],
      "metadata": {
        "id": "MOIEsoUffTwu"
      },
      "execution_count": null,
      "outputs": []
    },
    {
      "cell_type": "code",
      "source": [
        "test = test_fixed"
      ],
      "metadata": {
        "id": "82ZQdoU4gMh3"
      },
      "execution_count": null,
      "outputs": []
    },
    {
      "cell_type": "markdown",
      "source": [
        " SMOTE를 적용한 학습 데이터로 훈련된 XGBClassifier를 final_model로 선정하였다.\n",
        "\n",
        " - 하이퍼파라미터 튜닝을 한 값으로 진행했으나... 왜인지 더 score가 낮게 나오길래 기본 값으로 진행하였다."
      ],
      "metadata": {
        "id": "4iiU5vQuIAex"
      }
    },
    {
      "cell_type": "code",
      "source": [
        "final_model = xgb_clf.fit(X_train_over, y_train_over)\n",
        "xgb_pred = final_model.predict(test)\n",
        "xgb_pred_proba = final_model.predict_proba(test)[:, 1]\n",
        "test[\"Class\"] = xgb_pred"
      ],
      "metadata": {
        "id": "AUbodWdaeHji"
      },
      "execution_count": null,
      "outputs": []
    },
    {
      "cell_type": "code",
      "source": [
        "test.Class.value_counts()"
      ],
      "metadata": {
        "id": "ZbH2HtMBeQP1",
        "outputId": "c9466691-310c-4cf8-f68f-47d5b16b2f25",
        "colab": {
          "base_uri": "https://localhost:8080/",
          "height": 178
        }
      },
      "execution_count": null,
      "outputs": [
        {
          "output_type": "execute_result",
          "data": {
            "text/plain": [
              "Class\n",
              "0    113809\n",
              "1       114\n",
              "Name: count, dtype: int64"
            ],
            "text/html": [
              "<div>\n",
              "<style scoped>\n",
              "    .dataframe tbody tr th:only-of-type {\n",
              "        vertical-align: middle;\n",
              "    }\n",
              "\n",
              "    .dataframe tbody tr th {\n",
              "        vertical-align: top;\n",
              "    }\n",
              "\n",
              "    .dataframe thead th {\n",
              "        text-align: right;\n",
              "    }\n",
              "</style>\n",
              "<table border=\"1\" class=\"dataframe\">\n",
              "  <thead>\n",
              "    <tr style=\"text-align: right;\">\n",
              "      <th></th>\n",
              "      <th>count</th>\n",
              "    </tr>\n",
              "    <tr>\n",
              "      <th>Class</th>\n",
              "      <th></th>\n",
              "    </tr>\n",
              "  </thead>\n",
              "  <tbody>\n",
              "    <tr>\n",
              "      <th>0</th>\n",
              "      <td>113809</td>\n",
              "    </tr>\n",
              "    <tr>\n",
              "      <th>1</th>\n",
              "      <td>114</td>\n",
              "    </tr>\n",
              "  </tbody>\n",
              "</table>\n",
              "</div><br><label><b>dtype:</b> int64</label>"
            ]
          },
          "metadata": {},
          "execution_count": 47
        }
      ]
    },
    {
      "cell_type": "code",
      "source": [
        "del submission[\"Class\"]"
      ],
      "metadata": {
        "trusted": true,
        "execution": {
          "iopub.status.busy": "2025-05-12T08:37:25.836537Z",
          "iopub.execute_input": "2025-05-12T08:37:25.836774Z",
          "iopub.status.idle": "2025-05-12T08:37:25.853526Z",
          "shell.execute_reply.started": "2025-05-12T08:37:25.836753Z",
          "shell.execute_reply": "2025-05-12T08:37:25.852607Z"
        },
        "id": "9EhlEQTknZjy"
      },
      "outputs": [],
      "execution_count": null
    },
    {
      "cell_type": "code",
      "source": [
        "test[\"Class\"] = xgb_pred_proba"
      ],
      "metadata": {
        "trusted": true,
        "execution": {
          "iopub.status.busy": "2025-05-12T08:37:25.854707Z",
          "iopub.execute_input": "2025-05-12T08:37:25.855102Z",
          "iopub.status.idle": "2025-05-12T08:37:25.870993Z",
          "shell.execute_reply.started": "2025-05-12T08:37:25.855069Z",
          "shell.execute_reply": "2025-05-12T08:37:25.869988Z"
        },
        "id": "ffGLpcgHnZjy"
      },
      "outputs": [],
      "execution_count": null
    },
    {
      "cell_type": "code",
      "source": [
        "submission = submission.merge(test[[\"id\", \"Class\"]], on=\"id\")"
      ],
      "metadata": {
        "trusted": true,
        "execution": {
          "iopub.status.busy": "2025-05-12T08:37:25.871975Z",
          "iopub.execute_input": "2025-05-12T08:37:25.872295Z",
          "iopub.status.idle": "2025-05-12T08:37:25.894019Z",
          "shell.execute_reply.started": "2025-05-12T08:37:25.872264Z",
          "shell.execute_reply": "2025-05-12T08:37:25.892971Z"
        },
        "id": "Ih2vFDFJnZjz"
      },
      "outputs": [],
      "execution_count": null
    },
    {
      "cell_type": "code",
      "source": [
        "submission.to_csv(\"./submission.csv\", index=False)"
      ],
      "metadata": {
        "trusted": true,
        "execution": {
          "iopub.status.busy": "2025-05-12T08:37:25.894981Z",
          "iopub.execute_input": "2025-05-12T08:37:25.895319Z",
          "iopub.status.idle": "2025-05-12T08:37:26.161543Z",
          "shell.execute_reply.started": "2025-05-12T08:37:25.895288Z",
          "shell.execute_reply": "2025-05-12T08:37:26.160618Z"
        },
        "id": "xkBwFhymnZjz"
      },
      "outputs": [],
      "execution_count": null
    },
    {
      "cell_type": "markdown",
      "source": [
        "---"
      ],
      "metadata": {
        "id": "shcL9noCxTT0"
      }
    }
  ]
}