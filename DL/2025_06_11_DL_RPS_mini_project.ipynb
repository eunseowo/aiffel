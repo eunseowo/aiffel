{
  "nbformat": 4,
  "nbformat_minor": 0,
  "metadata": {
    "colab": {
      "provenance": []
    },
    "kernelspec": {
      "name": "python3",
      "display_name": "Python 3"
    },
    "language_info": {
      "name": "python"
    }
  },
  "cells": [
    {
      "cell_type": "code",
      "source": [
        "import tensorflow as tf\n",
        "import numpy as np\n",
        "\n",
        "print(tf.__version__)\n",
        "print(np.__version__)"
      ],
      "metadata": {
        "colab": {
          "base_uri": "https://localhost:8080/"
        },
        "id": "a56bi2fc9j7g",
        "outputId": "82470da0-031b-4e13-b78f-88a2aeb91b81"
      },
      "execution_count": 17,
      "outputs": [
        {
          "output_type": "stream",
          "name": "stdout",
          "text": [
            "2.18.0\n",
            "2.0.2\n"
          ]
        }
      ]
    },
    {
      "cell_type": "code",
      "source": [
        "!ls"
      ],
      "metadata": {
        "colab": {
          "base_uri": "https://localhost:8080/"
        },
        "id": "kcmLGDcN-Grr",
        "outputId": "4568f44e-e0c6-41fc-fdfe-bc7ad1dd1066"
      },
      "execution_count": 18,
      "outputs": [
        {
          "output_type": "stream",
          "name": "stdout",
          "text": [
            "보  바위  가위\tsample_data  가위-samples.zip  바위-samples.zip  보-samples.zip\n"
          ]
        }
      ]
    },
    {
      "cell_type": "code",
      "source": [
        "!unzip 가위-samples.zip -d 가위\n",
        "!unzip 바위-samples.zip -d 바위\n",
        "!unzip 보-samples.zip   -d 보"
      ],
      "metadata": {
        "colab": {
          "base_uri": "https://localhost:8080/"
        },
        "id": "E10p08lxvy5w",
        "outputId": "4e853429-c0e7-4776-af60-292bd0c53115"
      },
      "execution_count": 16,
      "outputs": [
        {
          "output_type": "stream",
          "name": "stdout",
          "text": [
            "Archive:  가위-samples.zip\n",
            "replace 가위/0.jpg? [y]es, [n]o, [A]ll, [N]one, [r]ename: Archive:  바위-samples.zip\n",
            " extracting: 바위/0.jpg            \n",
            " extracting: 바위/1.jpg            \n",
            " extracting: 바위/2.jpg            \n",
            " extracting: 바위/3.jpg            \n",
            " extracting: 바위/4.jpg            \n",
            " extracting: 바위/5.jpg            \n",
            " extracting: 바위/6.jpg            \n",
            " extracting: 바위/7.jpg            \n",
            " extracting: 바위/8.jpg            \n",
            " extracting: 바위/9.jpg            \n",
            " extracting: 바위/10.jpg           \n",
            " extracting: 바위/11.jpg           \n",
            " extracting: 바위/12.jpg           \n",
            " extracting: 바위/13.jpg           \n",
            " extracting: 바위/14.jpg           \n",
            " extracting: 바위/15.jpg           \n",
            " extracting: 바위/16.jpg           \n",
            " extracting: 바위/17.jpg           \n",
            " extracting: 바위/18.jpg           \n",
            " extracting: 바위/19.jpg           \n",
            " extracting: 바위/20.jpg           \n",
            " extracting: 바위/21.jpg           \n",
            " extracting: 바위/22.jpg           \n",
            " extracting: 바위/23.jpg           \n",
            " extracting: 바위/24.jpg           \n",
            " extracting: 바위/25.jpg           \n",
            " extracting: 바위/26.jpg           \n",
            " extracting: 바위/27.jpg           \n",
            " extracting: 바위/28.jpg           \n",
            " extracting: 바위/29.jpg           \n",
            " extracting: 바위/30.jpg           \n",
            " extracting: 바위/31.jpg           \n",
            " extracting: 바위/32.jpg           \n",
            " extracting: 바위/33.jpg           \n",
            " extracting: 바위/34.jpg           \n",
            " extracting: 바위/35.jpg           \n",
            " extracting: 바위/36.jpg           \n",
            " extracting: 바위/37.jpg           \n",
            " extracting: 바위/38.jpg           \n",
            " extracting: 바위/39.jpg           \n",
            " extracting: 바위/40.jpg           \n",
            " extracting: 바위/41.jpg           \n",
            " extracting: 바위/42.jpg           \n",
            " extracting: 바위/43.jpg           \n",
            " extracting: 바위/44.jpg           \n",
            " extracting: 바위/45.jpg           \n",
            " extracting: 바위/46.jpg           \n",
            " extracting: 바위/47.jpg           \n",
            " extracting: 바위/48.jpg           \n",
            " extracting: 바위/49.jpg           \n",
            " extracting: 바위/50.jpg           \n",
            " extracting: 바위/51.jpg           \n",
            " extracting: 바위/52.jpg           \n",
            " extracting: 바위/53.jpg           \n",
            " extracting: 바위/54.jpg           \n",
            " extracting: 바위/55.jpg           \n",
            " extracting: 바위/56.jpg           \n",
            " extracting: 바위/57.jpg           \n",
            " extracting: 바위/58.jpg           \n",
            " extracting: 바위/59.jpg           \n",
            " extracting: 바위/60.jpg           \n",
            " extracting: 바위/61.jpg           \n",
            " extracting: 바위/62.jpg           \n",
            " extracting: 바위/63.jpg           \n",
            " extracting: 바위/64.jpg           \n",
            " extracting: 바위/65.jpg           \n",
            " extracting: 바위/66.jpg           \n",
            " extracting: 바위/67.jpg           \n",
            " extracting: 바위/68.jpg           \n",
            " extracting: 바위/69.jpg           \n",
            " extracting: 바위/70.jpg           \n",
            " extracting: 바위/71.jpg           \n",
            " extracting: 바위/72.jpg           \n",
            " extracting: 바위/73.jpg           \n",
            " extracting: 바위/74.jpg           \n",
            " extracting: 바위/75.jpg           \n",
            " extracting: 바위/76.jpg           \n",
            " extracting: 바위/77.jpg           \n",
            " extracting: 바위/78.jpg           \n",
            " extracting: 바위/79.jpg           \n",
            " extracting: 바위/80.jpg           \n",
            " extracting: 바위/81.jpg           \n",
            " extracting: 바위/82.jpg           \n",
            " extracting: 바위/83.jpg           \n",
            " extracting: 바위/84.jpg           \n",
            " extracting: 바위/85.jpg           \n",
            " extracting: 바위/86.jpg           \n",
            " extracting: 바위/87.jpg           \n",
            " extracting: 바위/88.jpg           \n",
            " extracting: 바위/89.jpg           \n",
            " extracting: 바위/90.jpg           \n",
            " extracting: 바위/91.jpg           \n",
            " extracting: 바위/92.jpg           \n",
            " extracting: 바위/93.jpg           \n",
            " extracting: 바위/94.jpg           \n",
            " extracting: 바위/95.jpg           \n",
            " extracting: 바위/96.jpg           \n",
            " extracting: 바위/97.jpg           \n",
            " extracting: 바위/98.jpg           \n",
            " extracting: 바위/99.jpg           \n",
            " extracting: 바위/100.jpg          \n",
            " extracting: 바위/101.jpg          \n",
            " extracting: 바위/102.jpg          \n",
            " extracting: 바위/103.jpg          \n",
            " extracting: 바위/104.jpg          \n",
            " extracting: 바위/105.jpg          \n",
            " extracting: 바위/106.jpg          \n",
            " extracting: 바위/107.jpg          \n",
            "Archive:  보-samples.zip\n",
            " extracting: 보/0.jpg               \n",
            " extracting: 보/1.jpg               \n",
            " extracting: 보/2.jpg               \n",
            " extracting: 보/3.jpg               \n",
            " extracting: 보/4.jpg               \n",
            " extracting: 보/5.jpg               \n",
            " extracting: 보/6.jpg               \n",
            " extracting: 보/7.jpg               \n",
            " extracting: 보/8.jpg               \n",
            " extracting: 보/9.jpg               \n",
            " extracting: 보/10.jpg              \n",
            " extracting: 보/11.jpg              \n",
            " extracting: 보/12.jpg              \n",
            " extracting: 보/13.jpg              \n",
            " extracting: 보/14.jpg              \n",
            " extracting: 보/15.jpg              \n",
            " extracting: 보/16.jpg              \n",
            " extracting: 보/17.jpg              \n",
            " extracting: 보/18.jpg              \n",
            " extracting: 보/19.jpg              \n",
            " extracting: 보/20.jpg              \n",
            " extracting: 보/21.jpg              \n",
            " extracting: 보/22.jpg              \n",
            " extracting: 보/23.jpg              \n",
            " extracting: 보/24.jpg              \n",
            " extracting: 보/25.jpg              \n",
            " extracting: 보/26.jpg              \n",
            " extracting: 보/27.jpg              \n",
            " extracting: 보/28.jpg              \n",
            " extracting: 보/29.jpg              \n",
            " extracting: 보/30.jpg              \n",
            " extracting: 보/31.jpg              \n",
            " extracting: 보/32.jpg              \n",
            " extracting: 보/33.jpg              \n",
            " extracting: 보/34.jpg              \n",
            " extracting: 보/35.jpg              \n",
            " extracting: 보/36.jpg              \n",
            " extracting: 보/37.jpg              \n",
            " extracting: 보/38.jpg              \n",
            " extracting: 보/39.jpg              \n",
            " extracting: 보/40.jpg              \n",
            " extracting: 보/41.jpg              \n",
            " extracting: 보/42.jpg              \n",
            " extracting: 보/43.jpg              \n",
            " extracting: 보/44.jpg              \n",
            " extracting: 보/45.jpg              \n",
            " extracting: 보/46.jpg              \n",
            " extracting: 보/47.jpg              \n",
            " extracting: 보/48.jpg              \n",
            " extracting: 보/49.jpg              \n",
            " extracting: 보/50.jpg              \n",
            " extracting: 보/51.jpg              \n",
            " extracting: 보/52.jpg              \n",
            " extracting: 보/53.jpg              \n",
            " extracting: 보/54.jpg              \n",
            " extracting: 보/55.jpg              \n",
            " extracting: 보/56.jpg              \n",
            " extracting: 보/57.jpg              \n",
            " extracting: 보/58.jpg              \n",
            " extracting: 보/59.jpg              \n",
            " extracting: 보/60.jpg              \n",
            " extracting: 보/61.jpg              \n",
            " extracting: 보/62.jpg              \n",
            " extracting: 보/63.jpg              \n",
            " extracting: 보/64.jpg              \n",
            " extracting: 보/65.jpg              \n",
            " extracting: 보/66.jpg              \n",
            " extracting: 보/67.jpg              \n",
            " extracting: 보/68.jpg              \n",
            " extracting: 보/69.jpg              \n",
            " extracting: 보/70.jpg              \n",
            " extracting: 보/71.jpg              \n",
            " extracting: 보/72.jpg              \n",
            " extracting: 보/73.jpg              \n",
            " extracting: 보/74.jpg              \n",
            " extracting: 보/75.jpg              \n",
            " extracting: 보/76.jpg              \n",
            " extracting: 보/77.jpg              \n",
            " extracting: 보/78.jpg              \n",
            " extracting: 보/79.jpg              \n",
            " extracting: 보/80.jpg              \n",
            " extracting: 보/81.jpg              \n",
            " extracting: 보/82.jpg              \n",
            " extracting: 보/83.jpg              \n",
            " extracting: 보/84.jpg              \n",
            " extracting: 보/85.jpg              \n",
            " extracting: 보/86.jpg              \n",
            " extracting: 보/87.jpg              \n",
            " extracting: 보/88.jpg              \n",
            " extracting: 보/89.jpg              \n",
            " extracting: 보/90.jpg              \n",
            " extracting: 보/91.jpg              \n",
            " extracting: 보/92.jpg              \n",
            " extracting: 보/93.jpg              \n",
            " extracting: 보/94.jpg              \n",
            " extracting: 보/95.jpg              \n",
            " extracting: 보/96.jpg              \n",
            " extracting: 보/97.jpg              \n",
            " extracting: 보/98.jpg              \n",
            " extracting: 보/99.jpg              \n",
            " extracting: 보/100.jpg             \n",
            " extracting: 보/101.jpg             \n",
            " extracting: 보/102.jpg             \n"
          ]
        }
      ]
    },
    {
      "cell_type": "code",
      "source": [
        "from PIL import Image\n",
        "import glob\n",
        "import os\n",
        "\n",
        "print(\"PIL 라이브러리 import 완료!\")"
      ],
      "metadata": {
        "colab": {
          "base_uri": "https://localhost:8080/"
        },
        "id": "7sQVdquQwhOP",
        "outputId": "51d6acea-2284-44d2-a4cc-703a49ef709e"
      },
      "execution_count": 19,
      "outputs": [
        {
          "output_type": "stream",
          "name": "stdout",
          "text": [
            "PIL 라이브러리 import 완료!\n"
          ]
        }
      ]
    },
    {
      "cell_type": "code",
      "source": [
        "def resize_images(img_path):\n",
        "\timages=glob.glob(img_path + \"/*.jpg\")\n",
        "\n",
        "\tprint(len(images), \" images to be resized.\")\n",
        "\n",
        "    # 파일마다 모두 28x28 사이즈로 바꾸어 저장\n",
        "\ttarget_size=(28,28)\n",
        "\tfor img in images:\n",
        "\t\told_img=Image.open(img)\n",
        "\t\tnew_img = old_img.resize(target_size, Image.Resampling.LANCZOS)\n",
        "\t\tnew_img.save(img, \"JPEG\")\n",
        "\n",
        "\tprint(len(images), \" images resized.\")\n",
        "\n",
        "# 가위 이미지가 저장된 디렉토리 아래의 모든 jpg 파일을 읽음\n",
        "image_dir_path = \"./가위\"\n",
        "resize_images(image_dir_path)\n",
        "\n",
        "print(\"가위 이미지 resize 완료!\")"
      ],
      "metadata": {
        "colab": {
          "base_uri": "https://localhost:8080/"
        },
        "id": "MLCkQPu4wj0o",
        "outputId": "bd020fd1-ab33-4dcc-bf1b-52b6e8a59314"
      },
      "execution_count": 20,
      "outputs": [
        {
          "output_type": "stream",
          "name": "stdout",
          "text": [
            "117  images to be resized.\n",
            "117  images resized.\n",
            "가위 이미지 resize 완료!\n"
          ]
        }
      ]
    },
    {
      "cell_type": "code",
      "source": [
        "image_dir_path = \"./바위\"\n",
        "resize_images(image_dir_path)\n",
        "\n",
        "print(\"바위 이미지 resize 완료!\")\n",
        "\n",
        "image_dir_path = \"./보\"\n",
        "resize_images(image_dir_path)\n",
        "\n",
        "print(\"보 이미지 resize 완료!\")"
      ],
      "metadata": {
        "colab": {
          "base_uri": "https://localhost:8080/"
        },
        "id": "EDhSNRiNwrNn",
        "outputId": "e724f40b-6179-431c-e1a5-e630204fcaf3"
      },
      "execution_count": 21,
      "outputs": [
        {
          "output_type": "stream",
          "name": "stdout",
          "text": [
            "108  images to be resized.\n",
            "108  images resized.\n",
            "바위 이미지 resize 완료!\n",
            "103  images to be resized.\n",
            "103  images resized.\n",
            "보 이미지 resize 완료!\n"
          ]
        }
      ]
    },
    {
      "cell_type": "code",
      "source": [
        "import numpy as np\n",
        "\n",
        "# 셔플 함수\n",
        "from sklearn.utils import shuffle\n",
        "\n",
        "def load_data(img_path):\n",
        "    # 가위 : 0, 바위 : 1, 보 : 2\n",
        "    img_size=28\n",
        "    color=3\n",
        "\n",
        "    # 데이터의 개수 자동 조정\n",
        "    all_images = glob.glob(f'./가위/*.jpg') + \\\n",
        "                 glob.glob(f'./바위/*.jpg') + \\\n",
        "                 glob.glob(f'./보/*.jpg')\n",
        "    number_of_data = len(all_images)\n",
        "\n",
        "    #이미지 데이터와 라벨(가위 : 0, 바위 : 1, 보 : 2) 데이터를 담을 행렬(matrix) 영역을 생성\n",
        "    imgs=np.zeros(number_of_data*img_size*img_size*color,dtype=np.int32).reshape(number_of_data,img_size,img_size,color)\n",
        "    labels=np.zeros(number_of_data,dtype=np.int32)\n",
        "\n",
        "\n",
        "\n",
        "    idx=0\n",
        "    for file in glob.iglob('./가위/*.jpg'):\n",
        "        img = np.array(Image.open(file),dtype=np.int32)\n",
        "        imgs[idx,:,:,:]=img    # 데이터 영역에 이미지 행렬을 복사\n",
        "        labels[idx]=0   # 가위 : 0\n",
        "        idx=idx+1\n",
        "\n",
        "    for file in glob.iglob('./바위/*.jpg'):\n",
        "        img = np.array(Image.open(file),dtype=np.int32)\n",
        "        imgs[idx,:,:,:]=img    # 데이터 영역에 이미지 행렬을 복사\n",
        "        labels[idx]=1   # 바위 : 1\n",
        "        idx=idx+1\n",
        "\n",
        "    for file in glob.iglob('./보/*.jpg'):\n",
        "        img = np.array(Image.open(file),dtype=np.int32)\n",
        "        imgs[idx,:,:,:]=img    # 데이터 영역에 이미지 행렬을 복사\n",
        "        labels[idx]=2   # 보 : 2\n",
        "        idx=idx+1\n",
        "\n",
        "    print(\"학습데이터(x_train)의 이미지 개수는\", idx,\"입니다.\")\n",
        "    return imgs, labels\n",
        "\n",
        "image_dir_path = \".\"\n",
        "(x_train, y_train)=load_data(image_dir_path)\n",
        "\n",
        "x_train, y_train = shuffle(x_train, y_train, random_state=42)\n",
        "x_train_norm = x_train/255.0   # 입력은 0~1 사이의 값으로 정규화\n",
        "\n",
        "print(\"x_train shape: {}\".format(x_train.shape))\n",
        "print(\"y_train shape: {}\".format(y_train.shape))"
      ],
      "metadata": {
        "colab": {
          "base_uri": "https://localhost:8080/"
        },
        "id": "jlYnLEV1xb4v",
        "outputId": "d9c9ca12-bd83-4a8d-9353-940fb9392f31"
      },
      "execution_count": 22,
      "outputs": [
        {
          "output_type": "stream",
          "name": "stdout",
          "text": [
            "학습데이터(x_train)의 이미지 개수는 328 입니다.\n",
            "x_train shape: (328, 28, 28, 3)\n",
            "y_train shape: (328,)\n"
          ]
        }
      ]
    },
    {
      "cell_type": "code",
      "source": [
        "import matplotlib.pyplot as plt\n",
        "\n",
        "plt.imshow(x_train[224])\n",
        "print('라벨: ', y_train[224])"
      ],
      "metadata": {
        "colab": {
          "base_uri": "https://localhost:8080/",
          "height": 448
        },
        "id": "j-olr7PwFYtc",
        "outputId": "9e85eca7-6f93-43c0-e74c-2249cbcc33ec"
      },
      "execution_count": 23,
      "outputs": [
        {
          "output_type": "stream",
          "name": "stdout",
          "text": [
            "라벨:  1\n"
          ]
        },
        {
          "output_type": "display_data",
          "data": {
            "text/plain": [
              "<Figure size 640x480 with 1 Axes>"
            ],
            "image/png": "[encoded data removed]"
          },
          "metadata": {}
        }
      ]
    },
    {
      "cell_type": "code",
      "source": [
        "from tensorflow import keras\n",
        "from tensorflow.keras import layers\n",
        "\n",
        "# 하이퍼파라미터 조정\n",
        "n_channel_1 = 32\n",
        "n_channel_2 = 64\n",
        "n_dense = 128\n",
        "n_train_epoch = 30\n",
        "\n",
        "model = keras.models.Sequential()\n",
        "model.add(layers.Conv2D(n_channel_1, (3, 3), activation='relu', input_shape=(28, 28, 3)))\n",
        "model.add(layers.MaxPooling2D(2, 2))\n",
        "model.add(layers.Conv2D(n_channel_2, (3, 3), activation='relu'))\n",
        "model.add(layers.MaxPooling2D(2, 2))\n",
        "model.add(layers.Flatten())\n",
        "model.add(layers.Dense(n_dense, activation='relu'))\n",
        "model.add(layers.Dropout(0.5))  # 과적합 방지를 위한 드롭아웃\n",
        "model.add(layers.Dense(3, activation='softmax'))\n",
        "\n",
        "model.compile(optimizer='adam',\n",
        "              loss='sparse_categorical_crossentropy',\n",
        "              metrics=['accuracy'])\n",
        "\n",
        "model.summary()"
      ],
      "metadata": {
        "colab": {
          "base_uri": "https://localhost:8080/",
          "height": 452
        },
        "id": "Ge7qdwshFben",
        "outputId": "a9102a58-07d3-4160-f2dc-280737061b17"
      },
      "execution_count": 34,
      "outputs": [
        {
          "output_type": "stream",
          "name": "stderr",
          "text": [
            "/usr/local/lib/python3.11/dist-packages/keras/src/layers/convolutional/base_conv.py:107: UserWarning: Do not pass an `input_shape`/`input_dim` argument to a layer. When using Sequential models, prefer using an `Input(shape)` object as the first layer in the model instead.\n",
            "  super().__init__(activity_regularizer=activity_regularizer, **kwargs)\n"
          ]
        },
        {
          "output_type": "display_data",
          "data": {
            "text/plain": [
              "\u001b[1mModel: \"sequential_1\"\u001b[0m\n"
            ],
            "text/html": [
              "<pre style=\"white-space:pre;overflow-x:auto;line-height:normal;font-family:Menlo,'DejaVu Sans Mono',consolas,'Courier New',monospace\"><span style=\"font-weight: bold\">Model: \"sequential_1\"</span>\n",
              "</pre>\n"
            ]
          },
          "metadata": {}
        },
        {
          "output_type": "display_data",
          "data": {
            "text/plain": [
              "┏━━━━━━━━━━━━━━━━━━━━━━━━━━━━━━━━━┳━━━━━━━━━━━━━━━━━━━━━━━━┳━━━━━━━━━━━━━━━┓\n",
              "┃\u001b[1m \u001b[0m\u001b[1mLayer (type)                   \u001b[0m\u001b[1m \u001b[0m┃\u001b[1m \u001b[0m\u001b[1mOutput Shape          \u001b[0m\u001b[1m \u001b[0m┃\u001b[1m \u001b[0m\u001b[1m      Param #\u001b[0m\u001b[1m \u001b[0m┃\n",
              "┡━━━━━━━━━━━━━━━━━━━━━━━━━━━━━━━━━╇━━━━━━━━━━━━━━━━━━━━━━━━╇━━━━━━━━━━━━━━━┩\n",
              "│ conv2d_2 (\u001b[38;5;33mConv2D\u001b[0m)               │ (\u001b[38;5;45mNone\u001b[0m, \u001b[38;5;34m26\u001b[0m, \u001b[38;5;34m26\u001b[0m, \u001b[38;5;34m32\u001b[0m)     │           \u001b[38;5;34m896\u001b[0m │\n",
              "├─────────────────────────────────┼────────────────────────┼───────────────┤\n",
              "│ max_pooling2d_2 (\u001b[38;5;33mMaxPooling2D\u001b[0m)  │ (\u001b[38;5;45mNone\u001b[0m, \u001b[38;5;34m13\u001b[0m, \u001b[38;5;34m13\u001b[0m, \u001b[38;5;34m32\u001b[0m)     │             \u001b[38;5;34m0\u001b[0m │\n",
              "├─────────────────────────────────┼────────────────────────┼───────────────┤\n",
              "│ conv2d_3 (\u001b[38;5;33mConv2D\u001b[0m)               │ (\u001b[38;5;45mNone\u001b[0m, \u001b[38;5;34m11\u001b[0m, \u001b[38;5;34m11\u001b[0m, \u001b[38;5;34m64\u001b[0m)     │        \u001b[38;5;34m18,496\u001b[0m │\n",
              "├─────────────────────────────────┼────────────────────────┼───────────────┤\n",
              "│ max_pooling2d_3 (\u001b[38;5;33mMaxPooling2D\u001b[0m)  │ (\u001b[38;5;45mNone\u001b[0m, \u001b[38;5;34m5\u001b[0m, \u001b[38;5;34m5\u001b[0m, \u001b[38;5;34m64\u001b[0m)       │             \u001b[38;5;34m0\u001b[0m │\n",
              "├─────────────────────────────────┼────────────────────────┼───────────────┤\n",
              "│ flatten_1 (\u001b[38;5;33mFlatten\u001b[0m)             │ (\u001b[38;5;45mNone\u001b[0m, \u001b[38;5;34m1600\u001b[0m)           │             \u001b[38;5;34m0\u001b[0m │\n",
              "├─────────────────────────────────┼────────────────────────┼───────────────┤\n",
              "│ dense_2 (\u001b[38;5;33mDense\u001b[0m)                 │ (\u001b[38;5;45mNone\u001b[0m, \u001b[38;5;34m128\u001b[0m)            │       \u001b[38;5;34m204,928\u001b[0m │\n",
              "├─────────────────────────────────┼────────────────────────┼───────────────┤\n",
              "│ dropout (\u001b[38;5;33mDropout\u001b[0m)               │ (\u001b[38;5;45mNone\u001b[0m, \u001b[38;5;34m128\u001b[0m)            │             \u001b[38;5;34m0\u001b[0m │\n",
              "├─────────────────────────────────┼────────────────────────┼───────────────┤\n",
              "│ dense_3 (\u001b[38;5;33mDense\u001b[0m)                 │ (\u001b[38;5;45mNone\u001b[0m, \u001b[38;5;34m3\u001b[0m)              │           \u001b[38;5;34m387\u001b[0m │\n",
              "└─────────────────────────────────┴────────────────────────┴───────────────┘\n"
            ],
            "text/html": [
              "<pre style=\"white-space:pre;overflow-x:auto;line-height:normal;font-family:Menlo,'DejaVu Sans Mono',consolas,'Courier New',monospace\">┏━━━━━━━━━━━━━━━━━━━━━━━━━━━━━━━━━┳━━━━━━━━━━━━━━━━━━━━━━━━┳━━━━━━━━━━━━━━━┓\n",
              "┃<span style=\"font-weight: bold\"> Layer (type)                    </span>┃<span style=\"font-weight: bold\"> Output Shape           </span>┃<span style=\"font-weight: bold\">       Param # </span>┃\n",
              "┡━━━━━━━━━━━━━━━━━━━━━━━━━━━━━━━━━╇━━━━━━━━━━━━━━━━━━━━━━━━╇━━━━━━━━━━━━━━━┩\n",
              "│ conv2d_2 (<span style=\"color: #0087ff; text-decoration-color: #0087ff\">Conv2D</span>)               │ (<span style=\"color: #00d7ff; text-decoration-color: #00d7ff\">None</span>, <span style=\"color: #00af00; text-decoration-color: #00af00\">26</span>, <span style=\"color: #00af00; text-decoration-color: #00af00\">26</span>, <span style=\"color: #00af00; text-decoration-color: #00af00\">32</span>)     │           <span style=\"color: #00af00; text-decoration-color: #00af00\">896</span> │\n",
              "├─────────────────────────────────┼────────────────────────┼───────────────┤\n",
              "│ max_pooling2d_2 (<span style=\"color: #0087ff; text-decoration-color: #0087ff\">MaxPooling2D</span>)  │ (<span style=\"color: #00d7ff; text-decoration-color: #00d7ff\">None</span>, <span style=\"color: #00af00; text-decoration-color: #00af00\">13</span>, <span style=\"color: #00af00; text-decoration-color: #00af00\">13</span>, <span style=\"color: #00af00; text-decoration-color: #00af00\">32</span>)     │             <span style=\"color: #00af00; text-decoration-color: #00af00\">0</span> │\n",
              "├─────────────────────────────────┼────────────────────────┼───────────────┤\n",
              "│ conv2d_3 (<span style=\"color: #0087ff; text-decoration-color: #0087ff\">Conv2D</span>)               │ (<span style=\"color: #00d7ff; text-decoration-color: #00d7ff\">None</span>, <span style=\"color: #00af00; text-decoration-color: #00af00\">11</span>, <span style=\"color: #00af00; text-decoration-color: #00af00\">11</span>, <span style=\"color: #00af00; text-decoration-color: #00af00\">64</span>)     │        <span style=\"color: #00af00; text-decoration-color: #00af00\">18,496</span> │\n",
              "├─────────────────────────────────┼────────────────────────┼───────────────┤\n",
              "│ max_pooling2d_3 (<span style=\"color: #0087ff; text-decoration-color: #0087ff\">MaxPooling2D</span>)  │ (<span style=\"color: #00d7ff; text-decoration-color: #00d7ff\">None</span>, <span style=\"color: #00af00; text-decoration-color: #00af00\">5</span>, <span style=\"color: #00af00; text-decoration-color: #00af00\">5</span>, <span style=\"color: #00af00; text-decoration-color: #00af00\">64</span>)       │             <span style=\"color: #00af00; text-decoration-color: #00af00\">0</span> │\n",
              "├─────────────────────────────────┼────────────────────────┼───────────────┤\n",
              "│ flatten_1 (<span style=\"color: #0087ff; text-decoration-color: #0087ff\">Flatten</span>)             │ (<span style=\"color: #00d7ff; text-decoration-color: #00d7ff\">None</span>, <span style=\"color: #00af00; text-decoration-color: #00af00\">1600</span>)           │             <span style=\"color: #00af00; text-decoration-color: #00af00\">0</span> │\n",
              "├─────────────────────────────────┼────────────────────────┼───────────────┤\n",
              "│ dense_2 (<span style=\"color: #0087ff; text-decoration-color: #0087ff\">Dense</span>)                 │ (<span style=\"color: #00d7ff; text-decoration-color: #00d7ff\">None</span>, <span style=\"color: #00af00; text-decoration-color: #00af00\">128</span>)            │       <span style=\"color: #00af00; text-decoration-color: #00af00\">204,928</span> │\n",
              "├─────────────────────────────────┼────────────────────────┼───────────────┤\n",
              "│ dropout (<span style=\"color: #0087ff; text-decoration-color: #0087ff\">Dropout</span>)               │ (<span style=\"color: #00d7ff; text-decoration-color: #00d7ff\">None</span>, <span style=\"color: #00af00; text-decoration-color: #00af00\">128</span>)            │             <span style=\"color: #00af00; text-decoration-color: #00af00\">0</span> │\n",
              "├─────────────────────────────────┼────────────────────────┼───────────────┤\n",
              "│ dense_3 (<span style=\"color: #0087ff; text-decoration-color: #0087ff\">Dense</span>)                 │ (<span style=\"color: #00d7ff; text-decoration-color: #00d7ff\">None</span>, <span style=\"color: #00af00; text-decoration-color: #00af00\">3</span>)              │           <span style=\"color: #00af00; text-decoration-color: #00af00\">387</span> │\n",
              "└─────────────────────────────────┴────────────────────────┴───────────────┘\n",
              "</pre>\n"
            ]
          },
          "metadata": {}
        },
        {
          "output_type": "display_data",
          "data": {
            "text/plain": [
              "\u001b[1m Total params: \u001b[0m\u001b[38;5;34m224,707\u001b[0m (877.76 KB)\n"
            ],
            "text/html": [
              "<pre style=\"white-space:pre;overflow-x:auto;line-height:normal;font-family:Menlo,'DejaVu Sans Mono',consolas,'Courier New',monospace\"><span style=\"font-weight: bold\"> Total params: </span><span style=\"color: #00af00; text-decoration-color: #00af00\">224,707</span> (877.76 KB)\n",
              "</pre>\n"
            ]
          },
          "metadata": {}
        },
        {
          "output_type": "display_data",
          "data": {
            "text/plain": [
              "\u001b[1m Trainable params: \u001b[0m\u001b[38;5;34m224,707\u001b[0m (877.76 KB)\n"
            ],
            "text/html": [
              "<pre style=\"white-space:pre;overflow-x:auto;line-height:normal;font-family:Menlo,'DejaVu Sans Mono',consolas,'Courier New',monospace\"><span style=\"font-weight: bold\"> Trainable params: </span><span style=\"color: #00af00; text-decoration-color: #00af00\">224,707</span> (877.76 KB)\n",
              "</pre>\n"
            ]
          },
          "metadata": {}
        },
        {
          "output_type": "display_data",
          "data": {
            "text/plain": [
              "\u001b[1m Non-trainable params: \u001b[0m\u001b[38;5;34m0\u001b[0m (0.00 B)\n"
            ],
            "text/html": [
              "<pre style=\"white-space:pre;overflow-x:auto;line-height:normal;font-family:Menlo,'DejaVu Sans Mono',consolas,'Courier New',monospace\"><span style=\"font-weight: bold\"> Non-trainable params: </span><span style=\"color: #00af00; text-decoration-color: #00af00\">0</span> (0.00 B)\n",
              "</pre>\n"
            ]
          },
          "metadata": {}
        }
      ]
    },
    {
      "cell_type": "code",
      "source": [
        "model.compile(optimizer='adam',\n",
        "             loss='sparse_categorical_crossentropy',\n",
        "             metrics=['accuracy'])\n",
        "\n",
        "# 모델 훈련\n",
        "model.fit(x_train, y_train, epochs=n_train_epoch)"
      ],
      "metadata": {
        "colab": {
          "base_uri": "https://localhost:8080/"
        },
        "id": "N2esEIO9FndZ",
        "outputId": "ab006cbb-c1b9-4eb5-e607-8c8633f2f0ae"
      },
      "execution_count": 35,
      "outputs": [
        {
          "output_type": "stream",
          "name": "stdout",
          "text": [
            "Epoch 1/30\n",
            "\u001b[1m11/11\u001b[0m \u001b[32m━━━━━━━━━━━━━━━━━━━━\u001b[0m\u001b[37m\u001b[0m \u001b[1m2s\u001b[0m 26ms/step - accuracy: 0.3942 - loss: 35.2655\n",
            "Epoch 2/30\n",
            "\u001b[1m11/11\u001b[0m \u001b[32m━━━━━━━━━━━━━━━━━━━━\u001b[0m\u001b[37m\u001b[0m \u001b[1m1s\u001b[0m 27ms/step - accuracy: 0.6241 - loss: 2.6813\n",
            "Epoch 3/30\n",
            "\u001b[1m11/11\u001b[0m \u001b[32m━━━━━━━━━━━━━━━━━━━━\u001b[0m\u001b[37m\u001b[0m \u001b[1m1s\u001b[0m 38ms/step - accuracy: 0.7661 - loss: 0.6785\n",
            "Epoch 4/30\n",
            "\u001b[1m11/11\u001b[0m \u001b[32m━━━━━━━━━━━━━━━━━━━━\u001b[0m\u001b[37m\u001b[0m \u001b[1m1s\u001b[0m 45ms/step - accuracy: 0.8139 - loss: 0.5342\n",
            "Epoch 5/30\n",
            "\u001b[1m11/11\u001b[0m \u001b[32m━━━━━━━━━━━━━━━━━━━━\u001b[0m\u001b[37m\u001b[0m \u001b[1m1s\u001b[0m 46ms/step - accuracy: 0.8929 - loss: 0.2502\n",
            "Epoch 6/30\n",
            "\u001b[1m11/11\u001b[0m \u001b[32m━━━━━━━━━━━━━━━━━━━━\u001b[0m\u001b[37m\u001b[0m \u001b[1m1s\u001b[0m 44ms/step - accuracy: 0.9180 - loss: 0.2387\n",
            "Epoch 7/30\n",
            "\u001b[1m11/11\u001b[0m \u001b[32m━━━━━━━━━━━━━━━━━━━━\u001b[0m\u001b[37m\u001b[0m \u001b[1m1s\u001b[0m 33ms/step - accuracy: 0.9412 - loss: 0.1452\n",
            "Epoch 8/30\n",
            "\u001b[1m11/11\u001b[0m \u001b[32m━━━━━━━━━━━━━━━━━━━━\u001b[0m\u001b[37m\u001b[0m \u001b[1m1s\u001b[0m 26ms/step - accuracy: 0.9637 - loss: 0.0995\n",
            "Epoch 9/30\n",
            "\u001b[1m11/11\u001b[0m \u001b[32m━━━━━━━━━━━━━━━━━━━━\u001b[0m\u001b[37m\u001b[0m \u001b[1m1s\u001b[0m 25ms/step - accuracy: 0.9823 - loss: 0.0483\n",
            "Epoch 10/30\n",
            "\u001b[1m11/11\u001b[0m \u001b[32m━━━━━━━━━━━━━━━━━━━━\u001b[0m\u001b[37m\u001b[0m \u001b[1m0s\u001b[0m 26ms/step - accuracy: 0.9740 - loss: 0.0573\n",
            "Epoch 11/30\n",
            "\u001b[1m11/11\u001b[0m \u001b[32m━━━━━━━━━━━━━━━━━━━━\u001b[0m\u001b[37m\u001b[0m \u001b[1m0s\u001b[0m 26ms/step - accuracy: 0.9971 - loss: 0.0330\n",
            "Epoch 12/30\n",
            "\u001b[1m11/11\u001b[0m \u001b[32m━━━━━━━━━━━━━━━━━━━━\u001b[0m\u001b[37m\u001b[0m \u001b[1m0s\u001b[0m 27ms/step - accuracy: 0.9588 - loss: 0.0616\n",
            "Epoch 13/30\n",
            "\u001b[1m11/11\u001b[0m \u001b[32m━━━━━━━━━━━━━━━━━━━━\u001b[0m\u001b[37m\u001b[0m \u001b[1m1s\u001b[0m 26ms/step - accuracy: 0.9843 - loss: 0.0403\n",
            "Epoch 14/30\n",
            "\u001b[1m11/11\u001b[0m \u001b[32m━━━━━━━━━━━━━━━━━━━━\u001b[0m\u001b[37m\u001b[0m \u001b[1m0s\u001b[0m 28ms/step - accuracy: 0.9827 - loss: 0.0422\n",
            "Epoch 15/30\n",
            "\u001b[1m11/11\u001b[0m \u001b[32m━━━━━━━━━━━━━━━━━━━━\u001b[0m\u001b[37m\u001b[0m \u001b[1m1s\u001b[0m 26ms/step - accuracy: 0.9579 - loss: 0.0991\n",
            "Epoch 16/30\n",
            "\u001b[1m11/11\u001b[0m \u001b[32m━━━━━━━━━━━━━━━━━━━━\u001b[0m\u001b[37m\u001b[0m \u001b[1m0s\u001b[0m 28ms/step - accuracy: 0.9590 - loss: 0.1357\n",
            "Epoch 17/30\n",
            "\u001b[1m11/11\u001b[0m \u001b[32m━━━━━━━━━━━━━━━━━━━━\u001b[0m\u001b[37m\u001b[0m \u001b[1m0s\u001b[0m 26ms/step - accuracy: 0.9720 - loss: 0.0756\n",
            "Epoch 18/30\n",
            "\u001b[1m11/11\u001b[0m \u001b[32m━━━━━━━━━━━━━━━━━━━━\u001b[0m\u001b[37m\u001b[0m \u001b[1m0s\u001b[0m 26ms/step - accuracy: 0.9809 - loss: 0.0413\n",
            "Epoch 19/30\n",
            "\u001b[1m11/11\u001b[0m \u001b[32m━━━━━━━━━━━━━━━━━━━━\u001b[0m\u001b[37m\u001b[0m \u001b[1m0s\u001b[0m 27ms/step - accuracy: 0.9879 - loss: 0.0342\n",
            "Epoch 20/30\n",
            "\u001b[1m11/11\u001b[0m \u001b[32m━━━━━━━━━━━━━━━━━━━━\u001b[0m\u001b[37m\u001b[0m \u001b[1m0s\u001b[0m 28ms/step - accuracy: 0.9953 - loss: 0.0165\n",
            "Epoch 21/30\n",
            "\u001b[1m11/11\u001b[0m \u001b[32m━━━━━━━━━━━━━━━━━━━━\u001b[0m\u001b[37m\u001b[0m \u001b[1m1s\u001b[0m 26ms/step - accuracy: 0.9973 - loss: 0.0091\n",
            "Epoch 22/30\n",
            "\u001b[1m11/11\u001b[0m \u001b[32m━━━━━━━━━━━━━━━━━━━━\u001b[0m\u001b[37m\u001b[0m \u001b[1m0s\u001b[0m 27ms/step - accuracy: 0.9951 - loss: 0.0169\n",
            "Epoch 23/30\n",
            "\u001b[1m11/11\u001b[0m \u001b[32m━━━━━━━━━━━━━━━━━━━━\u001b[0m\u001b[37m\u001b[0m \u001b[1m1s\u001b[0m 27ms/step - accuracy: 0.9913 - loss: 0.0293\n",
            "Epoch 24/30\n",
            "\u001b[1m11/11\u001b[0m \u001b[32m━━━━━━━━━━━━━━━━━━━━\u001b[0m\u001b[37m\u001b[0m \u001b[1m0s\u001b[0m 27ms/step - accuracy: 0.9944 - loss: 0.0212\n",
            "Epoch 25/30\n",
            "\u001b[1m11/11\u001b[0m \u001b[32m━━━━━━━━━━━━━━━━━━━━\u001b[0m\u001b[37m\u001b[0m \u001b[1m0s\u001b[0m 26ms/step - accuracy: 0.9982 - loss: 0.0062\n",
            "Epoch 26/30\n",
            "\u001b[1m11/11\u001b[0m \u001b[32m━━━━━━━━━━━━━━━━━━━━\u001b[0m\u001b[37m\u001b[0m \u001b[1m0s\u001b[0m 25ms/step - accuracy: 1.0000 - loss: 0.0054\n",
            "Epoch 27/30\n",
            "\u001b[1m11/11\u001b[0m \u001b[32m━━━━━━━━━━━━━━━━━━━━\u001b[0m\u001b[37m\u001b[0m \u001b[1m0s\u001b[0m 26ms/step - accuracy: 0.9715 - loss: 0.0433\n",
            "Epoch 28/30\n",
            "\u001b[1m11/11\u001b[0m \u001b[32m━━━━━━━━━━━━━━━━━━━━\u001b[0m\u001b[37m\u001b[0m \u001b[1m1s\u001b[0m 29ms/step - accuracy: 0.9885 - loss: 0.0672\n",
            "Epoch 29/30\n",
            "\u001b[1m11/11\u001b[0m \u001b[32m━━━━━━━━━━━━━━━━━━━━\u001b[0m\u001b[37m\u001b[0m \u001b[1m1s\u001b[0m 27ms/step - accuracy: 1.0000 - loss: 0.0103\n",
            "Epoch 30/30\n",
            "\u001b[1m11/11\u001b[0m \u001b[32m━━━━━━━━━━━━━━━━━━━━\u001b[0m\u001b[37m\u001b[0m \u001b[1m1s\u001b[0m 37ms/step - accuracy: 0.9875 - loss: 0.0777\n"
          ]
        },
        {
          "output_type": "execute_result",
          "data": {
            "text/plain": [
              "<keras.src.callbacks.history.History at 0x7f9c8e899150>"
            ]
          },
          "metadata": {},
          "execution_count": 35
        }
      ]
    },
    {
      "cell_type": "code",
      "source": [
        "ls"
      ],
      "metadata": {
        "colab": {
          "base_uri": "https://localhost:8080/"
        },
        "id": "xwFOQJlI_Y_l",
        "outputId": "0b0654ce-1028-4181-f9a0-4b69415dd8c2"
      },
      "execution_count": 36,
      "outputs": [
        {
          "output_type": "stream",
          "name": "stdout",
          "text": [
            "\u001b[0m\u001b[01;34m보\u001b[0m/           \u001b[01;34m가위_test\u001b[0m/        가위_test-samples.zip  보_test-samples.zip\n",
            "\u001b[01;34m바위\u001b[0m/         \u001b[01;34m바위_test\u001b[0m/        바위-samples.zip\n",
            "\u001b[01;34m가위\u001b[0m/         \u001b[01;34m보_test\u001b[0m/          바위_test-samples.zip\n",
            "\u001b[01;34msample_data\u001b[0m/  가위-samples.zip  보-samples.zip\n"
          ]
        }
      ]
    },
    {
      "cell_type": "code",
      "source": [
        "!unzip 가위_test-samples.zip -d 가위_test\n",
        "!unzip 바위_test-samples.zip -d 바위_test\n",
        "!unzip 보_test-samples.zip   -d 보_test"
      ],
      "metadata": {
        "colab": {
          "base_uri": "https://localhost:8080/"
        },
        "collapsed": true,
        "id": "mYtTGIGTF0Kd",
        "outputId": "e895baa0-b83e-4631-8778-a6352781513a"
      },
      "execution_count": 29,
      "outputs": [
        {
          "output_type": "stream",
          "name": "stdout",
          "text": [
            "Archive:  가위_test-samples.zip\n",
            " extracting: 가위_test/0.jpg       \n",
            " extracting: 가위_test/1.jpg       \n",
            " extracting: 가위_test/2.jpg       \n",
            " extracting: 가위_test/3.jpg       \n",
            " extracting: 가위_test/4.jpg       \n",
            " extracting: 가위_test/5.jpg       \n",
            " extracting: 가위_test/6.jpg       \n",
            " extracting: 가위_test/7.jpg       \n",
            " extracting: 가위_test/8.jpg       \n",
            " extracting: 가위_test/9.jpg       \n",
            " extracting: 가위_test/10.jpg      \n",
            " extracting: 가위_test/11.jpg      \n",
            " extracting: 가위_test/12.jpg      \n",
            " extracting: 가위_test/13.jpg      \n",
            " extracting: 가위_test/14.jpg      \n",
            " extracting: 가위_test/15.jpg      \n",
            " extracting: 가위_test/16.jpg      \n",
            " extracting: 가위_test/17.jpg      \n",
            " extracting: 가위_test/18.jpg      \n",
            " extracting: 가위_test/19.jpg      \n",
            " extracting: 가위_test/20.jpg      \n",
            " extracting: 가위_test/21.jpg      \n",
            " extracting: 가위_test/22.jpg      \n",
            " extracting: 가위_test/23.jpg      \n",
            " extracting: 가위_test/24.jpg      \n",
            " extracting: 가위_test/25.jpg      \n",
            " extracting: 가위_test/26.jpg      \n",
            " extracting: 가위_test/27.jpg      \n",
            " extracting: 가위_test/28.jpg      \n",
            " extracting: 가위_test/29.jpg      \n",
            " extracting: 가위_test/30.jpg      \n",
            " extracting: 가위_test/31.jpg      \n",
            " extracting: 가위_test/32.jpg      \n",
            " extracting: 가위_test/33.jpg      \n",
            " extracting: 가위_test/34.jpg      \n",
            " extracting: 가위_test/35.jpg      \n",
            " extracting: 가위_test/36.jpg      \n",
            " extracting: 가위_test/37.jpg      \n",
            " extracting: 가위_test/38.jpg      \n",
            " extracting: 가위_test/39.jpg      \n",
            " extracting: 가위_test/40.jpg      \n",
            " extracting: 가위_test/41.jpg      \n",
            " extracting: 가위_test/42.jpg      \n",
            " extracting: 가위_test/43.jpg      \n",
            " extracting: 가위_test/44.jpg      \n",
            " extracting: 가위_test/45.jpg      \n",
            " extracting: 가위_test/46.jpg      \n",
            " extracting: 가위_test/47.jpg      \n",
            " extracting: 가위_test/48.jpg      \n",
            " extracting: 가위_test/49.jpg      \n",
            " extracting: 가위_test/50.jpg      \n",
            " extracting: 가위_test/51.jpg      \n",
            " extracting: 가위_test/52.jpg      \n",
            " extracting: 가위_test/53.jpg      \n",
            " extracting: 가위_test/54.jpg      \n",
            " extracting: 가위_test/55.jpg      \n",
            " extracting: 가위_test/56.jpg      \n",
            " extracting: 가위_test/57.jpg      \n",
            " extracting: 가위_test/58.jpg      \n",
            " extracting: 가위_test/59.jpg      \n",
            " extracting: 가위_test/60.jpg      \n",
            " extracting: 가위_test/61.jpg      \n",
            " extracting: 가위_test/62.jpg      \n",
            " extracting: 가위_test/63.jpg      \n",
            " extracting: 가위_test/64.jpg      \n",
            " extracting: 가위_test/65.jpg      \n",
            " extracting: 가위_test/66.jpg      \n",
            " extracting: 가위_test/67.jpg      \n",
            " extracting: 가위_test/68.jpg      \n",
            " extracting: 가위_test/69.jpg      \n",
            " extracting: 가위_test/70.jpg      \n",
            " extracting: 가위_test/71.jpg      \n",
            " extracting: 가위_test/72.jpg      \n",
            " extracting: 가위_test/73.jpg      \n",
            " extracting: 가위_test/74.jpg      \n",
            " extracting: 가위_test/75.jpg      \n",
            " extracting: 가위_test/76.jpg      \n",
            " extracting: 가위_test/77.jpg      \n",
            " extracting: 가위_test/78.jpg      \n",
            " extracting: 가위_test/79.jpg      \n",
            " extracting: 가위_test/80.jpg      \n",
            " extracting: 가위_test/81.jpg      \n",
            " extracting: 가위_test/82.jpg      \n",
            " extracting: 가위_test/83.jpg      \n",
            " extracting: 가위_test/84.jpg      \n",
            " extracting: 가위_test/85.jpg      \n",
            " extracting: 가위_test/86.jpg      \n",
            " extracting: 가위_test/87.jpg      \n",
            " extracting: 가위_test/88.jpg      \n",
            " extracting: 가위_test/89.jpg      \n",
            " extracting: 가위_test/90.jpg      \n",
            " extracting: 가위_test/91.jpg      \n",
            " extracting: 가위_test/92.jpg      \n",
            " extracting: 가위_test/93.jpg      \n",
            " extracting: 가위_test/94.jpg      \n",
            " extracting: 가위_test/95.jpg      \n",
            " extracting: 가위_test/96.jpg      \n",
            " extracting: 가위_test/97.jpg      \n",
            " extracting: 가위_test/98.jpg      \n",
            " extracting: 가위_test/99.jpg      \n",
            "Archive:  바위_test-samples.zip\n",
            " extracting: 바위_test/0.jpg       \n",
            " extracting: 바위_test/1.jpg       \n",
            " extracting: 바위_test/2.jpg       \n",
            " extracting: 바위_test/3.jpg       \n",
            " extracting: 바위_test/4.jpg       \n",
            " extracting: 바위_test/5.jpg       \n",
            " extracting: 바위_test/6.jpg       \n",
            " extracting: 바위_test/7.jpg       \n",
            " extracting: 바위_test/8.jpg       \n",
            " extracting: 바위_test/9.jpg       \n",
            " extracting: 바위_test/10.jpg      \n",
            " extracting: 바위_test/11.jpg      \n",
            " extracting: 바위_test/12.jpg      \n",
            " extracting: 바위_test/13.jpg      \n",
            " extracting: 바위_test/14.jpg      \n",
            " extracting: 바위_test/15.jpg      \n",
            " extracting: 바위_test/16.jpg      \n",
            " extracting: 바위_test/17.jpg      \n",
            " extracting: 바위_test/18.jpg      \n",
            " extracting: 바위_test/19.jpg      \n",
            " extracting: 바위_test/20.jpg      \n",
            " extracting: 바위_test/21.jpg      \n",
            " extracting: 바위_test/22.jpg      \n",
            " extracting: 바위_test/23.jpg      \n",
            " extracting: 바위_test/24.jpg      \n",
            " extracting: 바위_test/25.jpg      \n",
            " extracting: 바위_test/26.jpg      \n",
            " extracting: 바위_test/27.jpg      \n",
            " extracting: 바위_test/28.jpg      \n",
            " extracting: 바위_test/29.jpg      \n",
            " extracting: 바위_test/30.jpg      \n",
            " extracting: 바위_test/31.jpg      \n",
            " extracting: 바위_test/32.jpg      \n",
            " extracting: 바위_test/33.jpg      \n",
            " extracting: 바위_test/34.jpg      \n",
            " extracting: 바위_test/35.jpg      \n",
            " extracting: 바위_test/36.jpg      \n",
            " extracting: 바위_test/37.jpg      \n",
            " extracting: 바위_test/38.jpg      \n",
            " extracting: 바위_test/39.jpg      \n",
            " extracting: 바위_test/40.jpg      \n",
            " extracting: 바위_test/41.jpg      \n",
            " extracting: 바위_test/42.jpg      \n",
            " extracting: 바위_test/43.jpg      \n",
            " extracting: 바위_test/44.jpg      \n",
            " extracting: 바위_test/45.jpg      \n",
            " extracting: 바위_test/46.jpg      \n",
            " extracting: 바위_test/47.jpg      \n",
            " extracting: 바위_test/48.jpg      \n",
            " extracting: 바위_test/49.jpg      \n",
            " extracting: 바위_test/50.jpg      \n",
            " extracting: 바위_test/51.jpg      \n",
            " extracting: 바위_test/52.jpg      \n",
            " extracting: 바위_test/53.jpg      \n",
            " extracting: 바위_test/54.jpg      \n",
            " extracting: 바위_test/55.jpg      \n",
            " extracting: 바위_test/56.jpg      \n",
            " extracting: 바위_test/57.jpg      \n",
            " extracting: 바위_test/58.jpg      \n",
            " extracting: 바위_test/59.jpg      \n",
            " extracting: 바위_test/60.jpg      \n",
            " extracting: 바위_test/61.jpg      \n",
            " extracting: 바위_test/62.jpg      \n",
            " extracting: 바위_test/63.jpg      \n",
            " extracting: 바위_test/64.jpg      \n",
            " extracting: 바위_test/65.jpg      \n",
            " extracting: 바위_test/66.jpg      \n",
            " extracting: 바위_test/67.jpg      \n",
            " extracting: 바위_test/68.jpg      \n",
            " extracting: 바위_test/69.jpg      \n",
            " extracting: 바위_test/70.jpg      \n",
            " extracting: 바위_test/71.jpg      \n",
            " extracting: 바위_test/72.jpg      \n",
            " extracting: 바위_test/73.jpg      \n",
            " extracting: 바위_test/74.jpg      \n",
            " extracting: 바위_test/75.jpg      \n",
            " extracting: 바위_test/76.jpg      \n",
            " extracting: 바위_test/77.jpg      \n",
            " extracting: 바위_test/78.jpg      \n",
            " extracting: 바위_test/79.jpg      \n",
            " extracting: 바위_test/80.jpg      \n",
            " extracting: 바위_test/81.jpg      \n",
            " extracting: 바위_test/82.jpg      \n",
            " extracting: 바위_test/83.jpg      \n",
            " extracting: 바위_test/84.jpg      \n",
            " extracting: 바위_test/85.jpg      \n",
            " extracting: 바위_test/86.jpg      \n",
            " extracting: 바위_test/87.jpg      \n",
            " extracting: 바위_test/88.jpg      \n",
            " extracting: 바위_test/89.jpg      \n",
            " extracting: 바위_test/90.jpg      \n",
            " extracting: 바위_test/91.jpg      \n",
            " extracting: 바위_test/92.jpg      \n",
            " extracting: 바위_test/93.jpg      \n",
            " extracting: 바위_test/94.jpg      \n",
            " extracting: 바위_test/95.jpg      \n",
            " extracting: 바위_test/96.jpg      \n",
            " extracting: 바위_test/97.jpg      \n",
            " extracting: 바위_test/98.jpg      \n",
            " extracting: 바위_test/99.jpg      \n",
            "Archive:  보_test-samples.zip\n",
            " extracting: 보_test/0.jpg          \n",
            " extracting: 보_test/1.jpg          \n",
            " extracting: 보_test/2.jpg          \n",
            " extracting: 보_test/3.jpg          \n",
            " extracting: 보_test/4.jpg          \n",
            " extracting: 보_test/5.jpg          \n",
            " extracting: 보_test/6.jpg          \n",
            " extracting: 보_test/7.jpg          \n",
            " extracting: 보_test/8.jpg          \n",
            " extracting: 보_test/9.jpg          \n",
            " extracting: 보_test/10.jpg         \n",
            " extracting: 보_test/11.jpg         \n",
            " extracting: 보_test/12.jpg         \n",
            " extracting: 보_test/13.jpg         \n",
            " extracting: 보_test/14.jpg         \n",
            " extracting: 보_test/15.jpg         \n",
            " extracting: 보_test/16.jpg         \n",
            " extracting: 보_test/17.jpg         \n",
            " extracting: 보_test/18.jpg         \n",
            " extracting: 보_test/19.jpg         \n",
            " extracting: 보_test/20.jpg         \n",
            " extracting: 보_test/21.jpg         \n",
            " extracting: 보_test/22.jpg         \n",
            " extracting: 보_test/23.jpg         \n",
            " extracting: 보_test/24.jpg         \n",
            " extracting: 보_test/25.jpg         \n",
            " extracting: 보_test/26.jpg         \n",
            " extracting: 보_test/27.jpg         \n",
            " extracting: 보_test/28.jpg         \n",
            " extracting: 보_test/29.jpg         \n",
            " extracting: 보_test/30.jpg         \n",
            " extracting: 보_test/31.jpg         \n",
            " extracting: 보_test/32.jpg         \n",
            " extracting: 보_test/33.jpg         \n",
            " extracting: 보_test/34.jpg         \n",
            " extracting: 보_test/35.jpg         \n",
            " extracting: 보_test/36.jpg         \n",
            " extracting: 보_test/37.jpg         \n",
            " extracting: 보_test/38.jpg         \n",
            " extracting: 보_test/39.jpg         \n",
            " extracting: 보_test/40.jpg         \n",
            " extracting: 보_test/41.jpg         \n",
            " extracting: 보_test/42.jpg         \n",
            " extracting: 보_test/43.jpg         \n",
            " extracting: 보_test/44.jpg         \n",
            " extracting: 보_test/45.jpg         \n",
            " extracting: 보_test/46.jpg         \n",
            " extracting: 보_test/47.jpg         \n",
            " extracting: 보_test/48.jpg         \n",
            " extracting: 보_test/49.jpg         \n",
            " extracting: 보_test/50.jpg         \n",
            " extracting: 보_test/51.jpg         \n",
            " extracting: 보_test/52.jpg         \n",
            " extracting: 보_test/53.jpg         \n",
            " extracting: 보_test/54.jpg         \n",
            " extracting: 보_test/55.jpg         \n",
            " extracting: 보_test/56.jpg         \n",
            " extracting: 보_test/57.jpg         \n",
            " extracting: 보_test/58.jpg         \n",
            " extracting: 보_test/59.jpg         \n",
            " extracting: 보_test/60.jpg         \n",
            " extracting: 보_test/61.jpg         \n",
            " extracting: 보_test/62.jpg         \n",
            " extracting: 보_test/63.jpg         \n",
            " extracting: 보_test/64.jpg         \n",
            " extracting: 보_test/65.jpg         \n",
            " extracting: 보_test/66.jpg         \n",
            " extracting: 보_test/67.jpg         \n",
            " extracting: 보_test/68.jpg         \n",
            " extracting: 보_test/69.jpg         \n",
            " extracting: 보_test/70.jpg         \n",
            " extracting: 보_test/71.jpg         \n",
            " extracting: 보_test/72.jpg         \n",
            " extracting: 보_test/73.jpg         \n",
            " extracting: 보_test/74.jpg         \n",
            " extracting: 보_test/75.jpg         \n",
            " extracting: 보_test/76.jpg         \n",
            " extracting: 보_test/77.jpg         \n",
            " extracting: 보_test/78.jpg         \n",
            " extracting: 보_test/79.jpg         \n",
            " extracting: 보_test/80.jpg         \n",
            " extracting: 보_test/81.jpg         \n",
            " extracting: 보_test/82.jpg         \n",
            " extracting: 보_test/83.jpg         \n",
            " extracting: 보_test/84.jpg         \n",
            " extracting: 보_test/85.jpg         \n",
            " extracting: 보_test/86.jpg         \n",
            " extracting: 보_test/87.jpg         \n",
            " extracting: 보_test/88.jpg         \n",
            " extracting: 보_test/89.jpg         \n",
            " extracting: 보_test/90.jpg         \n",
            " extracting: 보_test/91.jpg         \n",
            " extracting: 보_test/92.jpg         \n",
            " extracting: 보_test/93.jpg         \n",
            " extracting: 보_test/94.jpg         \n",
            " extracting: 보_test/95.jpg         \n",
            " extracting: 보_test/96.jpg         \n",
            " extracting: 보_test/97.jpg         \n",
            " extracting: 보_test/98.jpg         \n",
            " extracting: 보_test/99.jpg         \n"
          ]
        }
      ]
    },
    {
      "cell_type": "code",
      "source": [
        "import numpy as np\n",
        "from sklearn.utils import shuffle\n",
        "\n",
        "def load_test_data(img_path):\n",
        "    # 가위 : 0, 바위 : 1, 보 : 2\n",
        "    img_size=28\n",
        "    color=3\n",
        "\n",
        "    # 데이터의 개수 자동 조정\n",
        "    all_images = glob.glob(f'./가위_test/*.jpg') + \\\n",
        "                 glob.glob(f'./바위_test/*.jpg') + \\\n",
        "                 glob.glob(f'./보_test/*.jpg')\n",
        "    number_of_data = len(all_images)\n",
        "\n",
        "    #이미지 데이터와 라벨(가위 : 0, 바위 : 1, 보 : 2) 데이터를 담을 행렬(matrix) 영역을 생성\n",
        "    imgs=np.zeros(number_of_data*img_size*img_size*color,dtype=np.int32).reshape(number_of_data,img_size,img_size,color)\n",
        "    labels=np.zeros(number_of_data,dtype=np.int32)\n",
        "\n",
        "\n",
        "\n",
        "    idx=0\n",
        "    for file in glob.iglob('./가위_test/*.jpg'):\n",
        "        img = np.array(Image.open(file),dtype=np.int32)\n",
        "        imgs[idx,:,:,:]=img    # 데이터 영역에 이미지 행렬을 복사\n",
        "        labels[idx]=0   # 가위 : 0\n",
        "        idx=idx+1\n",
        "\n",
        "    for file in glob.iglob('./바위_test/*.jpg'):\n",
        "        img = np.array(Image.open(file),dtype=np.int32)\n",
        "        imgs[idx,:,:,:]=img    # 데이터 영역에 이미지 행렬을 복사\n",
        "        labels[idx]=1   # 바위 : 1\n",
        "        idx=idx+1\n",
        "\n",
        "    for file in glob.iglob('./보_test/*.jpg'):\n",
        "        img = np.array(Image.open(file),dtype=np.int32)\n",
        "        imgs[idx,:,:,:]=img    # 데이터 영역에 이미지 행렬을 복사\n",
        "        labels[idx]=2   # 보 : 2\n",
        "        idx=idx+1\n",
        "\n",
        "    print(\"테스트데이터(x_test)의 이미지 개수는\", idx,\"입니다.\")\n",
        "    return imgs, labels\n",
        "\n",
        "image_dir_path = \".\"\n",
        "(x_train, y_train)=load_data(image_dir_path)\n",
        "\n",
        "x_train, y_train = shuffle(x_train, y_train, random_state=42)\n",
        "x_train_norm = x_train/255.0   # 입력은 0~1 사이의 값으로 정규화\n",
        "\n",
        "print(\"x_test shape: {}\".format(x_train.shape))\n",
        "print(\"y_test shape: {}\".format(y_train.shape))"
      ],
      "metadata": {
        "colab": {
          "base_uri": "https://localhost:8080/"
        },
        "id": "LOMCqfT6La2E",
        "outputId": "15d0a919-a167-4a7f-c6e5-1819879d68a1"
      },
      "execution_count": 37,
      "outputs": [
        {
          "output_type": "stream",
          "name": "stdout",
          "text": [
            "학습데이터(x_train)의 이미지 개수는 328 입니다.\n",
            "x_test shape: (328, 28, 28, 3)\n",
            "y_test shape: (328,)\n"
          ]
        }
      ]
    },
    {
      "cell_type": "code",
      "source": [
        "# x_test, y_test를 만드는 방법은 x_train, y_train을 만드는 방법과 유사\n",
        "image_dir_path = \"./가위_test\"\n",
        "resize_images(image_dir_path)\n",
        "\n",
        "image_dir_path = \"./바위_test\"\n",
        "resize_images(image_dir_path)\n",
        "\n",
        "image_dir_path = \"./보_test\"\n",
        "resize_images(image_dir_path)\n",
        "\n",
        "image_dir_path = \".\"\n",
        "(x_test, y_test)=load_test_data(image_dir_path)\n",
        "x_test_norm = x_test/255.0   # 입력은 0~1 사이의 값으로 정규화\n",
        "print(\"x_test shape: {}\".format(x_test.shape))\n",
        "print(\"y_test shape: {}\".format(y_test.shape))"
      ],
      "metadata": {
        "colab": {
          "base_uri": "https://localhost:8080/"
        },
        "id": "evZpVnjoHrou",
        "outputId": "60de6556-3836-4d05-95d9-e226c9e611aa"
      },
      "execution_count": 31,
      "outputs": [
        {
          "output_type": "stream",
          "name": "stdout",
          "text": [
            "100  images to be resized.\n",
            "100  images resized.\n",
            "100  images to be resized.\n",
            "100  images resized.\n",
            "100  images to be resized.\n",
            "100  images resized.\n",
            "테스트데이터(x_test)의 이미지 개수는 300 입니다.\n",
            "x_test shape: (300, 28, 28, 3)\n",
            "y_test shape: (300,)\n"
          ]
        }
      ]
    },
    {
      "cell_type": "code",
      "source": [
        "test_loss, test_accuracy = model.evaluate(x_test, y_test, verbose=2)\n",
        "print(\"test_loss: {} \".format(test_loss))\n",
        "print(\"test_accuracy: {}\".format(test_accuracy))"
      ],
      "metadata": {
        "colab": {
          "base_uri": "https://localhost:8080/"
        },
        "id": "Y-zuD_F2IB-w",
        "outputId": "4b478622-99ea-4017-c02e-993841379420"
      },
      "execution_count": 38,
      "outputs": [
        {
          "output_type": "stream",
          "name": "stdout",
          "text": [
            "10/10 - 0s - 29ms/step - accuracy: 0.3333 - loss: 9.3061\n",
            "test_loss: 9.306074142456055 \n",
            "test_accuracy: 0.3333333432674408\n"
          ]
        }
      ]
    },
    {
      "cell_type": "code",
      "source": [
        "plt.imshow(x_test[10])\n",
        "print('라벨: ', y_test[10])"
      ],
      "metadata": {
        "colab": {
          "base_uri": "https://localhost:8080/",
          "height": 448
        },
        "id": "VFUNYJvSaqZ0",
        "outputId": "239a0d78-d4d1-4ce8-a9e1-269eb71b567e"
      },
      "execution_count": 33,
      "outputs": [
        {
          "output_type": "stream",
          "name": "stdout",
          "text": [
            "라벨:  0\n"
          ]
        },
        {
          "output_type": "display_data",
          "data": {
            "text/plain": [
              "<Figure size 640x480 with 1 Axes>"
            ],
            "image/png": "[encoded data removed]"
          },
          "metadata": {}
        }
      ]
    },
    {
      "cell_type": "markdown",
      "source": [
        "- 계속 해도 0.33%이 안 넘는다...\n",
        "- 트레인 셋이 적은 이유인걸까? 아마 그래서 과적합이 된 것 같다고 판단\n",
        "- 혹시 모르니 다른 데이터셋을 가져와서 시도해보자."
      ],
      "metadata": {
        "id": "j7IRvU58B0og"
      }
    },
    {
      "cell_type": "code",
      "source": [
        "ls"
      ],
      "metadata": {
        "colab": {
          "base_uri": "https://localhost:8080/"
        },
        "id": "JJbRB8FcDTNy",
        "outputId": "1dc10cdb-2645-45e0-af3c-16e738954d0c"
      },
      "execution_count": 39,
      "outputs": [
        {
          "output_type": "stream",
          "name": "stdout",
          "text": [
            "\u001b[0m\u001b[01;34m보\u001b[0m/           \u001b[01;34m가위_test\u001b[0m/        가위_test-samples-1.zip  바위_test-samples.zip\n",
            "\u001b[01;34m바위\u001b[0m/         \u001b[01;34m바위_test\u001b[0m/        가위_test-samples.zip    보-samples.zip\n",
            "\u001b[01;34m가위\u001b[0m/         \u001b[01;34m보_test\u001b[0m/          바위-samples.zip         보_test-samples-1.zip\n",
            "\u001b[01;34msample_data\u001b[0m/  가위-samples.zip  바위_test-samples-1.zip  보_test-samples.zip\n"
          ]
        }
      ]
    },
    {
      "cell_type": "code",
      "source": [
        "!unzip 가위_test-samples-1.zip -d 가위_test_1\n",
        "!unzip 바위_test-samples-1.zip -d 바위_test_1\n",
        "!unzip 보_test-samples-1.zip   -d 보_test_1"
      ],
      "metadata": {
        "colab": {
          "base_uri": "https://localhost:8080/"
        },
        "id": "ATc44eZyC--3",
        "outputId": "9eee0b65-3fbb-4e2a-ed9f-fd527e35b3b5"
      },
      "execution_count": 40,
      "outputs": [
        {
          "output_type": "stream",
          "name": "stdout",
          "text": [
            "Archive:  가위_test-samples-1.zip\n",
            " extracting: 가위_test_1/0.jpg     \n",
            " extracting: 가위_test_1/1.jpg     \n",
            " extracting: 가위_test_1/2.jpg     \n",
            " extracting: 가위_test_1/3.jpg     \n",
            " extracting: 가위_test_1/4.jpg     \n",
            " extracting: 가위_test_1/5.jpg     \n",
            " extracting: 가위_test_1/6.jpg     \n",
            " extracting: 가위_test_1/7.jpg     \n",
            " extracting: 가위_test_1/8.jpg     \n",
            " extracting: 가위_test_1/9.jpg     \n",
            " extracting: 가위_test_1/10.jpg    \n",
            " extracting: 가위_test_1/11.jpg    \n",
            " extracting: 가위_test_1/12.jpg    \n",
            " extracting: 가위_test_1/13.jpg    \n",
            " extracting: 가위_test_1/14.jpg    \n",
            " extracting: 가위_test_1/15.jpg    \n",
            " extracting: 가위_test_1/16.jpg    \n",
            " extracting: 가위_test_1/17.jpg    \n",
            " extracting: 가위_test_1/18.jpg    \n",
            " extracting: 가위_test_1/19.jpg    \n",
            " extracting: 가위_test_1/20.jpg    \n",
            " extracting: 가위_test_1/21.jpg    \n",
            " extracting: 가위_test_1/22.jpg    \n",
            " extracting: 가위_test_1/23.jpg    \n",
            " extracting: 가위_test_1/24.jpg    \n",
            " extracting: 가위_test_1/25.jpg    \n",
            " extracting: 가위_test_1/26.jpg    \n",
            " extracting: 가위_test_1/27.jpg    \n",
            " extracting: 가위_test_1/28.jpg    \n",
            " extracting: 가위_test_1/29.jpg    \n",
            " extracting: 가위_test_1/30.jpg    \n",
            " extracting: 가위_test_1/31.jpg    \n",
            " extracting: 가위_test_1/32.jpg    \n",
            " extracting: 가위_test_1/33.jpg    \n",
            " extracting: 가위_test_1/34.jpg    \n",
            " extracting: 가위_test_1/35.jpg    \n",
            " extracting: 가위_test_1/36.jpg    \n",
            " extracting: 가위_test_1/37.jpg    \n",
            " extracting: 가위_test_1/38.jpg    \n",
            " extracting: 가위_test_1/39.jpg    \n",
            " extracting: 가위_test_1/40.jpg    \n",
            " extracting: 가위_test_1/41.jpg    \n",
            " extracting: 가위_test_1/42.jpg    \n",
            " extracting: 가위_test_1/43.jpg    \n",
            " extracting: 가위_test_1/44.jpg    \n",
            " extracting: 가위_test_1/45.jpg    \n",
            " extracting: 가위_test_1/46.jpg    \n",
            " extracting: 가위_test_1/47.jpg    \n",
            " extracting: 가위_test_1/48.jpg    \n",
            " extracting: 가위_test_1/49.jpg    \n",
            " extracting: 가위_test_1/50.jpg    \n",
            " extracting: 가위_test_1/51.jpg    \n",
            " extracting: 가위_test_1/52.jpg    \n",
            " extracting: 가위_test_1/53.jpg    \n",
            " extracting: 가위_test_1/54.jpg    \n",
            " extracting: 가위_test_1/55.jpg    \n",
            " extracting: 가위_test_1/56.jpg    \n",
            " extracting: 가위_test_1/57.jpg    \n",
            " extracting: 가위_test_1/58.jpg    \n",
            " extracting: 가위_test_1/59.jpg    \n",
            " extracting: 가위_test_1/60.jpg    \n",
            " extracting: 가위_test_1/61.jpg    \n",
            " extracting: 가위_test_1/62.jpg    \n",
            " extracting: 가위_test_1/63.jpg    \n",
            " extracting: 가위_test_1/64.jpg    \n",
            " extracting: 가위_test_1/65.jpg    \n",
            " extracting: 가위_test_1/66.jpg    \n",
            " extracting: 가위_test_1/67.jpg    \n",
            " extracting: 가위_test_1/68.jpg    \n",
            " extracting: 가위_test_1/69.jpg    \n",
            " extracting: 가위_test_1/70.jpg    \n",
            " extracting: 가위_test_1/71.jpg    \n",
            " extracting: 가위_test_1/72.jpg    \n",
            " extracting: 가위_test_1/73.jpg    \n",
            " extracting: 가위_test_1/74.jpg    \n",
            " extracting: 가위_test_1/75.jpg    \n",
            " extracting: 가위_test_1/76.jpg    \n",
            " extracting: 가위_test_1/77.jpg    \n",
            " extracting: 가위_test_1/78.jpg    \n",
            " extracting: 가위_test_1/79.jpg    \n",
            " extracting: 가위_test_1/80.jpg    \n",
            " extracting: 가위_test_1/81.jpg    \n",
            " extracting: 가위_test_1/82.jpg    \n",
            " extracting: 가위_test_1/83.jpg    \n",
            " extracting: 가위_test_1/84.jpg    \n",
            " extracting: 가위_test_1/85.jpg    \n",
            " extracting: 가위_test_1/86.jpg    \n",
            " extracting: 가위_test_1/87.jpg    \n",
            " extracting: 가위_test_1/88.jpg    \n",
            " extracting: 가위_test_1/89.jpg    \n",
            " extracting: 가위_test_1/90.jpg    \n",
            " extracting: 가위_test_1/91.jpg    \n",
            " extracting: 가위_test_1/92.jpg    \n",
            " extracting: 가위_test_1/93.jpg    \n",
            " extracting: 가위_test_1/94.jpg    \n",
            " extracting: 가위_test_1/95.jpg    \n",
            " extracting: 가위_test_1/96.jpg    \n",
            " extracting: 가위_test_1/97.jpg    \n",
            " extracting: 가위_test_1/98.jpg    \n",
            " extracting: 가위_test_1/99.jpg    \n",
            "Archive:  바위_test-samples-1.zip\n",
            " extracting: 바위_test_1/0.jpg     \n",
            " extracting: 바위_test_1/1.jpg     \n",
            " extracting: 바위_test_1/2.jpg     \n",
            " extracting: 바위_test_1/3.jpg     \n",
            " extracting: 바위_test_1/4.jpg     \n",
            " extracting: 바위_test_1/5.jpg     \n",
            " extracting: 바위_test_1/6.jpg     \n",
            " extracting: 바위_test_1/7.jpg     \n",
            " extracting: 바위_test_1/8.jpg     \n",
            " extracting: 바위_test_1/9.jpg     \n",
            " extracting: 바위_test_1/10.jpg    \n",
            " extracting: 바위_test_1/11.jpg    \n",
            " extracting: 바위_test_1/12.jpg    \n",
            " extracting: 바위_test_1/13.jpg    \n",
            " extracting: 바위_test_1/14.jpg    \n",
            " extracting: 바위_test_1/15.jpg    \n",
            " extracting: 바위_test_1/16.jpg    \n",
            " extracting: 바위_test_1/17.jpg    \n",
            " extracting: 바위_test_1/18.jpg    \n",
            " extracting: 바위_test_1/19.jpg    \n",
            " extracting: 바위_test_1/20.jpg    \n",
            " extracting: 바위_test_1/21.jpg    \n",
            " extracting: 바위_test_1/22.jpg    \n",
            " extracting: 바위_test_1/23.jpg    \n",
            " extracting: 바위_test_1/24.jpg    \n",
            " extracting: 바위_test_1/25.jpg    \n",
            " extracting: 바위_test_1/26.jpg    \n",
            " extracting: 바위_test_1/27.jpg    \n",
            " extracting: 바위_test_1/28.jpg    \n",
            " extracting: 바위_test_1/29.jpg    \n",
            " extracting: 바위_test_1/30.jpg    \n",
            " extracting: 바위_test_1/31.jpg    \n",
            " extracting: 바위_test_1/32.jpg    \n",
            " extracting: 바위_test_1/33.jpg    \n",
            " extracting: 바위_test_1/34.jpg    \n",
            " extracting: 바위_test_1/35.jpg    \n",
            " extracting: 바위_test_1/36.jpg    \n",
            " extracting: 바위_test_1/37.jpg    \n",
            " extracting: 바위_test_1/38.jpg    \n",
            " extracting: 바위_test_1/39.jpg    \n",
            " extracting: 바위_test_1/40.jpg    \n",
            " extracting: 바위_test_1/41.jpg    \n",
            " extracting: 바위_test_1/42.jpg    \n",
            " extracting: 바위_test_1/43.jpg    \n",
            " extracting: 바위_test_1/44.jpg    \n",
            " extracting: 바위_test_1/45.jpg    \n",
            " extracting: 바위_test_1/46.jpg    \n",
            " extracting: 바위_test_1/47.jpg    \n",
            " extracting: 바위_test_1/48.jpg    \n",
            " extracting: 바위_test_1/49.jpg    \n",
            " extracting: 바위_test_1/50.jpg    \n",
            " extracting: 바위_test_1/51.jpg    \n",
            " extracting: 바위_test_1/52.jpg    \n",
            " extracting: 바위_test_1/53.jpg    \n",
            " extracting: 바위_test_1/54.jpg    \n",
            " extracting: 바위_test_1/55.jpg    \n",
            " extracting: 바위_test_1/56.jpg    \n",
            " extracting: 바위_test_1/57.jpg    \n",
            " extracting: 바위_test_1/58.jpg    \n",
            " extracting: 바위_test_1/59.jpg    \n",
            " extracting: 바위_test_1/60.jpg    \n",
            " extracting: 바위_test_1/61.jpg    \n",
            " extracting: 바위_test_1/62.jpg    \n",
            " extracting: 바위_test_1/63.jpg    \n",
            " extracting: 바위_test_1/64.jpg    \n",
            " extracting: 바위_test_1/65.jpg    \n",
            " extracting: 바위_test_1/66.jpg    \n",
            " extracting: 바위_test_1/67.jpg    \n",
            " extracting: 바위_test_1/68.jpg    \n",
            " extracting: 바위_test_1/69.jpg    \n",
            " extracting: 바위_test_1/70.jpg    \n",
            " extracting: 바위_test_1/71.jpg    \n",
            " extracting: 바위_test_1/72.jpg    \n",
            " extracting: 바위_test_1/73.jpg    \n",
            " extracting: 바위_test_1/74.jpg    \n",
            " extracting: 바위_test_1/75.jpg    \n",
            " extracting: 바위_test_1/76.jpg    \n",
            " extracting: 바위_test_1/77.jpg    \n",
            " extracting: 바위_test_1/78.jpg    \n",
            " extracting: 바위_test_1/79.jpg    \n",
            " extracting: 바위_test_1/80.jpg    \n",
            " extracting: 바위_test_1/81.jpg    \n",
            " extracting: 바위_test_1/82.jpg    \n",
            " extracting: 바위_test_1/83.jpg    \n",
            " extracting: 바위_test_1/84.jpg    \n",
            " extracting: 바위_test_1/85.jpg    \n",
            " extracting: 바위_test_1/86.jpg    \n",
            " extracting: 바위_test_1/87.jpg    \n",
            " extracting: 바위_test_1/88.jpg    \n",
            " extracting: 바위_test_1/89.jpg    \n",
            " extracting: 바위_test_1/90.jpg    \n",
            " extracting: 바위_test_1/91.jpg    \n",
            " extracting: 바위_test_1/92.jpg    \n",
            " extracting: 바위_test_1/93.jpg    \n",
            " extracting: 바위_test_1/94.jpg    \n",
            " extracting: 바위_test_1/95.jpg    \n",
            " extracting: 바위_test_1/96.jpg    \n",
            " extracting: 바위_test_1/97.jpg    \n",
            " extracting: 바위_test_1/98.jpg    \n",
            " extracting: 바위_test_1/99.jpg    \n",
            "Archive:  보_test-samples-1.zip\n",
            " extracting: 보_test_1/0.jpg        \n",
            " extracting: 보_test_1/1.jpg        \n",
            " extracting: 보_test_1/2.jpg        \n",
            " extracting: 보_test_1/3.jpg        \n",
            " extracting: 보_test_1/4.jpg        \n",
            " extracting: 보_test_1/5.jpg        \n",
            " extracting: 보_test_1/6.jpg        \n",
            " extracting: 보_test_1/7.jpg        \n",
            " extracting: 보_test_1/8.jpg        \n",
            " extracting: 보_test_1/9.jpg        \n",
            " extracting: 보_test_1/10.jpg       \n",
            " extracting: 보_test_1/11.jpg       \n",
            " extracting: 보_test_1/12.jpg       \n",
            " extracting: 보_test_1/13.jpg       \n",
            " extracting: 보_test_1/14.jpg       \n",
            " extracting: 보_test_1/15.jpg       \n",
            " extracting: 보_test_1/16.jpg       \n",
            " extracting: 보_test_1/17.jpg       \n",
            " extracting: 보_test_1/18.jpg       \n",
            " extracting: 보_test_1/19.jpg       \n",
            " extracting: 보_test_1/20.jpg       \n",
            " extracting: 보_test_1/21.jpg       \n",
            " extracting: 보_test_1/22.jpg       \n",
            " extracting: 보_test_1/23.jpg       \n",
            " extracting: 보_test_1/24.jpg       \n",
            " extracting: 보_test_1/25.jpg       \n",
            " extracting: 보_test_1/26.jpg       \n",
            " extracting: 보_test_1/27.jpg       \n",
            " extracting: 보_test_1/28.jpg       \n",
            " extracting: 보_test_1/29.jpg       \n",
            " extracting: 보_test_1/30.jpg       \n",
            " extracting: 보_test_1/31.jpg       \n",
            " extracting: 보_test_1/32.jpg       \n",
            " extracting: 보_test_1/33.jpg       \n",
            " extracting: 보_test_1/34.jpg       \n",
            " extracting: 보_test_1/35.jpg       \n",
            " extracting: 보_test_1/36.jpg       \n",
            " extracting: 보_test_1/37.jpg       \n",
            " extracting: 보_test_1/38.jpg       \n",
            " extracting: 보_test_1/39.jpg       \n",
            " extracting: 보_test_1/40.jpg       \n",
            " extracting: 보_test_1/41.jpg       \n",
            " extracting: 보_test_1/42.jpg       \n",
            " extracting: 보_test_1/43.jpg       \n",
            " extracting: 보_test_1/44.jpg       \n",
            " extracting: 보_test_1/45.jpg       \n",
            " extracting: 보_test_1/46.jpg       \n",
            " extracting: 보_test_1/47.jpg       \n",
            " extracting: 보_test_1/48.jpg       \n",
            " extracting: 보_test_1/49.jpg       \n",
            " extracting: 보_test_1/50.jpg       \n",
            " extracting: 보_test_1/51.jpg       \n",
            " extracting: 보_test_1/52.jpg       \n",
            " extracting: 보_test_1/53.jpg       \n",
            " extracting: 보_test_1/54.jpg       \n",
            " extracting: 보_test_1/55.jpg       \n",
            " extracting: 보_test_1/56.jpg       \n",
            " extracting: 보_test_1/57.jpg       \n",
            " extracting: 보_test_1/58.jpg       \n",
            " extracting: 보_test_1/59.jpg       \n",
            " extracting: 보_test_1/60.jpg       \n",
            " extracting: 보_test_1/61.jpg       \n",
            " extracting: 보_test_1/62.jpg       \n",
            " extracting: 보_test_1/63.jpg       \n",
            " extracting: 보_test_1/64.jpg       \n",
            " extracting: 보_test_1/65.jpg       \n",
            " extracting: 보_test_1/66.jpg       \n",
            " extracting: 보_test_1/67.jpg       \n",
            " extracting: 보_test_1/68.jpg       \n",
            " extracting: 보_test_1/69.jpg       \n",
            " extracting: 보_test_1/70.jpg       \n",
            " extracting: 보_test_1/71.jpg       \n",
            " extracting: 보_test_1/72.jpg       \n",
            " extracting: 보_test_1/73.jpg       \n",
            " extracting: 보_test_1/74.jpg       \n",
            " extracting: 보_test_1/75.jpg       \n",
            " extracting: 보_test_1/76.jpg       \n",
            " extracting: 보_test_1/77.jpg       \n",
            " extracting: 보_test_1/78.jpg       \n",
            " extracting: 보_test_1/79.jpg       \n",
            " extracting: 보_test_1/80.jpg       \n",
            " extracting: 보_test_1/81.jpg       \n",
            " extracting: 보_test_1/82.jpg       \n",
            " extracting: 보_test_1/83.jpg       \n",
            " extracting: 보_test_1/84.jpg       \n",
            " extracting: 보_test_1/85.jpg       \n",
            " extracting: 보_test_1/86.jpg       \n",
            " extracting: 보_test_1/87.jpg       \n",
            " extracting: 보_test_1/88.jpg       \n",
            " extracting: 보_test_1/89.jpg       \n",
            " extracting: 보_test_1/90.jpg       \n",
            " extracting: 보_test_1/91.jpg       \n",
            " extracting: 보_test_1/92.jpg       \n",
            " extracting: 보_test_1/93.jpg       \n",
            " extracting: 보_test_1/94.jpg       \n",
            " extracting: 보_test_1/95.jpg       \n",
            " extracting: 보_test_1/96.jpg       \n",
            " extracting: 보_test_1/97.jpg       \n",
            " extracting: 보_test_1/98.jpg       \n",
            " extracting: 보_test_1/99.jpg       \n"
          ]
        }
      ]
    },
    {
      "cell_type": "code",
      "source": [
        "import numpy as np\n",
        "from sklearn.utils import shuffle\n",
        "\n",
        "def load_test_data(img_path):\n",
        "    # 가위 : 0, 바위 : 1, 보 : 2\n",
        "    img_size=28\n",
        "    color=3\n",
        "\n",
        "    # 데이터의 개수 자동 조정\n",
        "    all_images = glob.glob(f'./가위_test/*.jpg') + \\\n",
        "                 glob.glob(f'./바위_test/*.jpg') + \\\n",
        "                 glob.glob(f'./보_test/*.jpg')\n",
        "    number_of_data = len(all_images)\n",
        "\n",
        "    #이미지 데이터와 라벨(가위 : 0, 바위 : 1, 보 : 2) 데이터를 담을 행렬(matrix) 영역을 생성\n",
        "    imgs=np.zeros(number_of_data*img_size*img_size*color,dtype=np.int32).reshape(number_of_data,img_size,img_size,color)\n",
        "    labels=np.zeros(number_of_data,dtype=np.int32)\n",
        "\n",
        "\n",
        "\n",
        "    idx=0\n",
        "    for file in glob.iglob('./가위_test/*.jpg'):\n",
        "        img = np.array(Image.open(file),dtype=np.int32)\n",
        "        imgs[idx,:,:,:]=img    # 데이터 영역에 이미지 행렬을 복사\n",
        "        labels[idx]=0   # 가위 : 0\n",
        "        idx=idx+1\n",
        "\n",
        "    for file in glob.iglob('./바위_test/*.jpg'):\n",
        "        img = np.array(Image.open(file),dtype=np.int32)\n",
        "        imgs[idx,:,:,:]=img    # 데이터 영역에 이미지 행렬을 복사\n",
        "        labels[idx]=1   # 바위 : 1\n",
        "        idx=idx+1\n",
        "\n",
        "    for file in glob.iglob('./보_test/*.jpg'):\n",
        "        img = np.array(Image.open(file),dtype=np.int32)\n",
        "        imgs[idx,:,:,:]=img    # 데이터 영역에 이미지 행렬을 복사\n",
        "        labels[idx]=2   # 보 : 2\n",
        "        idx=idx+1\n",
        "\n",
        "    print(\"테스트데이터(x_test)의 이미지 개수는\", idx,\"입니다.\")\n",
        "    return imgs, labels\n",
        "\n",
        "image_dir_path = \".\"\n",
        "(x_train, y_train)=load_data(image_dir_path)\n",
        "\n",
        "x_train, y_train = shuffle(x_train, y_train, random_state=42)\n",
        "x_train_norm = x_train/255.0   # 입력은 0~1 사이의 값으로 정규화\n",
        "\n",
        "print(\"x_test shape: {}\".format(x_train.shape))\n",
        "print(\"y_test shape: {}\".format(y_train.shape))"
      ],
      "metadata": {
        "colab": {
          "base_uri": "https://localhost:8080/"
        },
        "id": "GEW2JoHIDdU1",
        "outputId": "ef77d44b-807a-40d5-d1d0-ead1cafe16f8"
      },
      "execution_count": 41,
      "outputs": [
        {
          "output_type": "stream",
          "name": "stdout",
          "text": [
            "학습데이터(x_train)의 이미지 개수는 328 입니다.\n",
            "x_test shape: (328, 28, 28, 3)\n",
            "y_test shape: (328,)\n"
          ]
        }
      ]
    },
    {
      "cell_type": "code",
      "source": [
        "image_dir_path = \"./가위_test\"\n",
        "resize_images(image_dir_path)\n",
        "\n",
        "image_dir_path = \"./바위_test\"\n",
        "resize_images(image_dir_path)\n",
        "\n",
        "image_dir_path = \"./보_test\"\n",
        "resize_images(image_dir_path)\n",
        "\n",
        "image_dir_path = \".\"\n",
        "(x_test, y_test)=load_test_data(image_dir_path)\n",
        "x_test_norm = x_test/255.0   # 입력은 0~1 사이의 값으로 정규화\n",
        "print(\"x_test shape: {}\".format(x_test.shape))\n",
        "print(\"y_test shape: {}\".format(y_test.shape))"
      ],
      "metadata": {
        "colab": {
          "base_uri": "https://localhost:8080/"
        },
        "id": "_oY-nyVEDjS3",
        "outputId": "54e0a308-cc31-4bda-d8d0-bdb189eb523d"
      },
      "execution_count": 42,
      "outputs": [
        {
          "output_type": "stream",
          "name": "stdout",
          "text": [
            "100  images to be resized.\n",
            "100  images resized.\n",
            "100  images to be resized.\n",
            "100  images resized.\n",
            "100  images to be resized.\n",
            "100  images resized.\n",
            "테스트데이터(x_test)의 이미지 개수는 300 입니다.\n",
            "x_test shape: (300, 28, 28, 3)\n",
            "y_test shape: (300,)\n"
          ]
        }
      ]
    },
    {
      "cell_type": "code",
      "source": [
        "test_loss, test_accuracy = model.evaluate(x_test, y_test, verbose=2)\n",
        "print(\"test_loss: {} \".format(test_loss))\n",
        "print(\"test_accuracy: {}\".format(test_accuracy))"
      ],
      "metadata": {
        "colab": {
          "base_uri": "https://localhost:8080/"
        },
        "id": "XqOv-2dqDlRq",
        "outputId": "ffe634c9-8ecd-48e0-db98-9380a9868596"
      },
      "execution_count": 43,
      "outputs": [
        {
          "output_type": "stream",
          "name": "stdout",
          "text": [
            "10/10 - 0s - 19ms/step - accuracy: 0.3333 - loss: 9.3196\n",
            "test_loss: 9.319622993469238 \n",
            "test_accuracy: 0.3333333432674408\n"
          ]
        }
      ]
    },
    {
      "cell_type": "markdown",
      "source": [
        "파라미터 조정 + 데이터셋 다양하게 해봄으로써 오버피팅 극복을 해보려고 했으나 실패한걸로..."
      ],
      "metadata": {
        "id": "xXvukSWbDl5n"
      }
    }
  ]
}